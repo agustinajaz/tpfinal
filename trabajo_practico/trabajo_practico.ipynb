{
 "cells": [
  {
   "cell_type": "code",
   "execution_count": 5,
   "metadata": {},
   "outputs": [],
   "source": [
    "import pandas as pd\n",
    "import pylab as pl\n",
    "import seaborn as sns\n",
    "import matplotlib.pyplot as plt\n",
    "import numpy as np"
   ]
  },
  {
   "cell_type": "markdown",
   "metadata": {},
   "source": [
    "## Trabajo Practico Final\n",
    "En este trabajo practico vamos a analizar los datos de una agencia de publicidad con influencers via distintas plataformas (Instagram, Facebook, Twitter, etc).\n",
    "\n",
    "El primero DF que vamos a analizar es el que contiene data demografia de los distintos perfiles con sus followers y alguna data adicional. El segundo DF contiene informacion individual de los diversos contenidos publicados por los creadores de contenidos\n",
    "\n",
    "El objetivo de este trabajo es analizar si las bases de datos de la agencia ZZZ estan correctamente cargadas y en caso de que no detectar a que departamento debemos pedirle que mejore su performance. Por otro lado, con un analisis exploratio podriamos obtener insights que nos ayuden a la implementacion de diversas campañas de marketing generando que el negocio mejore tanto en reputacion como en rentabilidad\n",
    "Por ultimo, buscaremos una relacion entre las diversas metricas para ver si podemos utilizar el conocimiento que tienen nuestros datos para futuras campañas o mismo hacer benchmarking"
   ]
  },
  {
   "cell_type": "markdown",
   "source": [
    "# DF Influencer Data"
   ],
   "metadata": {
    "collapsed": false
   }
  },
  {
   "cell_type": "markdown",
   "metadata": {},
   "source": [
    "Los datos de este DF los podemos obtener de 2 maneras:\n",
    "1. Los creadores de contenido nos comparten las fotos de sus metricas\n",
    "2. En caso de que no las compartan, se estiman segun perfiles similares que las plataformas nos indican por compartir similitud demografica\n",
    "Esta informacion se ve en la columna de \"tenemos datos?\". En el caso de \"Parcial\" se debe a que mando sus metricas reales pero algunas siguen faltando"
   ]
  },
  {
   "cell_type": "code",
   "execution_count": 6,
   "metadata": {},
   "outputs": [],
   "source": [
    "path_file1 = \"data/TEMPLATE ARGENTINA - Con modificacion Talent (1)-2.xlsx\""
   ]
  },
  {
   "cell_type": "code",
   "execution_count": 7,
   "metadata": {},
   "outputs": [],
   "source": [
    "data_influencers = pd.read_excel(path_file1)"
   ]
  },
  {
   "cell_type": "code",
   "execution_count": 8,
   "metadata": {},
   "outputs": [
    {
     "data": {
      "text/plain": "            Account                                        Link  \\\n0      alfonsobenja      https://www.instagram.com/alfonsobenja   \n1  lucianocaceresok  https://www.instagram.com/lucianocaceresok   \n2        ludovicods        https://www.instagram.com/ludovicods   \n3         ailinzeta         https://www.instagram.com/ailinzeta   \n4          basnicar          https://www.instagram.com/basnicar   \n\n  Tenemos datos? Fecha ultima actualización data     similar a   Followers  \\\n0             Si                       2021-03-27           NaN   389358.0   \n1             No                       2021-06-17    ludovicods   153011.0   \n2        Parcial                       2018-10-23  alfonsobenja   342601.0   \n3             No                       2019-02-28  florjazminpe    20200.0   \n4             No                       2019-09-19   stefroitman   858457.0   \n\n   1ra Categoría 2da Categoría 3ra Categoría      ER  ...  F 35-44  F 45-54  \\\n0  Actor/Actress           NaN           NaN  0.0532  ...    0.130     0.03   \n1  Actor/Actress           NaN           NaN  0.0100  ...    0.130     0.03   \n2  Actor/Actress         model           NaN  0.0560  ...    0.130     0.03   \n3  Actor/Actress           NaN           NaN  0.0950  ...    0.148     0.05   \n4  Actor/Actress         Model           NaN  0.0490  ...    0.090     0.03   \n\n   F 55-64  F \"+65\"  Argentina  Other  CPM historico  Tiene Fee Plataforma?  \\\n0    0.001   -0.001      0.880  0.120            0.0                     no   \n1    0.001   -0.001      0.930  0.070            NaN                    NaN   \n2    0.001   -0.001      0.930  0.070            0.0                    NaN   \n3    0.010    0.000      0.816  0.184            NaN                    NaN   \n4    0.010    0.010      0.650  0.350            0.0                    NaN   \n\n   REPRESENTANTE  Nombre Perfil  \n0             si             si  \n1            NaN            NaN  \n2            NaN            NaN  \n3            NaN            NaN  \n4            NaN            NaN  \n\n[5 rows x 32 columns]",
      "text/html": "<div>\n<style scoped>\n    .dataframe tbody tr th:only-of-type {\n        vertical-align: middle;\n    }\n\n    .dataframe tbody tr th {\n        vertical-align: top;\n    }\n\n    .dataframe thead th {\n        text-align: right;\n    }\n</style>\n<table border=\"1\" class=\"dataframe\">\n  <thead>\n    <tr style=\"text-align: right;\">\n      <th></th>\n      <th>Account</th>\n      <th>Link</th>\n      <th>Tenemos datos?</th>\n      <th>Fecha ultima actualización data</th>\n      <th>similar a</th>\n      <th>Followers</th>\n      <th>1ra Categoría</th>\n      <th>2da Categoría</th>\n      <th>3ra Categoría</th>\n      <th>ER</th>\n      <th>...</th>\n      <th>F 35-44</th>\n      <th>F 45-54</th>\n      <th>F 55-64</th>\n      <th>F \"+65\"</th>\n      <th>Argentina</th>\n      <th>Other</th>\n      <th>CPM historico</th>\n      <th>Tiene Fee Plataforma?</th>\n      <th>REPRESENTANTE</th>\n      <th>Nombre Perfil</th>\n    </tr>\n  </thead>\n  <tbody>\n    <tr>\n      <th>0</th>\n      <td>alfonsobenja</td>\n      <td>https://www.instagram.com/alfonsobenja</td>\n      <td>Si</td>\n      <td>2021-03-27</td>\n      <td>NaN</td>\n      <td>389358.0</td>\n      <td>Actor/Actress</td>\n      <td>NaN</td>\n      <td>NaN</td>\n      <td>0.0532</td>\n      <td>...</td>\n      <td>0.130</td>\n      <td>0.03</td>\n      <td>0.001</td>\n      <td>-0.001</td>\n      <td>0.880</td>\n      <td>0.120</td>\n      <td>0.0</td>\n      <td>no</td>\n      <td>si</td>\n      <td>si</td>\n    </tr>\n    <tr>\n      <th>1</th>\n      <td>lucianocaceresok</td>\n      <td>https://www.instagram.com/lucianocaceresok</td>\n      <td>No</td>\n      <td>2021-06-17</td>\n      <td>ludovicods</td>\n      <td>153011.0</td>\n      <td>Actor/Actress</td>\n      <td>NaN</td>\n      <td>NaN</td>\n      <td>0.0100</td>\n      <td>...</td>\n      <td>0.130</td>\n      <td>0.03</td>\n      <td>0.001</td>\n      <td>-0.001</td>\n      <td>0.930</td>\n      <td>0.070</td>\n      <td>NaN</td>\n      <td>NaN</td>\n      <td>NaN</td>\n      <td>NaN</td>\n    </tr>\n    <tr>\n      <th>2</th>\n      <td>ludovicods</td>\n      <td>https://www.instagram.com/ludovicods</td>\n      <td>Parcial</td>\n      <td>2018-10-23</td>\n      <td>alfonsobenja</td>\n      <td>342601.0</td>\n      <td>Actor/Actress</td>\n      <td>model</td>\n      <td>NaN</td>\n      <td>0.0560</td>\n      <td>...</td>\n      <td>0.130</td>\n      <td>0.03</td>\n      <td>0.001</td>\n      <td>-0.001</td>\n      <td>0.930</td>\n      <td>0.070</td>\n      <td>0.0</td>\n      <td>NaN</td>\n      <td>NaN</td>\n      <td>NaN</td>\n    </tr>\n    <tr>\n      <th>3</th>\n      <td>ailinzeta</td>\n      <td>https://www.instagram.com/ailinzeta</td>\n      <td>No</td>\n      <td>2019-02-28</td>\n      <td>florjazminpe</td>\n      <td>20200.0</td>\n      <td>Actor/Actress</td>\n      <td>NaN</td>\n      <td>NaN</td>\n      <td>0.0950</td>\n      <td>...</td>\n      <td>0.148</td>\n      <td>0.05</td>\n      <td>0.010</td>\n      <td>0.000</td>\n      <td>0.816</td>\n      <td>0.184</td>\n      <td>NaN</td>\n      <td>NaN</td>\n      <td>NaN</td>\n      <td>NaN</td>\n    </tr>\n    <tr>\n      <th>4</th>\n      <td>basnicar</td>\n      <td>https://www.instagram.com/basnicar</td>\n      <td>No</td>\n      <td>2019-09-19</td>\n      <td>stefroitman</td>\n      <td>858457.0</td>\n      <td>Actor/Actress</td>\n      <td>Model</td>\n      <td>NaN</td>\n      <td>0.0490</td>\n      <td>...</td>\n      <td>0.090</td>\n      <td>0.03</td>\n      <td>0.010</td>\n      <td>0.010</td>\n      <td>0.650</td>\n      <td>0.350</td>\n      <td>0.0</td>\n      <td>NaN</td>\n      <td>NaN</td>\n      <td>NaN</td>\n    </tr>\n  </tbody>\n</table>\n<p>5 rows × 32 columns</p>\n</div>"
     },
     "execution_count": 8,
     "metadata": {},
     "output_type": "execute_result"
    }
   ],
   "source": [
    "data_influencers.head()"
   ]
  },
  {
   "cell_type": "code",
   "execution_count": 9,
   "outputs": [
    {
     "data": {
      "text/plain": "Index(['Account', 'Link', 'Tenemos datos?', 'Fecha ultima actualización data ',\n       'similar a ', 'Followers', '1ra Categoría', '2da Categoría',\n       '3ra Categoría', 'ER', '% Male', '% Female', 'M 13-17', 'M 18-24',\n       'M 25-34', 'M 35-44', 'M 45-54', 'M 55-64', 'M \"+65\"', 'F 13-17',\n       'F 18-24', 'F 25-34', 'F 35-44', 'F 45-54', 'F 55-64', 'F \"+65\"',\n       'Argentina', 'Other', 'CPM historico', 'Tiene Fee Plataforma?',\n       'REPRESENTANTE', 'Nombre Perfil'],\n      dtype='object')"
     },
     "execution_count": 9,
     "metadata": {},
     "output_type": "execute_result"
    }
   ],
   "source": [
    "data_influencers.columns"
   ],
   "metadata": {
    "collapsed": false
   }
  },
  {
   "cell_type": "markdown",
   "source": [
    "Esta tabla tiene diversas columnas. Lo siguiente que haremos es describir cada columna individualmente\n",
    "- Account: nombre del perfil (tal como aparece en la plataforma)\n",
    "- Link: es el URL para ir al perfil del creador de contenido\n",
    "- Tenemos datos?: determina si los datos fueron enviados o no\n",
    "- Fecha ultima actualización data: Este campo se actualiza solo con las modificaciones de metricas demograficas. NO con followers o ER\n",
    "- Similar a: describe si ese perfil es similar a otra creador de contenido\n",
    "- Followers: tamaño de su audiencia\n",
    "- 1era categoria: Es la principal categoria del tipo de contenido que ese perfil genera\n",
    "- 2da categoria: Es la segunda categoria de los contenidos.\n",
    "- 3er categoria: Es la tercer categoria de los contenidos\n",
    "(Es importante mencionar que no todos los perfiles cuentan con 2da o 3er categoria)\n",
    "- ER: Es el Engagment Rate del perfil a la ultima actualizacion. (a modo informativo, el ER es como es la interaccion de la audiencia con los contenidos)\n",
    "- %Male, %Female, M 13-17, M18-24 a F+65, describe el % que tiene ese perfil en los diversos segmentos. En este caso es importante mencionar que todo lo que comienze con M debe sumar 100% y todo F tambien. Lo mismo sucede con el %Male + %Female = 100%\n",
    "- Argentina & Other: es el % de audiencia ubicada en Argentina y other es el complemento\n",
    "- Las demas columnas son una prueba de los ultimos meses, por lo cual no es pertinente el analisis porque aun no estan completas\n"
   ],
   "metadata": {
    "collapsed": false
   }
  },
  {
   "cell_type": "markdown",
   "metadata": {},
   "source": [
    "Las columnas de CPM Historico, tiene fee plataforma, representante y nombre perfil las vamos a eliminar porque estan en proceso de armado y van encontrarse muchos nulos."
   ]
  },
  {
   "cell_type": "markdown",
   "metadata": {},
   "source": [
    "Ahora vamos a analizar cuantas filas y columnas tenemos en nuestra base junto a su tipo de dato"
   ]
  },
  {
   "cell_type": "code",
   "execution_count": 10,
   "outputs": [],
   "source": [
    "data_influencers = data_influencers.drop(['CPM historico','Tiene Fee Plataforma?','REPRESENTANTE','Nombre Perfil'], axis=1)"
   ],
   "metadata": {
    "collapsed": false
   }
  },
  {
   "cell_type": "code",
   "execution_count": 11,
   "metadata": {},
   "outputs": [
    {
     "name": "stdout",
     "output_type": "stream",
     "text": [
      " El dataframe es un excel con data de los influencers argentinos por plataforma. En el dataset hay 3505 filas y 28.los tipos de datos por columnas son Account                                     object\n",
      "Link                                        object\n",
      "Tenemos datos?                              object\n",
      "Fecha ultima actualización data     datetime64[ns]\n",
      "similar a                                   object\n",
      "Followers                                  float64\n",
      "1ra Categoría                               object\n",
      "2da Categoría                               object\n",
      "3ra Categoría                               object\n",
      "ER                                         float64\n",
      "% Male                                     float64\n",
      "% Female                                   float64\n",
      "M 13-17                                    float64\n",
      "M 18-24                                    float64\n",
      "M 25-34                                    float64\n",
      "M 35-44                                    float64\n",
      "M 45-54                                    float64\n",
      "M 55-64                                    float64\n",
      "M \"+65\"                                    float64\n",
      "F 13-17                                    float64\n",
      "F 18-24                                    float64\n",
      "F 25-34                                    float64\n",
      "F 35-44                                    float64\n",
      "F 45-54                                    float64\n",
      "F 55-64                                    float64\n",
      "F \"+65\"                                    float64\n",
      "Argentina                                  float64\n",
      "Other                                      float64\n",
      "dtype: object\n"
     ]
    }
   ],
   "source": [
    "print(f\" El dataframe es un excel con data de los influencers argentinos por plataforma. En el dataset hay {data_influencers.shape[0]} filas y {data_influencers.shape[1]}.los tipos de datos por columnas son {data_influencers.dtypes}\")"
   ]
  },
  {
   "cell_type": "markdown",
   "source": [
    "Vamos a analizar si contamos con datos duplicados"
   ],
   "metadata": {
    "collapsed": false
   }
  },
  {
   "cell_type": "code",
   "execution_count": 12,
   "outputs": [
    {
     "data": {
      "text/plain": "0"
     },
     "execution_count": 12,
     "metadata": {},
     "output_type": "execute_result"
    }
   ],
   "source": [
    "cantidad_duplicados = len(data_influencers) - len(data_influencers.drop_duplicates())\n",
    "cantidad_duplicados"
   ],
   "metadata": {
    "collapsed": false
   }
  },
  {
   "cell_type": "markdown",
   "metadata": {},
   "source": [
    "Y para ver si contamos con celdas vacias/faltantes vamos a usar el siguiente codigo"
   ]
  },
  {
   "cell_type": "code",
   "execution_count": 13,
   "metadata": {},
   "outputs": [
    {
     "data": {
      "text/plain": "Account                                0\nLink                                  11\nTenemos datos?                         0\nFecha ultima actualización data        0\nsimilar a                            801\nFollowers                              1\n1ra Categoría                          0\n2da Categoría                       2767\n3ra Categoría                       3381\nER                                     0\n% Male                                 0\n% Female                               0\nM 13-17                              166\nM 18-24                              163\nM 25-34                              162\nM 35-44                              164\nM 45-54                              174\nM 55-64                              178\nM \"+65\"                              165\nF 13-17                              172\nF 18-24                              165\nF 25-34                              165\nF 35-44                              165\nF 45-54                              174\nF 55-64                              174\nF \"+65\"                              173\nArgentina                              0\nOther                                  0\ndtype: int64"
     },
     "execution_count": 13,
     "metadata": {},
     "output_type": "execute_result"
    }
   ],
   "source": [
    "data_influencers.isna().sum()"
   ]
  },
  {
   "cell_type": "markdown",
   "metadata": {},
   "source": [
    "Porcentaje de faltantas"
   ]
  },
  {
   "cell_type": "code",
   "execution_count": 14,
   "metadata": {},
   "outputs": [
    {
     "data": {
      "text/plain": "Account                             0.000000\nLink                                0.003138\nTenemos datos?                      0.000000\nFecha ultima actualización data     0.000000\nsimilar a                           0.228531\nFollowers                           0.000285\n1ra Categoría                       0.000000\n2da Categoría                       0.789444\n3ra Categoría                       0.964622\nER                                  0.000000\n% Male                              0.000000\n% Female                            0.000000\nM 13-17                             0.047361\nM 18-24                             0.046505\nM 25-34                             0.046220\nM 35-44                             0.046790\nM 45-54                             0.049643\nM 55-64                             0.050785\nM \"+65\"                             0.047076\nF 13-17                             0.049073\nF 18-24                             0.047076\nF 25-34                             0.047076\nF 35-44                             0.047076\nF 45-54                             0.049643\nF 55-64                             0.049643\nF \"+65\"                             0.049358\nArgentina                           0.000000\nOther                               0.000000\ndtype: float64"
     },
     "execution_count": 14,
     "metadata": {},
     "output_type": "execute_result"
    }
   ],
   "source": [
    "data_influencers.isna().sum()/len(data_influencers)"
   ]
  },
  {
   "cell_type": "markdown",
   "metadata": {},
   "source": [
    "En razonable que algunas columnas den nulos, como por ejemplo 2da categoría y 3er categoría porque no todos los creadores de contenido tienen mas de una categoria. Estas columnas se utilizar para los creadores de contenido que tienen distintos tipos de contenido.\n",
    "Por otro lado las columnas de Argentina, Other, ER, Followers y % Male/Female no pueden tener nulos porque todos los perfiles en todas las plataformas tienen estos datos disponibles.\n",
    "Por ultimo, el rango etario puede contener nulos porque ciertas plataformas como TikTok no cuenta con esa informacion."
   ]
  },
  {
   "cell_type": "markdown",
   "metadata": {},
   "source": [
    "En el caso de nulo de followers lo vamos a analizar para eliminar porque no nos sirve el registro para nuestro analisis"
   ]
  },
  {
   "cell_type": "code",
   "execution_count": 15,
   "metadata": {},
   "outputs": [
    {
     "data": {
      "text/plain": "            Account                                     Link Tenemos datos?  \\\n3495  serevaliconto  https://www.instagram.com/serevaliconto             Si   \n\n     Fecha ultima actualización data  similar a   Followers 1ra Categoría  \\\n3495                       2018-04-01        NaN        NaN  Instagrammer   \n\n     2da Categoría 3ra Categoría     ER  ...  M \"+65\"  F 13-17  F 18-24  \\\n3495           NaN           NaN  0.066  ...     0.05     0.01     0.45   \n\n      F 25-34  F 35-44  F 45-54  F 55-64  F \"+65\"  Argentina  Other  \n3495     0.38     0.09     0.04      0.0     0.03       0.89   0.11  \n\n[1 rows x 28 columns]",
      "text/html": "<div>\n<style scoped>\n    .dataframe tbody tr th:only-of-type {\n        vertical-align: middle;\n    }\n\n    .dataframe tbody tr th {\n        vertical-align: top;\n    }\n\n    .dataframe thead th {\n        text-align: right;\n    }\n</style>\n<table border=\"1\" class=\"dataframe\">\n  <thead>\n    <tr style=\"text-align: right;\">\n      <th></th>\n      <th>Account</th>\n      <th>Link</th>\n      <th>Tenemos datos?</th>\n      <th>Fecha ultima actualización data</th>\n      <th>similar a</th>\n      <th>Followers</th>\n      <th>1ra Categoría</th>\n      <th>2da Categoría</th>\n      <th>3ra Categoría</th>\n      <th>ER</th>\n      <th>...</th>\n      <th>M \"+65\"</th>\n      <th>F 13-17</th>\n      <th>F 18-24</th>\n      <th>F 25-34</th>\n      <th>F 35-44</th>\n      <th>F 45-54</th>\n      <th>F 55-64</th>\n      <th>F \"+65\"</th>\n      <th>Argentina</th>\n      <th>Other</th>\n    </tr>\n  </thead>\n  <tbody>\n    <tr>\n      <th>3495</th>\n      <td>serevaliconto</td>\n      <td>https://www.instagram.com/serevaliconto</td>\n      <td>Si</td>\n      <td>2018-04-01</td>\n      <td>NaN</td>\n      <td>NaN</td>\n      <td>Instagrammer</td>\n      <td>NaN</td>\n      <td>NaN</td>\n      <td>0.066</td>\n      <td>...</td>\n      <td>0.05</td>\n      <td>0.01</td>\n      <td>0.45</td>\n      <td>0.38</td>\n      <td>0.09</td>\n      <td>0.04</td>\n      <td>0.0</td>\n      <td>0.03</td>\n      <td>0.89</td>\n      <td>0.11</td>\n    </tr>\n  </tbody>\n</table>\n<p>1 rows × 28 columns</p>\n</div>"
     },
     "execution_count": 15,
     "metadata": {},
     "output_type": "execute_result"
    }
   ],
   "source": [
    "data_influencers[data_influencers.Followers.isna()]"
   ]
  },
  {
   "cell_type": "markdown",
   "metadata": {},
   "source": [
    "Al ser un perfil actualizado hace tanto tiempo podemos descartarlo porque seguramente existio un error al cargarlo"
   ]
  },
  {
   "cell_type": "code",
   "execution_count": 16,
   "metadata": {},
   "outputs": [],
   "source": [
    "data_influencers = data_influencers[data_influencers['Followers'].notna()]"
   ]
  },
  {
   "cell_type": "markdown",
   "source": [
    "Para corroborar que el registro ha sido eliminado correctamente ejecutaremos el codigo nuevamente"
   ],
   "metadata": {
    "collapsed": false
   }
  },
  {
   "cell_type": "code",
   "execution_count": 17,
   "metadata": {},
   "outputs": [
    {
     "data": {
      "text/plain": "Account                                0\nLink                                  11\nTenemos datos?                         0\nFecha ultima actualización data        0\nsimilar a                            800\nFollowers                              0\n1ra Categoría                          0\n2da Categoría                       2766\n3ra Categoría                       3380\nER                                     0\n% Male                                 0\n% Female                               0\nM 13-17                              166\nM 18-24                              163\nM 25-34                              162\nM 35-44                              164\nM 45-54                              174\nM 55-64                              178\nM \"+65\"                              165\nF 13-17                              172\nF 18-24                              165\nF 25-34                              165\nF 35-44                              165\nF 45-54                              174\nF 55-64                              174\nF \"+65\"                              173\nArgentina                              0\nOther                                  0\ndtype: int64"
     },
     "execution_count": 17,
     "metadata": {},
     "output_type": "execute_result"
    }
   ],
   "source": [
    "data_influencers.isna().sum()"
   ]
  },
  {
   "cell_type": "markdown",
   "source": [
    "Ahora lo que haremos en analizar algunos indicadores estadisticos para entender como se ponen las diversas categorias"
   ],
   "metadata": {
    "collapsed": false
   }
  },
  {
   "cell_type": "code",
   "execution_count": 18,
   "metadata": {},
   "outputs": [
    {
     "data": {
      "text/plain": "          Followers           ER       % Male     % Female      M 13-17  \\\ncount  3.504000e+03  3504.000000  3504.000000  3504.000000  3338.000000   \nmean   3.701081e+05     0.044798     0.272837     0.727265     0.028755   \nstd    1.021027e+06     0.057098     0.198578     0.198110     0.030841   \nmin    3.700000e+01     0.000000     0.010000     0.100000     0.000000   \n25%    2.438500e+04     0.012000     0.120000     0.630000     0.010000   \n50%    7.610000e+04     0.024600     0.215000     0.785000     0.020000   \n75%    2.815000e+05     0.053000     0.370000     0.880000     0.040000   \nmax    3.100000e+07     0.800000     0.900000     0.990000     0.280000   \n\n           M 18-24      M 25-34      M 35-44      M 45-54      M 55-64  \\\ncount  3341.000000  3342.000000  3340.000000  3330.000000  3326.000000   \nmean      0.243576     0.401583     0.211411     0.075680     0.021723   \nstd       0.116308     0.071210     0.081566     0.041368     0.019752   \nmin       0.000000     0.000000     0.000000     0.000000     0.000000   \n25%       0.150000     0.360000     0.150000     0.050000     0.010000   \n50%       0.239583     0.410000     0.200000     0.070000     0.020000   \n75%       0.330000     0.450000     0.270000     0.090000     0.030000   \nmax       0.562500     0.640000     0.530000     0.350000     0.280000   \n\n           M \"+65\"      F 13-17      F 18-24      F 25-34      F 35-44  \\\ncount  3339.000000  3332.000000  3339.000000  3339.000000  3339.000000   \nmean      0.022857     0.033054     0.263365     0.399038     0.196509   \nstd       0.077196     0.038460     0.138877     0.082096     0.092924   \nmin      -0.004000     0.000000     0.000000     0.000000     0.000000   \n25%       0.010000     0.010000     0.150000     0.341500     0.120000   \n50%       0.010000     0.020000     0.250000     0.410000     0.190000   \n75%       0.020000     0.045000     0.370000     0.453000     0.260000   \nmax       1.000000     0.280000     0.600000     0.620000     0.530000   \n\n           F 45-54      F 55-64      F \"+65\"    Argentina        Other  \ncount  3330.000000  3330.000000  3331.000000  3504.000000  3504.000000  \nmean      0.070615     0.022149     0.021341     0.802162     0.197489  \nstd       0.045290     0.021501     0.080360     0.141017     0.140279  \nmin       0.000000     0.000000    -0.005000     0.019000     0.000000  \n25%       0.040000     0.010000     0.010000     0.770000     0.100000  \n50%       0.060000     0.020000     0.010000     0.840000     0.160000  \n75%       0.080000     0.030000     0.019000     0.900000     0.230000  \nmax       0.350000     0.280000     1.000000     1.000000     0.981000  ",
      "text/html": "<div>\n<style scoped>\n    .dataframe tbody tr th:only-of-type {\n        vertical-align: middle;\n    }\n\n    .dataframe tbody tr th {\n        vertical-align: top;\n    }\n\n    .dataframe thead th {\n        text-align: right;\n    }\n</style>\n<table border=\"1\" class=\"dataframe\">\n  <thead>\n    <tr style=\"text-align: right;\">\n      <th></th>\n      <th>Followers</th>\n      <th>ER</th>\n      <th>% Male</th>\n      <th>% Female</th>\n      <th>M 13-17</th>\n      <th>M 18-24</th>\n      <th>M 25-34</th>\n      <th>M 35-44</th>\n      <th>M 45-54</th>\n      <th>M 55-64</th>\n      <th>M \"+65\"</th>\n      <th>F 13-17</th>\n      <th>F 18-24</th>\n      <th>F 25-34</th>\n      <th>F 35-44</th>\n      <th>F 45-54</th>\n      <th>F 55-64</th>\n      <th>F \"+65\"</th>\n      <th>Argentina</th>\n      <th>Other</th>\n    </tr>\n  </thead>\n  <tbody>\n    <tr>\n      <th>count</th>\n      <td>3.504000e+03</td>\n      <td>3504.000000</td>\n      <td>3504.000000</td>\n      <td>3504.000000</td>\n      <td>3338.000000</td>\n      <td>3341.000000</td>\n      <td>3342.000000</td>\n      <td>3340.000000</td>\n      <td>3330.000000</td>\n      <td>3326.000000</td>\n      <td>3339.000000</td>\n      <td>3332.000000</td>\n      <td>3339.000000</td>\n      <td>3339.000000</td>\n      <td>3339.000000</td>\n      <td>3330.000000</td>\n      <td>3330.000000</td>\n      <td>3331.000000</td>\n      <td>3504.000000</td>\n      <td>3504.000000</td>\n    </tr>\n    <tr>\n      <th>mean</th>\n      <td>3.701081e+05</td>\n      <td>0.044798</td>\n      <td>0.272837</td>\n      <td>0.727265</td>\n      <td>0.028755</td>\n      <td>0.243576</td>\n      <td>0.401583</td>\n      <td>0.211411</td>\n      <td>0.075680</td>\n      <td>0.021723</td>\n      <td>0.022857</td>\n      <td>0.033054</td>\n      <td>0.263365</td>\n      <td>0.399038</td>\n      <td>0.196509</td>\n      <td>0.070615</td>\n      <td>0.022149</td>\n      <td>0.021341</td>\n      <td>0.802162</td>\n      <td>0.197489</td>\n    </tr>\n    <tr>\n      <th>std</th>\n      <td>1.021027e+06</td>\n      <td>0.057098</td>\n      <td>0.198578</td>\n      <td>0.198110</td>\n      <td>0.030841</td>\n      <td>0.116308</td>\n      <td>0.071210</td>\n      <td>0.081566</td>\n      <td>0.041368</td>\n      <td>0.019752</td>\n      <td>0.077196</td>\n      <td>0.038460</td>\n      <td>0.138877</td>\n      <td>0.082096</td>\n      <td>0.092924</td>\n      <td>0.045290</td>\n      <td>0.021501</td>\n      <td>0.080360</td>\n      <td>0.141017</td>\n      <td>0.140279</td>\n    </tr>\n    <tr>\n      <th>min</th>\n      <td>3.700000e+01</td>\n      <td>0.000000</td>\n      <td>0.010000</td>\n      <td>0.100000</td>\n      <td>0.000000</td>\n      <td>0.000000</td>\n      <td>0.000000</td>\n      <td>0.000000</td>\n      <td>0.000000</td>\n      <td>0.000000</td>\n      <td>-0.004000</td>\n      <td>0.000000</td>\n      <td>0.000000</td>\n      <td>0.000000</td>\n      <td>0.000000</td>\n      <td>0.000000</td>\n      <td>0.000000</td>\n      <td>-0.005000</td>\n      <td>0.019000</td>\n      <td>0.000000</td>\n    </tr>\n    <tr>\n      <th>25%</th>\n      <td>2.438500e+04</td>\n      <td>0.012000</td>\n      <td>0.120000</td>\n      <td>0.630000</td>\n      <td>0.010000</td>\n      <td>0.150000</td>\n      <td>0.360000</td>\n      <td>0.150000</td>\n      <td>0.050000</td>\n      <td>0.010000</td>\n      <td>0.010000</td>\n      <td>0.010000</td>\n      <td>0.150000</td>\n      <td>0.341500</td>\n      <td>0.120000</td>\n      <td>0.040000</td>\n      <td>0.010000</td>\n      <td>0.010000</td>\n      <td>0.770000</td>\n      <td>0.100000</td>\n    </tr>\n    <tr>\n      <th>50%</th>\n      <td>7.610000e+04</td>\n      <td>0.024600</td>\n      <td>0.215000</td>\n      <td>0.785000</td>\n      <td>0.020000</td>\n      <td>0.239583</td>\n      <td>0.410000</td>\n      <td>0.200000</td>\n      <td>0.070000</td>\n      <td>0.020000</td>\n      <td>0.010000</td>\n      <td>0.020000</td>\n      <td>0.250000</td>\n      <td>0.410000</td>\n      <td>0.190000</td>\n      <td>0.060000</td>\n      <td>0.020000</td>\n      <td>0.010000</td>\n      <td>0.840000</td>\n      <td>0.160000</td>\n    </tr>\n    <tr>\n      <th>75%</th>\n      <td>2.815000e+05</td>\n      <td>0.053000</td>\n      <td>0.370000</td>\n      <td>0.880000</td>\n      <td>0.040000</td>\n      <td>0.330000</td>\n      <td>0.450000</td>\n      <td>0.270000</td>\n      <td>0.090000</td>\n      <td>0.030000</td>\n      <td>0.020000</td>\n      <td>0.045000</td>\n      <td>0.370000</td>\n      <td>0.453000</td>\n      <td>0.260000</td>\n      <td>0.080000</td>\n      <td>0.030000</td>\n      <td>0.019000</td>\n      <td>0.900000</td>\n      <td>0.230000</td>\n    </tr>\n    <tr>\n      <th>max</th>\n      <td>3.100000e+07</td>\n      <td>0.800000</td>\n      <td>0.900000</td>\n      <td>0.990000</td>\n      <td>0.280000</td>\n      <td>0.562500</td>\n      <td>0.640000</td>\n      <td>0.530000</td>\n      <td>0.350000</td>\n      <td>0.280000</td>\n      <td>1.000000</td>\n      <td>0.280000</td>\n      <td>0.600000</td>\n      <td>0.620000</td>\n      <td>0.530000</td>\n      <td>0.350000</td>\n      <td>0.280000</td>\n      <td>1.000000</td>\n      <td>1.000000</td>\n      <td>0.981000</td>\n    </tr>\n  </tbody>\n</table>\n</div>"
     },
     "execution_count": 18,
     "metadata": {},
     "output_type": "execute_result"
    }
   ],
   "source": [
    "data_influencers.describe()"
   ]
  },
  {
   "cell_type": "markdown",
   "metadata": {},
   "source": [
    "En este caso, podemos ver algunos datos erroneos como minimo negativo para \"M +65\" y \"F +65\" esto puede suceder porque se calcula como el resto y por decimal puede dar una pequeña diferencia. En este caos al ser tan pequeño el numero vamos a proseguir con el analisis."
   ]
  },
  {
   "cell_type": "markdown",
   "source": [
    "En el caso de Followers notamos que la media esta muy alejada de los maximos y el 75% por lo cual podemos inferir que tenemos pocos perfiles con muchos followers."
   ],
   "metadata": {
    "collapsed": false
   }
  },
  {
   "cell_type": "code",
   "execution_count": 19,
   "metadata": {},
   "outputs": [
    {
     "data": {
      "text/plain": "                  Account                                              Link  \\\n1168          paulodybala             https://www.instagram.com/paulodybala   \n383   ignaciaa_antonia TK  https://www.tiktok.com/@ignaciaa_antonia?lang=es   \n1611       sabina.sinr TK          https://www.instagram.com/sabina.sinr TK   \n\n     Tenemos datos? Fecha ultima actualización data            similar a   \\\n1168             No                       2022-04-27       pipagutierrez4   \n383              Si                       2022-08-20  ignaciaa_antonia CH   \n1611             No                       2021-01-04          sabina.sinr   \n\n       Followers 1ra Categoría 2da Categoría 3ra Categoría      ER  ...  \\\n1168  31000000.0       Deporte           NaN           NaN  0.0420  ...   \n383   14700000.0     Bailarina    Influencer           NaN  0.0100  ...   \n1611  14400000.0        Foodie           NaN           NaN  0.0217  ...   \n\n      M \"+65\"  F 13-17  F 18-24  F 25-34  F 35-44  F 45-54  F 55-64  F \"+65\"  \\\n1168     0.04     0.01     0.11     0.47     0.27     0.08     0.02     0.04   \n383      0.02     0.07     0.41     0.29     0.14     0.06     0.01     0.02   \n1611     0.01     0.01     0.20     0.45     0.22     0.08     0.03     0.01   \n\n      Argentina  Other  \n1168       0.75   0.25  \n383        0.12   0.88  \n1611       0.78   0.22  \n\n[3 rows x 28 columns]",
      "text/html": "<div>\n<style scoped>\n    .dataframe tbody tr th:only-of-type {\n        vertical-align: middle;\n    }\n\n    .dataframe tbody tr th {\n        vertical-align: top;\n    }\n\n    .dataframe thead th {\n        text-align: right;\n    }\n</style>\n<table border=\"1\" class=\"dataframe\">\n  <thead>\n    <tr style=\"text-align: right;\">\n      <th></th>\n      <th>Account</th>\n      <th>Link</th>\n      <th>Tenemos datos?</th>\n      <th>Fecha ultima actualización data</th>\n      <th>similar a</th>\n      <th>Followers</th>\n      <th>1ra Categoría</th>\n      <th>2da Categoría</th>\n      <th>3ra Categoría</th>\n      <th>ER</th>\n      <th>...</th>\n      <th>M \"+65\"</th>\n      <th>F 13-17</th>\n      <th>F 18-24</th>\n      <th>F 25-34</th>\n      <th>F 35-44</th>\n      <th>F 45-54</th>\n      <th>F 55-64</th>\n      <th>F \"+65\"</th>\n      <th>Argentina</th>\n      <th>Other</th>\n    </tr>\n  </thead>\n  <tbody>\n    <tr>\n      <th>1168</th>\n      <td>paulodybala</td>\n      <td>https://www.instagram.com/paulodybala</td>\n      <td>No</td>\n      <td>2022-04-27</td>\n      <td>pipagutierrez4</td>\n      <td>31000000.0</td>\n      <td>Deporte</td>\n      <td>NaN</td>\n      <td>NaN</td>\n      <td>0.0420</td>\n      <td>...</td>\n      <td>0.04</td>\n      <td>0.01</td>\n      <td>0.11</td>\n      <td>0.47</td>\n      <td>0.27</td>\n      <td>0.08</td>\n      <td>0.02</td>\n      <td>0.04</td>\n      <td>0.75</td>\n      <td>0.25</td>\n    </tr>\n    <tr>\n      <th>383</th>\n      <td>ignaciaa_antonia TK</td>\n      <td>https://www.tiktok.com/@ignaciaa_antonia?lang=es</td>\n      <td>Si</td>\n      <td>2022-08-20</td>\n      <td>ignaciaa_antonia CH</td>\n      <td>14700000.0</td>\n      <td>Bailarina</td>\n      <td>Influencer</td>\n      <td>NaN</td>\n      <td>0.0100</td>\n      <td>...</td>\n      <td>0.02</td>\n      <td>0.07</td>\n      <td>0.41</td>\n      <td>0.29</td>\n      <td>0.14</td>\n      <td>0.06</td>\n      <td>0.01</td>\n      <td>0.02</td>\n      <td>0.12</td>\n      <td>0.88</td>\n    </tr>\n    <tr>\n      <th>1611</th>\n      <td>sabina.sinr TK</td>\n      <td>https://www.instagram.com/sabina.sinr TK</td>\n      <td>No</td>\n      <td>2021-01-04</td>\n      <td>sabina.sinr</td>\n      <td>14400000.0</td>\n      <td>Foodie</td>\n      <td>NaN</td>\n      <td>NaN</td>\n      <td>0.0217</td>\n      <td>...</td>\n      <td>0.01</td>\n      <td>0.01</td>\n      <td>0.20</td>\n      <td>0.45</td>\n      <td>0.22</td>\n      <td>0.08</td>\n      <td>0.03</td>\n      <td>0.01</td>\n      <td>0.78</td>\n      <td>0.22</td>\n    </tr>\n  </tbody>\n</table>\n<p>3 rows × 28 columns</p>\n</div>"
     },
     "execution_count": 19,
     "metadata": {},
     "output_type": "execute_result"
    }
   ],
   "source": [
    "data_influencers.nlargest(3, 'Followers')"
   ]
  },
  {
   "cell_type": "markdown",
   "source": [
    "Por las duas, lo que haremos es convertir la columna de fecha a formato fecha"
   ],
   "metadata": {
    "collapsed": false
   }
  },
  {
   "cell_type": "code",
   "execution_count": 20,
   "metadata": {},
   "outputs": [],
   "source": [
    "data_influencers['Fecha ultima actualización data '] = pd.to_datetime(data_influencers['Fecha ultima actualización data '])"
   ]
  },
  {
   "cell_type": "markdown",
   "metadata": {},
   "source": [
    "Analizamos variables de DataFrame\n",
    "## 1. Followers"
   ]
  },
  {
   "cell_type": "code",
   "execution_count": 21,
   "metadata": {},
   "outputs": [
    {
     "name": "stdout",
     "output_type": "stream",
     "text": [
      " La cantidad de creadores de contenido en Argentina trabajando en la Agencia ZZZ son:3504 Estos 3504 creadores de contenido cuentan con 1296858756.0 followersEl promedio de followers por cuenta en todas las plataformas es de:370108.0\n"
     ]
    }
   ],
   "source": [
    "print(f\" La cantidad de creadores de contenido en Argentina trabajando en la Agencia ZZZ son:{data_influencers.Account.count()}\"\n",
    "      f\" Estos {data_influencers.Account.count()} creadores de contenido cuentan con {data_influencers.Followers.sum().round()} followers\"\n",
    "      f\"El promedio de followers por cuenta en todas las plataformas es de:{(data_influencers.Followers.sum() / data_influencers.Account.count()).round()}\")"
   ]
  },
  {
   "cell_type": "markdown",
   "metadata": {},
   "source": [
    " En esta variable de followers podemos agregar una nueva columna para segmentar entre Mega, Medio, Pequeno y Nicho segun la cantidad de followers.\n",
    "\n",
    "Algo similar a lo siguiente:"
   ]
  },
  {
   "cell_type": "code",
   "execution_count": 22,
   "metadata": {},
   "outputs": [
    {
     "name": "stderr",
     "output_type": "stream",
     "text": [
      "/Users/agustinajaz/opt/anaconda3/lib/python3.9/site-packages/seaborn/_decorators.py:36: FutureWarning: Pass the following variable as a keyword arg: x. From version 0.12, the only valid positional argument will be `data`, and passing other arguments without an explicit keyword will result in an error or misinterpretation.\n",
      "  warnings.warn(\n"
     ]
    },
    {
     "data": {
      "text/plain": "<Figure size 432x288 with 1 Axes>",
      "image/png": "[encoded data removed]"
     },
     "metadata": {},
     "output_type": "display_data"
    }
   ],
   "source": [
    "sns.boxplot(data_influencers['Followers']);"
   ]
  },
  {
   "cell_type": "markdown",
   "source": [
    "En este caso observamos que se comprueba nuestra hipotesis de que existen pocos perfiles muy por sobre la media, por lo cual vamos a filtarlos para analizar a la mayoria de nuestros creadores de contenido"
   ],
   "metadata": {
    "collapsed": false
   }
  },
  {
   "cell_type": "code",
   "execution_count": 23,
   "outputs": [],
   "source": [
    "filtro = data_influencers.Followers < 2000000"
   ],
   "metadata": {
    "collapsed": false
   }
  },
  {
   "cell_type": "code",
   "execution_count": 24,
   "metadata": {},
   "outputs": [
    {
     "name": "stderr",
     "output_type": "stream",
     "text": [
      "/Users/agustinajaz/opt/anaconda3/lib/python3.9/site-packages/seaborn/_decorators.py:36: FutureWarning: Pass the following variable as a keyword arg: x. From version 0.12, the only valid positional argument will be `data`, and passing other arguments without an explicit keyword will result in an error or misinterpretation.\n",
      "  warnings.warn(\n"
     ]
    },
    {
     "data": {
      "text/plain": "<Figure size 432x288 with 1 Axes>",
      "image/png": "[encoded data removed]"
     },
     "metadata": {},
     "output_type": "display_data"
    }
   ],
   "source": [
    "sns.boxplot(data_influencers[filtro]['Followers']);"
   ]
  },
  {
   "cell_type": "markdown",
   "source": [
    "Ahora si podemos analizar a la mayoria de nuestros creadores de contenido y esto nos permite poder armar una categorizacion de perfiles segun su cantidad de followers"
   ],
   "metadata": {
    "collapsed": false
   }
  },
  {
   "cell_type": "code",
   "execution_count": 25,
   "metadata": {},
   "outputs": [],
   "source": [
    "def tamaño_creador(x):\n",
    "    if x >=800000:\n",
    "        return 'Grande'\n",
    "    elif 300000 <= x < 800000:\n",
    "        return 'Medio'\n",
    "    else:\n",
    "        return 'Pequeño'\n",
    "\n",
    "data_influencers[\"tamaño_creador\"] = data_influencers[\"Followers\"].apply(tamaño_creador)"
   ]
  },
  {
   "cell_type": "markdown",
   "source": [
    "Para comprobar que la columna de tamaño_creador fue correctamente agregada seleccionaremos los primeros 5 creadores de contenido"
   ],
   "metadata": {
    "collapsed": false
   }
  },
  {
   "cell_type": "code",
   "execution_count": 26,
   "outputs": [
    {
     "data": {
      "text/plain": "            Account                                        Link  \\\n0      alfonsobenja      https://www.instagram.com/alfonsobenja   \n1  lucianocaceresok  https://www.instagram.com/lucianocaceresok   \n2        ludovicods        https://www.instagram.com/ludovicods   \n3         ailinzeta         https://www.instagram.com/ailinzeta   \n4          basnicar          https://www.instagram.com/basnicar   \n\n  Tenemos datos? Fecha ultima actualización data     similar a   Followers  \\\n0             Si                       2021-03-27           NaN   389358.0   \n1             No                       2021-06-17    ludovicods   153011.0   \n2        Parcial                       2018-10-23  alfonsobenja   342601.0   \n3             No                       2019-02-28  florjazminpe    20200.0   \n4             No                       2019-09-19   stefroitman   858457.0   \n\n   1ra Categoría 2da Categoría 3ra Categoría      ER  ...  F 13-17  F 18-24  \\\n0  Actor/Actress           NaN           NaN  0.0532  ...     0.04    0.340   \n1  Actor/Actress           NaN           NaN  0.0100  ...     0.04    0.340   \n2  Actor/Actress         model           NaN  0.0560  ...     0.04    0.340   \n3  Actor/Actress           NaN           NaN  0.0950  ...     0.03    0.309   \n4  Actor/Actress         Model           NaN  0.0490  ...     0.09    0.460   \n\n   F 25-34  F 35-44  F 45-54  F 55-64  F \"+65\"  Argentina  Other  \\\n0    0.460    0.130     0.03    0.001   -0.001      0.880  0.120   \n1    0.460    0.130     0.03    0.001   -0.001      0.930  0.070   \n2    0.460    0.130     0.03    0.001   -0.001      0.930  0.070   \n3    0.453    0.148     0.05    0.010    0.000      0.816  0.184   \n4    0.310    0.090     0.03    0.010    0.010      0.650  0.350   \n\n   tamaño_creador  \n0           Medio  \n1         Pequeño  \n2           Medio  \n3         Pequeño  \n4          Grande  \n\n[5 rows x 29 columns]",
      "text/html": "<div>\n<style scoped>\n    .dataframe tbody tr th:only-of-type {\n        vertical-align: middle;\n    }\n\n    .dataframe tbody tr th {\n        vertical-align: top;\n    }\n\n    .dataframe thead th {\n        text-align: right;\n    }\n</style>\n<table border=\"1\" class=\"dataframe\">\n  <thead>\n    <tr style=\"text-align: right;\">\n      <th></th>\n      <th>Account</th>\n      <th>Link</th>\n      <th>Tenemos datos?</th>\n      <th>Fecha ultima actualización data</th>\n      <th>similar a</th>\n      <th>Followers</th>\n      <th>1ra Categoría</th>\n      <th>2da Categoría</th>\n      <th>3ra Categoría</th>\n      <th>ER</th>\n      <th>...</th>\n      <th>F 13-17</th>\n      <th>F 18-24</th>\n      <th>F 25-34</th>\n      <th>F 35-44</th>\n      <th>F 45-54</th>\n      <th>F 55-64</th>\n      <th>F \"+65\"</th>\n      <th>Argentina</th>\n      <th>Other</th>\n      <th>tamaño_creador</th>\n    </tr>\n  </thead>\n  <tbody>\n    <tr>\n      <th>0</th>\n      <td>alfonsobenja</td>\n      <td>https://www.instagram.com/alfonsobenja</td>\n      <td>Si</td>\n      <td>2021-03-27</td>\n      <td>NaN</td>\n      <td>389358.0</td>\n      <td>Actor/Actress</td>\n      <td>NaN</td>\n      <td>NaN</td>\n      <td>0.0532</td>\n      <td>...</td>\n      <td>0.04</td>\n      <td>0.340</td>\n      <td>0.460</td>\n      <td>0.130</td>\n      <td>0.03</td>\n      <td>0.001</td>\n      <td>-0.001</td>\n      <td>0.880</td>\n      <td>0.120</td>\n      <td>Medio</td>\n    </tr>\n    <tr>\n      <th>1</th>\n      <td>lucianocaceresok</td>\n      <td>https://www.instagram.com/lucianocaceresok</td>\n      <td>No</td>\n      <td>2021-06-17</td>\n      <td>ludovicods</td>\n      <td>153011.0</td>\n      <td>Actor/Actress</td>\n      <td>NaN</td>\n      <td>NaN</td>\n      <td>0.0100</td>\n      <td>...</td>\n      <td>0.04</td>\n      <td>0.340</td>\n      <td>0.460</td>\n      <td>0.130</td>\n      <td>0.03</td>\n      <td>0.001</td>\n      <td>-0.001</td>\n      <td>0.930</td>\n      <td>0.070</td>\n      <td>Pequeño</td>\n    </tr>\n    <tr>\n      <th>2</th>\n      <td>ludovicods</td>\n      <td>https://www.instagram.com/ludovicods</td>\n      <td>Parcial</td>\n      <td>2018-10-23</td>\n      <td>alfonsobenja</td>\n      <td>342601.0</td>\n      <td>Actor/Actress</td>\n      <td>model</td>\n      <td>NaN</td>\n      <td>0.0560</td>\n      <td>...</td>\n      <td>0.04</td>\n      <td>0.340</td>\n      <td>0.460</td>\n      <td>0.130</td>\n      <td>0.03</td>\n      <td>0.001</td>\n      <td>-0.001</td>\n      <td>0.930</td>\n      <td>0.070</td>\n      <td>Medio</td>\n    </tr>\n    <tr>\n      <th>3</th>\n      <td>ailinzeta</td>\n      <td>https://www.instagram.com/ailinzeta</td>\n      <td>No</td>\n      <td>2019-02-28</td>\n      <td>florjazminpe</td>\n      <td>20200.0</td>\n      <td>Actor/Actress</td>\n      <td>NaN</td>\n      <td>NaN</td>\n      <td>0.0950</td>\n      <td>...</td>\n      <td>0.03</td>\n      <td>0.309</td>\n      <td>0.453</td>\n      <td>0.148</td>\n      <td>0.05</td>\n      <td>0.010</td>\n      <td>0.000</td>\n      <td>0.816</td>\n      <td>0.184</td>\n      <td>Pequeño</td>\n    </tr>\n    <tr>\n      <th>4</th>\n      <td>basnicar</td>\n      <td>https://www.instagram.com/basnicar</td>\n      <td>No</td>\n      <td>2019-09-19</td>\n      <td>stefroitman</td>\n      <td>858457.0</td>\n      <td>Actor/Actress</td>\n      <td>Model</td>\n      <td>NaN</td>\n      <td>0.0490</td>\n      <td>...</td>\n      <td>0.09</td>\n      <td>0.460</td>\n      <td>0.310</td>\n      <td>0.090</td>\n      <td>0.03</td>\n      <td>0.010</td>\n      <td>0.010</td>\n      <td>0.650</td>\n      <td>0.350</td>\n      <td>Grande</td>\n    </tr>\n  </tbody>\n</table>\n<p>5 rows × 29 columns</p>\n</div>"
     },
     "execution_count": 26,
     "metadata": {},
     "output_type": "execute_result"
    }
   ],
   "source": [
    "data_influencers.head()"
   ],
   "metadata": {
    "collapsed": false
   }
  },
  {
   "cell_type": "code",
   "execution_count": 27,
   "metadata": {},
   "outputs": [],
   "source": [
    "from matplotlib import rcParams\n",
    "rcParams['figure.figsize'] = 6,6\n",
    "paleta = [\"#66bd63\", \"#fee08b\",\"#a50026\"]"
   ]
  },
  {
   "cell_type": "code",
   "execution_count": 28,
   "metadata": {},
   "outputs": [
    {
     "data": {
      "text/plain": "<Figure size 432x432 with 1 Axes>",
      "image/png": "[encoded data removed]"
     },
     "metadata": {},
     "output_type": "display_data"
    }
   ],
   "source": [
    "data_influencers['tamaño_creador'].value_counts()\n",
    "sns.countplot(x='tamaño_creador', data=data_influencers, palette=paleta, order = data_influencers['tamaño_creador'].value_counts().index)\n",
    "plt.xlabel(\"Tipo de creador segun tamaño\")\n",
    "plt.ylabel(\"Cantidad de creadores de contenido\")\n",
    "plt.title(\"Creadores de contenido segun tamaño de la agencia ZZZ\")\n",
    "plt.show()"
   ]
  },
  {
   "cell_type": "markdown",
   "metadata": {},
   "source": [
    "Para poder ver la relacion entre followers y ER vamos a filtrar al perfil mas grande."
   ]
  },
  {
   "cell_type": "code",
   "execution_count": 29,
   "metadata": {},
   "outputs": [
    {
     "data": {
      "text/plain": "<Figure size 432x432 with 1 Axes>",
      "image/png": "[encoded data removed]"
     },
     "metadata": {},
     "output_type": "display_data"
    }
   ],
   "source": [
    "plt.scatter(data_influencers[filtro]['Followers'],data_influencers[filtro]['ER'])\n",
    "plt.xlabel(\"Followers\")\n",
    "plt.ylabel(\"ER\")\n",
    "plt.title(\"Relación entre followers & ER\")\n",
    "plt.show()"
   ]
  },
  {
   "cell_type": "markdown",
   "source": [
    "En este caso no se observa una relacion muy estrecha entre followers y ER, solo podemos analizar que tenemos muchos perfiles entre los 0.00 y 0.5 followers y la mayoria de los perfiles cuentan con un ER de 0.0 a 0.2"
   ],
   "metadata": {
    "collapsed": false
   }
  },
  {
   "cell_type": "markdown",
   "metadata": {},
   "source": [
    "## Variable categoria"
   ]
  },
  {
   "cell_type": "markdown",
   "metadata": {},
   "source": [
    "Las categorias en nuestro DF estan algunas con mayuscula otras no, por lo cual vamos a pasar todas a minuscula"
   ]
  },
  {
   "cell_type": "code",
   "execution_count": 30,
   "metadata": {},
   "outputs": [],
   "source": [
    "data_influencers['1ra Categoría'] = data_influencers['1ra Categoría'].str.lower()"
   ]
  },
  {
   "cell_type": "code",
   "execution_count": 31,
   "metadata": {},
   "outputs": [
    {
     "name": "stdout",
     "output_type": "stream",
     "text": [
      " Las categorias disponibles en la Agencia ZZZ son: ['actor/actress' 'adventure' 'artist' 'bailarina' 'beauty' 'bebidas'\n",
      " 'blogger' 'celebrities' 'centennials' 'chef' 'deco' 'deporte' 'doctor'\n",
      " 'empresario' 'fashion' 'fitness' 'foodie' 'fotografo' 'gamer'\n",
      " 'gourmandsconhambre.ba' 'healthy' 'humor' 'influencer' 'instagrammer'\n",
      " 'jardin & botanica' 'journalist' 'lifestyle' 'model' 'moms' 'music'\n",
      " 'native digital' 'salud' 'tecnología' 'tele' 'travel' 'vehículos' 'yoga'\n",
      " 'youtube']\n"
     ]
    }
   ],
   "source": [
    "print(f\" Las categorias disponibles en la Agencia ZZZ son: {data_influencers['1ra Categoría'].unique()}\")"
   ]
  },
  {
   "cell_type": "markdown",
   "metadata": {},
   "source": [
    "Aca vamos a ver la cantidad de creadores de contenido por categoria"
   ]
  },
  {
   "cell_type": "code",
   "execution_count": 32,
   "metadata": {},
   "outputs": [
    {
     "data": {
      "text/plain": "                       Account\n1ra Categoría                 \nactor/actress              213\nadventure                   25\nartist                      96\nbailarina                   60\nbeauty                     181\nbebidas                     28\nblogger                     29\ncelebrities                 94\ncentennials                 14\nchef                        26\ndeco                        85\ndeporte                    328\ndoctor                      28\nempresario                  18\nfashion                    167\nfitness                     42\nfoodie                     366\nfotografo                   39\ngamer                       20\ngourmandsconhambre.ba        1\nhealthy                     39\nhumor                      192\ninfluencer                  98\ninstagrammer               144\njardin & botanica            2\njournalist                 135\nlifestyle                  192\nmodel                      231\nmoms                       114\nmusic                      168\nnative digital              69\nsalud                       32\ntecnología                  11\ntele                       160\ntravel                      27\nvehículos                   19\nyoga                         4\nyoutube                      7",
      "text/html": "<div>\n<style scoped>\n    .dataframe tbody tr th:only-of-type {\n        vertical-align: middle;\n    }\n\n    .dataframe tbody tr th {\n        vertical-align: top;\n    }\n\n    .dataframe thead th {\n        text-align: right;\n    }\n</style>\n<table border=\"1\" class=\"dataframe\">\n  <thead>\n    <tr style=\"text-align: right;\">\n      <th></th>\n      <th>Account</th>\n    </tr>\n    <tr>\n      <th>1ra Categoría</th>\n      <th></th>\n    </tr>\n  </thead>\n  <tbody>\n    <tr>\n      <th>actor/actress</th>\n      <td>213</td>\n    </tr>\n    <tr>\n      <th>adventure</th>\n      <td>25</td>\n    </tr>\n    <tr>\n      <th>artist</th>\n      <td>96</td>\n    </tr>\n    <tr>\n      <th>bailarina</th>\n      <td>60</td>\n    </tr>\n    <tr>\n      <th>beauty</th>\n      <td>181</td>\n    </tr>\n    <tr>\n      <th>bebidas</th>\n      <td>28</td>\n    </tr>\n    <tr>\n      <th>blogger</th>\n      <td>29</td>\n    </tr>\n    <tr>\n      <th>celebrities</th>\n      <td>94</td>\n    </tr>\n    <tr>\n      <th>centennials</th>\n      <td>14</td>\n    </tr>\n    <tr>\n      <th>chef</th>\n      <td>26</td>\n    </tr>\n    <tr>\n      <th>deco</th>\n      <td>85</td>\n    </tr>\n    <tr>\n      <th>deporte</th>\n      <td>328</td>\n    </tr>\n    <tr>\n      <th>doctor</th>\n      <td>28</td>\n    </tr>\n    <tr>\n      <th>empresario</th>\n      <td>18</td>\n    </tr>\n    <tr>\n      <th>fashion</th>\n      <td>167</td>\n    </tr>\n    <tr>\n      <th>fitness</th>\n      <td>42</td>\n    </tr>\n    <tr>\n      <th>foodie</th>\n      <td>366</td>\n    </tr>\n    <tr>\n      <th>fotografo</th>\n      <td>39</td>\n    </tr>\n    <tr>\n      <th>gamer</th>\n      <td>20</td>\n    </tr>\n    <tr>\n      <th>gourmandsconhambre.ba</th>\n      <td>1</td>\n    </tr>\n    <tr>\n      <th>healthy</th>\n      <td>39</td>\n    </tr>\n    <tr>\n      <th>humor</th>\n      <td>192</td>\n    </tr>\n    <tr>\n      <th>influencer</th>\n      <td>98</td>\n    </tr>\n    <tr>\n      <th>instagrammer</th>\n      <td>144</td>\n    </tr>\n    <tr>\n      <th>jardin &amp; botanica</th>\n      <td>2</td>\n    </tr>\n    <tr>\n      <th>journalist</th>\n      <td>135</td>\n    </tr>\n    <tr>\n      <th>lifestyle</th>\n      <td>192</td>\n    </tr>\n    <tr>\n      <th>model</th>\n      <td>231</td>\n    </tr>\n    <tr>\n      <th>moms</th>\n      <td>114</td>\n    </tr>\n    <tr>\n      <th>music</th>\n      <td>168</td>\n    </tr>\n    <tr>\n      <th>native digital</th>\n      <td>69</td>\n    </tr>\n    <tr>\n      <th>salud</th>\n      <td>32</td>\n    </tr>\n    <tr>\n      <th>tecnología</th>\n      <td>11</td>\n    </tr>\n    <tr>\n      <th>tele</th>\n      <td>160</td>\n    </tr>\n    <tr>\n      <th>travel</th>\n      <td>27</td>\n    </tr>\n    <tr>\n      <th>vehículos</th>\n      <td>19</td>\n    </tr>\n    <tr>\n      <th>yoga</th>\n      <td>4</td>\n    </tr>\n    <tr>\n      <th>youtube</th>\n      <td>7</td>\n    </tr>\n  </tbody>\n</table>\n</div>"
     },
     "execution_count": 32,
     "metadata": {},
     "output_type": "execute_result"
    }
   ],
   "source": [
    "creadores_por_categoria = data_influencers[['1ra Categoría', 'Account']].groupby('1ra Categoría').count()\n",
    "creadores_por_categoria"
   ]
  },
  {
   "cell_type": "markdown",
   "metadata": {},
   "source": [
    "## Variable \"Tenemos datos?\""
   ]
  },
  {
   "cell_type": "code",
   "execution_count": 33,
   "metadata": {},
   "outputs": [],
   "source": [
    "data_influencers['Tenemos datos?'] = data_influencers['Tenemos datos?'].str.lower()"
   ]
  },
  {
   "cell_type": "code",
   "execution_count": 34,
   "metadata": {},
   "outputs": [
    {
     "name": "stdout",
     "output_type": "stream",
     "text": [
      " Las posibles alternativas para tener datos son: ['si' 'no' 'parcial']\n"
     ]
    }
   ],
   "source": [
    "print(f\" Las posibles alternativas para tener datos son: {data_influencers['Tenemos datos?'].unique()}\")"
   ]
  },
  {
   "cell_type": "code",
   "execution_count": 35,
   "metadata": {},
   "outputs": [
    {
     "data": {
      "text/plain": "                Account\nTenemos datos?         \nno                 2390\nparcial             236\nsi                  878",
      "text/html": "<div>\n<style scoped>\n    .dataframe tbody tr th:only-of-type {\n        vertical-align: middle;\n    }\n\n    .dataframe tbody tr th {\n        vertical-align: top;\n    }\n\n    .dataframe thead th {\n        text-align: right;\n    }\n</style>\n<table border=\"1\" class=\"dataframe\">\n  <thead>\n    <tr style=\"text-align: right;\">\n      <th></th>\n      <th>Account</th>\n    </tr>\n    <tr>\n      <th>Tenemos datos?</th>\n      <th></th>\n    </tr>\n  </thead>\n  <tbody>\n    <tr>\n      <th>no</th>\n      <td>2390</td>\n    </tr>\n    <tr>\n      <th>parcial</th>\n      <td>236</td>\n    </tr>\n    <tr>\n      <th>si</th>\n      <td>878</td>\n    </tr>\n  </tbody>\n</table>\n</div>"
     },
     "execution_count": 35,
     "metadata": {},
     "output_type": "execute_result"
    }
   ],
   "source": [
    "tenemos_datos = data_influencers[['Tenemos datos?', 'Account']].groupby('Tenemos datos?').count()\n",
    "tenemos_datos"
   ]
  },
  {
   "cell_type": "code",
   "execution_count": 36,
   "metadata": {},
   "outputs": [
    {
     "data": {
      "text/plain": "<Figure size 432x432 with 1 Axes>",
      "image/png": "[encoded data removed]"
     },
     "metadata": {},
     "output_type": "display_data"
    }
   ],
   "source": [
    "tipo_de_dato = ['no', 'parcial','si']\n",
    "cantidad = [2390,236,879]\n",
    "plt.pie(cantidad, labels=tipo_de_dato)\n",
    "plt.title(\"% de perfiles con los que contamos datos\" )\n",
    "plt.show()"
   ]
  },
  {
   "cell_type": "markdown",
   "metadata": {},
   "source": [
    "#Con esta informacion desde la agencia ZZZ podemos ver que el departamento de Talent (quien se encarga del contacto con los talentos) no esta consiguiendo las metricas reales de la mayoria de los perfiles y deberiamos tomar accion en este aspecto"
   ]
  },
  {
   "cell_type": "markdown",
   "metadata": {},
   "source": [
    "## Base de datos: Resultados por Contenido"
   ]
  },
  {
   "cell_type": "markdown",
   "metadata": {},
   "source": [
    "En este DF vamos a ver por cada linea un contenido con sus KPIs reales logradas."
   ]
  },
  {
   "cell_type": "code",
   "execution_count": 37,
   "metadata": {},
   "outputs": [],
   "source": [
    "path_file2 = \"data/Base de datos Argentina  (1).xlsx\"\n",
    "data_resultados = pd.read_excel(path_file2)"
   ]
  },
  {
   "cell_type": "code",
   "execution_count": 38,
   "metadata": {},
   "outputs": [
    {
     "data": {
      "text/plain": "         Account  Followers    Servicio  Alcance  Impresiones  Interacciones  \\\n0  _agusbelmonte      32800   Post Foto     9167      11001.0          621.0   \n1  _agusbelmonte      33000   Post Foto     7006       8407.0          296.0   \n2  _agusbelmonte      32400  Story Foto     3159       3244.0           50.0   \n3  _agusbelmonte      32400  Story Foto     3230       3313.0           50.0   \n4  _agusbelmonte      32400  Story Foto     3397       3511.0           50.0   \n\n  Imp/alc     ER  Reach/foll Plataforma    Marca   Acción                Fecha  \n0     1.2    NaN    0.280000  Instagram      Ala      Sou       Feb - Mar 2022  \n1     1.2  0.035    0.210000  Instagram  Eucerin  Curitas  2022-06-01 00:00:00  \n2    1.03    NaN    0.097500  Instagram      ALA      SOU  2021-07-01 00:00:00  \n3    1.03    NaN    0.099691  Instagram      ALA      SOU  2021-07-01 00:00:00  \n4    1.03    NaN    0.104846  Instagram      ALA      SOU  2021-07-01 00:00:00  ",
      "text/html": "<div>\n<style scoped>\n    .dataframe tbody tr th:only-of-type {\n        vertical-align: middle;\n    }\n\n    .dataframe tbody tr th {\n        vertical-align: top;\n    }\n\n    .dataframe thead th {\n        text-align: right;\n    }\n</style>\n<table border=\"1\" class=\"dataframe\">\n  <thead>\n    <tr style=\"text-align: right;\">\n      <th></th>\n      <th>Account</th>\n      <th>Followers</th>\n      <th>Servicio</th>\n      <th>Alcance</th>\n      <th>Impresiones</th>\n      <th>Interacciones</th>\n      <th>Imp/alc</th>\n      <th>ER</th>\n      <th>Reach/foll</th>\n      <th>Plataforma</th>\n      <th>Marca</th>\n      <th>Acción</th>\n      <th>Fecha</th>\n    </tr>\n  </thead>\n  <tbody>\n    <tr>\n      <th>0</th>\n      <td>_agusbelmonte</td>\n      <td>32800</td>\n      <td>Post Foto</td>\n      <td>9167</td>\n      <td>11001.0</td>\n      <td>621.0</td>\n      <td>1.2</td>\n      <td>NaN</td>\n      <td>0.280000</td>\n      <td>Instagram</td>\n      <td>Ala</td>\n      <td>Sou</td>\n      <td>Feb - Mar 2022</td>\n    </tr>\n    <tr>\n      <th>1</th>\n      <td>_agusbelmonte</td>\n      <td>33000</td>\n      <td>Post Foto</td>\n      <td>7006</td>\n      <td>8407.0</td>\n      <td>296.0</td>\n      <td>1.2</td>\n      <td>0.035</td>\n      <td>0.210000</td>\n      <td>Instagram</td>\n      <td>Eucerin</td>\n      <td>Curitas</td>\n      <td>2022-06-01 00:00:00</td>\n    </tr>\n    <tr>\n      <th>2</th>\n      <td>_agusbelmonte</td>\n      <td>32400</td>\n      <td>Story Foto</td>\n      <td>3159</td>\n      <td>3244.0</td>\n      <td>50.0</td>\n      <td>1.03</td>\n      <td>NaN</td>\n      <td>0.097500</td>\n      <td>Instagram</td>\n      <td>ALA</td>\n      <td>SOU</td>\n      <td>2021-07-01 00:00:00</td>\n    </tr>\n    <tr>\n      <th>3</th>\n      <td>_agusbelmonte</td>\n      <td>32400</td>\n      <td>Story Foto</td>\n      <td>3230</td>\n      <td>3313.0</td>\n      <td>50.0</td>\n      <td>1.03</td>\n      <td>NaN</td>\n      <td>0.099691</td>\n      <td>Instagram</td>\n      <td>ALA</td>\n      <td>SOU</td>\n      <td>2021-07-01 00:00:00</td>\n    </tr>\n    <tr>\n      <th>4</th>\n      <td>_agusbelmonte</td>\n      <td>32400</td>\n      <td>Story Foto</td>\n      <td>3397</td>\n      <td>3511.0</td>\n      <td>50.0</td>\n      <td>1.03</td>\n      <td>NaN</td>\n      <td>0.104846</td>\n      <td>Instagram</td>\n      <td>ALA</td>\n      <td>SOU</td>\n      <td>2021-07-01 00:00:00</td>\n    </tr>\n  </tbody>\n</table>\n</div>"
     },
     "execution_count": 38,
     "metadata": {},
     "output_type": "execute_result"
    }
   ],
   "source": [
    "data_resultados.head()"
   ]
  },
  {
   "cell_type": "code",
   "execution_count": 39,
   "metadata": {},
   "outputs": [
    {
     "data": {
      "text/plain": "Index([' Account', 'Followers', 'Servicio', 'Alcance', 'Impresiones',\n       'Interacciones', 'Imp/alc', 'ER', 'Reach/foll', 'Plataforma', 'Marca',\n       'Acción', 'Fecha'],\n      dtype='object')"
     },
     "execution_count": 39,
     "metadata": {},
     "output_type": "execute_result"
    }
   ],
   "source": [
    "data_resultados.columns"
   ]
  },
  {
   "cell_type": "markdown",
   "source": [
    "Las columnas de este Data Frame significan lo siguiente:\n",
    "- Account: Nombre del creador de perfil\n",
    "- Followers: Tamaño de su audiencia\n",
    "- Servicio: Esta variable es categoria y puede ser\n",
    "   - Post Foto\n",
    "   - Story Foto\n",
    "- Alcance: cantidad de personas unicas alcanzadas con ese contenido\n",
    "- Impresiones: cantidad de impresiones que obtuvo ese contenido\n",
    "- Interacciones: es la sumatoria de todas las interacciones (Likes, comentarios, compartidos y guardados)\n",
    "- Imp/Alc: es la relacion entre impresiones y alcance\n",
    "- ER: es el engagment rate del contenido\n",
    "- Reach/Foll: nos da el % de la audiencia alcanzada con el contenido\n",
    "- Plataforma: en que red social fue compartido ese contenido\n",
    "- Marca: nos detalla a que marca le corrresponde ese contenido\n",
    "- Accion: Especifica que campaña fue\n",
    "- Fecha: Nos detalla en que periodo se dio ese contenido"
   ],
   "metadata": {
    "collapsed": false
   }
  },
  {
   "cell_type": "code",
   "execution_count": 40,
   "metadata": {},
   "outputs": [
    {
     "name": "stdout",
     "output_type": "stream",
     "text": [
      " El dataframe es un excel con data de los influencers argentinos por plataforma. En el dataset hay 13129 filas y 13 columnas. Los tipos de datos por columnas son  Account          object\n",
      "Followers          int64\n",
      "Servicio          object\n",
      "Alcance            int64\n",
      "Impresiones      float64\n",
      "Interacciones    float64\n",
      "Imp/alc           object\n",
      "ER                object\n",
      "Reach/foll       float64\n",
      "Plataforma        object\n",
      "Marca             object\n",
      "Acción            object\n",
      "Fecha             object\n",
      "dtype: object\n"
     ]
    }
   ],
   "source": [
    "print(f\" El dataframe es un excel con data de los influencers argentinos por plataforma. En el dataset hay {data_resultados.shape[0]} filas y {data_resultados.shape[1]} columnas. Los tipos de datos por columnas son {data_resultados.dtypes}\")"
   ]
  },
  {
   "cell_type": "markdown",
   "source": [
    "En este caso vamos a analizar la cantidad de duplicados, es probable que existan. Porque conociendo la base de datos, cuando los creadores de contenido no envian toda la informacion de sus metricas, se duplican los resultados de un contenido similar del que tenemos datos disponibles. Por lo cual, no corresponderia eliminarlos"
   ],
   "metadata": {
    "collapsed": false
   }
  },
  {
   "cell_type": "code",
   "execution_count": 41,
   "outputs": [
    {
     "data": {
      "text/plain": "509"
     },
     "execution_count": 41,
     "metadata": {},
     "output_type": "execute_result"
    }
   ],
   "source": [
    "cantidad_duplicados1 = len(data_resultados) - len(data_resultados.drop_duplicates())\n",
    "cantidad_duplicados1"
   ],
   "metadata": {
    "collapsed": false
   }
  },
  {
   "cell_type": "markdown",
   "metadata": {},
   "source": [
    "Para analizar los NaN por columnas."
   ]
  },
  {
   "cell_type": "code",
   "execution_count": 42,
   "metadata": {},
   "outputs": [
    {
     "data": {
      "text/plain": " Account             0\nFollowers            0\nServicio             0\nAlcance              0\nImpresiones          1\nInteracciones      372\nImp/alc             32\nER               10962\nReach/foll           0\nPlataforma           0\nMarca                0\nAcción             169\nFecha                0\ndtype: int64"
     },
     "execution_count": 42,
     "metadata": {},
     "output_type": "execute_result"
    }
   ],
   "source": [
    "data_resultados.isna().sum()"
   ]
  },
  {
   "cell_type": "markdown",
   "metadata": {},
   "source": [
    "Las columnas de reach/foll, Imp/alc y ER podemos eliminarlas y calcularlas desde python para asegurarnos que no existan errores. Por lo cual vamos a eliminarlas y volver a agregarlas"
   ]
  },
  {
   "cell_type": "code",
   "execution_count": 43,
   "metadata": {},
   "outputs": [
    {
     "data": {
      "text/plain": "             Account  Followers    Servicio  Alcance  Impresiones  \\\n0      _agusbelmonte      32800   Post Foto     9167      11001.0   \n1      _agusbelmonte      33000   Post Foto     7006       8407.0   \n2      _agusbelmonte      32400  Story Foto     3159       3244.0   \n3      _agusbelmonte      32400  Story Foto     3230       3313.0   \n4      _agusbelmonte      32400  Story Foto     3397       3511.0   \n...              ...        ...         ...      ...          ...   \n13124  merydelcerrok    2600000  Story Foto   158664      19798.0   \n13125  merydelcerrok    2600000  Story Foto   166656     198156.0   \n13126  merydelcerrok    2600000  Story Foto   105563     127547.0   \n13127  merydelcerrok    2600000  Story Foto   154646     194407.0   \n13128  merydelcerrok    2600000  Story Foto   129052     150055.0   \n\n       Interacciones Plataforma     Marca         Acción                Fecha  \n0            621.000  Instagram       Ala            Sou       Feb - Mar 2022  \n1            296.000  Instagram   Eucerin        Curitas  2022-06-01 00:00:00  \n2             50.000  Instagram       ALA            SOU  2021-07-01 00:00:00  \n3             50.000  Instagram       ALA            SOU  2021-07-01 00:00:00  \n4             50.000  Instagram       ALA            SOU  2021-07-01 00:00:00  \n...              ...        ...       ...            ...                  ...  \n13124          4.033  Instagram  Tresemmé  Amplificación  2020-01-12 00:00:00  \n13125          1.294  Instagram  Tresemmé  Amplificación  2020-01-12 00:00:00  \n13126          3.921  Instagram  Tresemmé  Amplificación  2020-01-12 00:00:00  \n13127          4.850  Instagram  Tresemmé  Amplificación  2020-01-12 00:00:00  \n13128          1.913  Instagram  Tresemmé  Amplificación  2020-01-12 00:00:00  \n\n[13129 rows x 10 columns]",
      "text/html": "<div>\n<style scoped>\n    .dataframe tbody tr th:only-of-type {\n        vertical-align: middle;\n    }\n\n    .dataframe tbody tr th {\n        vertical-align: top;\n    }\n\n    .dataframe thead th {\n        text-align: right;\n    }\n</style>\n<table border=\"1\" class=\"dataframe\">\n  <thead>\n    <tr style=\"text-align: right;\">\n      <th></th>\n      <th>Account</th>\n      <th>Followers</th>\n      <th>Servicio</th>\n      <th>Alcance</th>\n      <th>Impresiones</th>\n      <th>Interacciones</th>\n      <th>Plataforma</th>\n      <th>Marca</th>\n      <th>Acción</th>\n      <th>Fecha</th>\n    </tr>\n  </thead>\n  <tbody>\n    <tr>\n      <th>0</th>\n      <td>_agusbelmonte</td>\n      <td>32800</td>\n      <td>Post Foto</td>\n      <td>9167</td>\n      <td>11001.0</td>\n      <td>621.000</td>\n      <td>Instagram</td>\n      <td>Ala</td>\n      <td>Sou</td>\n      <td>Feb - Mar 2022</td>\n    </tr>\n    <tr>\n      <th>1</th>\n      <td>_agusbelmonte</td>\n      <td>33000</td>\n      <td>Post Foto</td>\n      <td>7006</td>\n      <td>8407.0</td>\n      <td>296.000</td>\n      <td>Instagram</td>\n      <td>Eucerin</td>\n      <td>Curitas</td>\n      <td>2022-06-01 00:00:00</td>\n    </tr>\n    <tr>\n      <th>2</th>\n      <td>_agusbelmonte</td>\n      <td>32400</td>\n      <td>Story Foto</td>\n      <td>3159</td>\n      <td>3244.0</td>\n      <td>50.000</td>\n      <td>Instagram</td>\n      <td>ALA</td>\n      <td>SOU</td>\n      <td>2021-07-01 00:00:00</td>\n    </tr>\n    <tr>\n      <th>3</th>\n      <td>_agusbelmonte</td>\n      <td>32400</td>\n      <td>Story Foto</td>\n      <td>3230</td>\n      <td>3313.0</td>\n      <td>50.000</td>\n      <td>Instagram</td>\n      <td>ALA</td>\n      <td>SOU</td>\n      <td>2021-07-01 00:00:00</td>\n    </tr>\n    <tr>\n      <th>4</th>\n      <td>_agusbelmonte</td>\n      <td>32400</td>\n      <td>Story Foto</td>\n      <td>3397</td>\n      <td>3511.0</td>\n      <td>50.000</td>\n      <td>Instagram</td>\n      <td>ALA</td>\n      <td>SOU</td>\n      <td>2021-07-01 00:00:00</td>\n    </tr>\n    <tr>\n      <th>...</th>\n      <td>...</td>\n      <td>...</td>\n      <td>...</td>\n      <td>...</td>\n      <td>...</td>\n      <td>...</td>\n      <td>...</td>\n      <td>...</td>\n      <td>...</td>\n      <td>...</td>\n    </tr>\n    <tr>\n      <th>13124</th>\n      <td>merydelcerrok</td>\n      <td>2600000</td>\n      <td>Story Foto</td>\n      <td>158664</td>\n      <td>19798.0</td>\n      <td>4.033</td>\n      <td>Instagram</td>\n      <td>Tresemmé</td>\n      <td>Amplificación</td>\n      <td>2020-01-12 00:00:00</td>\n    </tr>\n    <tr>\n      <th>13125</th>\n      <td>merydelcerrok</td>\n      <td>2600000</td>\n      <td>Story Foto</td>\n      <td>166656</td>\n      <td>198156.0</td>\n      <td>1.294</td>\n      <td>Instagram</td>\n      <td>Tresemmé</td>\n      <td>Amplificación</td>\n      <td>2020-01-12 00:00:00</td>\n    </tr>\n    <tr>\n      <th>13126</th>\n      <td>merydelcerrok</td>\n      <td>2600000</td>\n      <td>Story Foto</td>\n      <td>105563</td>\n      <td>127547.0</td>\n      <td>3.921</td>\n      <td>Instagram</td>\n      <td>Tresemmé</td>\n      <td>Amplificación</td>\n      <td>2020-01-12 00:00:00</td>\n    </tr>\n    <tr>\n      <th>13127</th>\n      <td>merydelcerrok</td>\n      <td>2600000</td>\n      <td>Story Foto</td>\n      <td>154646</td>\n      <td>194407.0</td>\n      <td>4.850</td>\n      <td>Instagram</td>\n      <td>Tresemmé</td>\n      <td>Amplificación</td>\n      <td>2020-01-12 00:00:00</td>\n    </tr>\n    <tr>\n      <th>13128</th>\n      <td>merydelcerrok</td>\n      <td>2600000</td>\n      <td>Story Foto</td>\n      <td>129052</td>\n      <td>150055.0</td>\n      <td>1.913</td>\n      <td>Instagram</td>\n      <td>Tresemmé</td>\n      <td>Amplificación</td>\n      <td>2020-01-12 00:00:00</td>\n    </tr>\n  </tbody>\n</table>\n<p>13129 rows × 10 columns</p>\n</div>"
     },
     "execution_count": 43,
     "metadata": {},
     "output_type": "execute_result"
    }
   ],
   "source": [
    "data_resultados = data_resultados.drop(['Reach/foll','Imp/alc','ER'], axis=1)\n",
    "data_resultados"
   ]
  },
  {
   "cell_type": "code",
   "execution_count": 44,
   "metadata": {},
   "outputs": [],
   "source": [
    "data_resultados[\"reach/foll\"] = data_resultados['Alcance']/data_resultados['Followers']"
   ]
  },
  {
   "cell_type": "code",
   "execution_count": 45,
   "metadata": {},
   "outputs": [],
   "source": [
    "data_resultados['Imp/Alc'] = data_resultados['Impresiones'] / data_resultados['Alcance']"
   ]
  },
  {
   "cell_type": "code",
   "execution_count": 46,
   "metadata": {},
   "outputs": [],
   "source": [
    "data_resultados['ER'] = data_resultados['Interacciones'] / data_resultados['Impresiones']"
   ]
  },
  {
   "cell_type": "markdown",
   "metadata": {},
   "source": [
    "Para analizar si las columnsa se agregaron y si los datos de ER son los correctos"
   ]
  },
  {
   "cell_type": "code",
   "execution_count": 47,
   "metadata": {},
   "outputs": [
    {
     "data": {
      "text/plain": "                  Account  Followers    Servicio  Alcance  Impresiones  \\\n248   cocinaglutenfree.ok      16300  Story Foto     1042       1411.0   \n5515      mariel_percossi      74600   Post Foto     4487       5026.0   \n249   cocinaglutenfree.ok      16300  Story Foto      911       1166.0   \n\n      Interacciones Plataforma Marca                          Acción  \\\n248          2744.0  Instagram   ???  Cross Food - covid (mar - abr)   \n5515         6542.0  Instagram  Dove                    D Red Wave 1   \n249          1217.0  Instagram   ???  Cross Food - covid (mar - abr)   \n\n                    Fecha  reach/foll   Imp/Alc        ER  \n248   2020-01-03 00:00:00    0.063926  1.354127  1.944720  \n5515  2020-01-12 00:00:00    0.060147  1.120125  1.301632  \n249   2020-01-03 00:00:00    0.055890  1.279912  1.043739  ",
      "text/html": "<div>\n<style scoped>\n    .dataframe tbody tr th:only-of-type {\n        vertical-align: middle;\n    }\n\n    .dataframe tbody tr th {\n        vertical-align: top;\n    }\n\n    .dataframe thead th {\n        text-align: right;\n    }\n</style>\n<table border=\"1\" class=\"dataframe\">\n  <thead>\n    <tr style=\"text-align: right;\">\n      <th></th>\n      <th>Account</th>\n      <th>Followers</th>\n      <th>Servicio</th>\n      <th>Alcance</th>\n      <th>Impresiones</th>\n      <th>Interacciones</th>\n      <th>Plataforma</th>\n      <th>Marca</th>\n      <th>Acción</th>\n      <th>Fecha</th>\n      <th>reach/foll</th>\n      <th>Imp/Alc</th>\n      <th>ER</th>\n    </tr>\n  </thead>\n  <tbody>\n    <tr>\n      <th>248</th>\n      <td>cocinaglutenfree.ok</td>\n      <td>16300</td>\n      <td>Story Foto</td>\n      <td>1042</td>\n      <td>1411.0</td>\n      <td>2744.0</td>\n      <td>Instagram</td>\n      <td>???</td>\n      <td>Cross Food - covid (mar - abr)</td>\n      <td>2020-01-03 00:00:00</td>\n      <td>0.063926</td>\n      <td>1.354127</td>\n      <td>1.944720</td>\n    </tr>\n    <tr>\n      <th>5515</th>\n      <td>mariel_percossi</td>\n      <td>74600</td>\n      <td>Post Foto</td>\n      <td>4487</td>\n      <td>5026.0</td>\n      <td>6542.0</td>\n      <td>Instagram</td>\n      <td>Dove</td>\n      <td>D Red Wave 1</td>\n      <td>2020-01-12 00:00:00</td>\n      <td>0.060147</td>\n      <td>1.120125</td>\n      <td>1.301632</td>\n    </tr>\n    <tr>\n      <th>249</th>\n      <td>cocinaglutenfree.ok</td>\n      <td>16300</td>\n      <td>Story Foto</td>\n      <td>911</td>\n      <td>1166.0</td>\n      <td>1217.0</td>\n      <td>Instagram</td>\n      <td>???</td>\n      <td>Cross Food - covid (mar - abr)</td>\n      <td>2020-01-03 00:00:00</td>\n      <td>0.055890</td>\n      <td>1.279912</td>\n      <td>1.043739</td>\n    </tr>\n  </tbody>\n</table>\n</div>"
     },
     "execution_count": 47,
     "metadata": {},
     "output_type": "execute_result"
    }
   ],
   "source": [
    "data_resultados.nlargest(3, 'ER')"
   ]
  },
  {
   "cell_type": "markdown",
   "metadata": {},
   "source": [
    "En este caso contar con ER mayores a 1 es un caso extraño. Por lo cual vamos a analizar las columnas"
   ]
  },
  {
   "cell_type": "code",
   "execution_count": 48,
   "metadata": {},
   "outputs": [
    {
     "data": {
      "text/plain": "          Followers       Alcance   Impresiones  Interacciones    reach/foll  \\\ncount  1.312900e+04  1.312900e+04  1.312800e+04   1.275700e+04  1.312900e+04   \nmean   4.201421e+05  2.626051e+10  6.621820e+04   2.135143e+03  2.254945e+05   \nstd    6.851198e+05  2.185055e+12  2.854645e+05   2.277314e+04  1.829109e+07   \nmin    1.837000e+03  9.600000e+01  1.190000e+02   0.000000e+00  3.692308e-05   \n25%    5.500000e+04  4.233000e+03  4.674250e+03   1.100000e+01  4.783784e-02   \n50%    1.310000e+05  1.116000e+04  1.224800e+04   4.500000e+01  8.764228e-02   \n75%    4.350000e+05  3.792600e+04  4.288750e+04   2.210000e+02  1.619576e-01   \nmax    5.800000e+06  2.127217e+14  1.210862e+07   1.632528e+06  1.552713e+09   \n\n            Imp/Alc            ER  \ncount  1.312800e+04  12756.000000  \nmean   1.574913e+00      0.017549  \nstd    1.128001e+01      0.045844  \nmin    1.150000e-10      0.000000  \n25%    1.020000e+00      0.001071  \n50%    1.080992e+00      0.003403  \n75%    1.154039e+00      0.014501  \nmax    1.080552e+03      1.944720  ",
      "text/html": "<div>\n<style scoped>\n    .dataframe tbody tr th:only-of-type {\n        vertical-align: middle;\n    }\n\n    .dataframe tbody tr th {\n        vertical-align: top;\n    }\n\n    .dataframe thead th {\n        text-align: right;\n    }\n</style>\n<table border=\"1\" class=\"dataframe\">\n  <thead>\n    <tr style=\"text-align: right;\">\n      <th></th>\n      <th>Followers</th>\n      <th>Alcance</th>\n      <th>Impresiones</th>\n      <th>Interacciones</th>\n      <th>reach/foll</th>\n      <th>Imp/Alc</th>\n      <th>ER</th>\n    </tr>\n  </thead>\n  <tbody>\n    <tr>\n      <th>count</th>\n      <td>1.312900e+04</td>\n      <td>1.312900e+04</td>\n      <td>1.312800e+04</td>\n      <td>1.275700e+04</td>\n      <td>1.312900e+04</td>\n      <td>1.312800e+04</td>\n      <td>12756.000000</td>\n    </tr>\n    <tr>\n      <th>mean</th>\n      <td>4.201421e+05</td>\n      <td>2.626051e+10</td>\n      <td>6.621820e+04</td>\n      <td>2.135143e+03</td>\n      <td>2.254945e+05</td>\n      <td>1.574913e+00</td>\n      <td>0.017549</td>\n    </tr>\n    <tr>\n      <th>std</th>\n      <td>6.851198e+05</td>\n      <td>2.185055e+12</td>\n      <td>2.854645e+05</td>\n      <td>2.277314e+04</td>\n      <td>1.829109e+07</td>\n      <td>1.128001e+01</td>\n      <td>0.045844</td>\n    </tr>\n    <tr>\n      <th>min</th>\n      <td>1.837000e+03</td>\n      <td>9.600000e+01</td>\n      <td>1.190000e+02</td>\n      <td>0.000000e+00</td>\n      <td>3.692308e-05</td>\n      <td>1.150000e-10</td>\n      <td>0.000000</td>\n    </tr>\n    <tr>\n      <th>25%</th>\n      <td>5.500000e+04</td>\n      <td>4.233000e+03</td>\n      <td>4.674250e+03</td>\n      <td>1.100000e+01</td>\n      <td>4.783784e-02</td>\n      <td>1.020000e+00</td>\n      <td>0.001071</td>\n    </tr>\n    <tr>\n      <th>50%</th>\n      <td>1.310000e+05</td>\n      <td>1.116000e+04</td>\n      <td>1.224800e+04</td>\n      <td>4.500000e+01</td>\n      <td>8.764228e-02</td>\n      <td>1.080992e+00</td>\n      <td>0.003403</td>\n    </tr>\n    <tr>\n      <th>75%</th>\n      <td>4.350000e+05</td>\n      <td>3.792600e+04</td>\n      <td>4.288750e+04</td>\n      <td>2.210000e+02</td>\n      <td>1.619576e-01</td>\n      <td>1.154039e+00</td>\n      <td>0.014501</td>\n    </tr>\n    <tr>\n      <th>max</th>\n      <td>5.800000e+06</td>\n      <td>2.127217e+14</td>\n      <td>1.210862e+07</td>\n      <td>1.632528e+06</td>\n      <td>1.552713e+09</td>\n      <td>1.080552e+03</td>\n      <td>1.944720</td>\n    </tr>\n  </tbody>\n</table>\n</div>"
     },
     "execution_count": 48,
     "metadata": {},
     "output_type": "execute_result"
    }
   ],
   "source": [
    "data_resultados.describe()"
   ]
  },
  {
   "cell_type": "markdown",
   "metadata": {},
   "source": [
    "Aca podemos notar que el 75% llega a 0.01 de ER y el maximo esta en 1.94 por lo cual podemos creer que hay registros mal cargados. Para eso utilizaremos un boxplot"
   ]
  },
  {
   "cell_type": "code",
   "execution_count": 49,
   "metadata": {},
   "outputs": [
    {
     "name": "stderr",
     "output_type": "stream",
     "text": [
      "/Users/agustinajaz/opt/anaconda3/lib/python3.9/site-packages/seaborn/_decorators.py:36: FutureWarning: Pass the following variable as a keyword arg: x. From version 0.12, the only valid positional argument will be `data`, and passing other arguments without an explicit keyword will result in an error or misinterpretation.\n",
      "  warnings.warn(\n"
     ]
    },
    {
     "data": {
      "text/plain": "<Figure size 432x432 with 1 Axes>",
      "image/png": "[encoded data removed]"
     },
     "metadata": {},
     "output_type": "display_data"
    }
   ],
   "source": [
    "sns.boxplot(data_influencers['ER']);"
   ]
  },
  {
   "cell_type": "markdown",
   "metadata": {},
   "source": [
    "Con este grafico podemos visualizar que existen datos \"normales\" hasta un ER de 0,04. Conociendo a la industria tiene logica, por lo cual vamos a filtar los datos que tengan un ER mayor a 0,4"
   ]
  },
  {
   "cell_type": "code",
   "execution_count": 50,
   "metadata": {},
   "outputs": [],
   "source": [
    "filtro_ER = data_resultados['ER'] <= 0.4\n",
    "data_resultados = data_resultados[filtro_ER]"
   ]
  },
  {
   "cell_type": "code",
   "execution_count": 51,
   "metadata": {},
   "outputs": [
    {
     "name": "stderr",
     "output_type": "stream",
     "text": [
      "/Users/agustinajaz/opt/anaconda3/lib/python3.9/site-packages/seaborn/_decorators.py:36: FutureWarning: Pass the following variable as a keyword arg: x. From version 0.12, the only valid positional argument will be `data`, and passing other arguments without an explicit keyword will result in an error or misinterpretation.\n",
      "  warnings.warn(\n"
     ]
    },
    {
     "data": {
      "text/plain": "<Figure size 432x432 with 1 Axes>",
      "image/png": "[encoded data removed]"
     },
     "metadata": {},
     "output_type": "display_data"
    }
   ],
   "source": [
    "sns.boxplot(data_resultados['ER']);"
   ]
  },
  {
   "cell_type": "markdown",
   "source": [
    "Ahora vamos a analizar la variable Alcance"
   ],
   "metadata": {
    "collapsed": false
   }
  },
  {
   "cell_type": "code",
   "execution_count": 52,
   "outputs": [
    {
     "data": {
      "text/plain": "              Account  Followers   Servicio          Alcance  Impresiones  \\\n9600   laufgallego YT     137000  Post Foto  212721739130435      24463.0   \n10716     me.johansen      93800  Post Foto  132051785714286     147898.0   \n9990    ailutokman TK    1600000  Post Foto          8956521   10300000.0   \n\n       Interacciones Plataforma       Marca   Acción                Fecha  \\\n9600          2162.0    Youtube         STP      NaN  2021-05-25 00:00:00   \n10716        11890.0  Instagram         STP      NaN  2021-05-31 00:00:00   \n9990       1632528.0     TikTok  Hellmann's  Ketchup  2022-06-01 00:00:00   \n\n         reach/foll       Imp/Alc        ER  \n9600   1.552713e+09  1.150000e-10  0.088378  \n10716  1.407802e+09  1.120000e-09  0.080393  \n9990   5.597826e+00  1.150000e+00  0.158498  ",
      "text/html": "<div>\n<style scoped>\n    .dataframe tbody tr th:only-of-type {\n        vertical-align: middle;\n    }\n\n    .dataframe tbody tr th {\n        vertical-align: top;\n    }\n\n    .dataframe thead th {\n        text-align: right;\n    }\n</style>\n<table border=\"1\" class=\"dataframe\">\n  <thead>\n    <tr style=\"text-align: right;\">\n      <th></th>\n      <th>Account</th>\n      <th>Followers</th>\n      <th>Servicio</th>\n      <th>Alcance</th>\n      <th>Impresiones</th>\n      <th>Interacciones</th>\n      <th>Plataforma</th>\n      <th>Marca</th>\n      <th>Acción</th>\n      <th>Fecha</th>\n      <th>reach/foll</th>\n      <th>Imp/Alc</th>\n      <th>ER</th>\n    </tr>\n  </thead>\n  <tbody>\n    <tr>\n      <th>9600</th>\n      <td>laufgallego YT</td>\n      <td>137000</td>\n      <td>Post Foto</td>\n      <td>212721739130435</td>\n      <td>24463.0</td>\n      <td>2162.0</td>\n      <td>Youtube</td>\n      <td>STP</td>\n      <td>NaN</td>\n      <td>2021-05-25 00:00:00</td>\n      <td>1.552713e+09</td>\n      <td>1.150000e-10</td>\n      <td>0.088378</td>\n    </tr>\n    <tr>\n      <th>10716</th>\n      <td>me.johansen</td>\n      <td>93800</td>\n      <td>Post Foto</td>\n      <td>132051785714286</td>\n      <td>147898.0</td>\n      <td>11890.0</td>\n      <td>Instagram</td>\n      <td>STP</td>\n      <td>NaN</td>\n      <td>2021-05-31 00:00:00</td>\n      <td>1.407802e+09</td>\n      <td>1.120000e-09</td>\n      <td>0.080393</td>\n    </tr>\n    <tr>\n      <th>9990</th>\n      <td>ailutokman TK</td>\n      <td>1600000</td>\n      <td>Post Foto</td>\n      <td>8956521</td>\n      <td>10300000.0</td>\n      <td>1632528.0</td>\n      <td>TikTok</td>\n      <td>Hellmann's</td>\n      <td>Ketchup</td>\n      <td>2022-06-01 00:00:00</td>\n      <td>5.597826e+00</td>\n      <td>1.150000e+00</td>\n      <td>0.158498</td>\n    </tr>\n  </tbody>\n</table>\n</div>"
     },
     "execution_count": 52,
     "metadata": {},
     "output_type": "execute_result"
    }
   ],
   "source": [
    "data_resultados.nlargest(3, 'Alcance')"
   ],
   "metadata": {
    "collapsed": false
   }
  },
  {
   "cell_type": "markdown",
   "source": [
    "En este caso podemos notar que la relacion alcance no tiene sentido. Porque dice que alcanzo mas personas con una cantida muy pequeña de impresiones. Por lo cual estos dos datos son erroreos y debemos elimarlos."
   ],
   "metadata": {
    "collapsed": false
   }
  },
  {
   "cell_type": "code",
   "execution_count": 53,
   "outputs": [],
   "source": [
    "filtro_alcance = data_resultados['Alcance'] <= 8956521\n",
    "data_resultados = data_resultados[filtro_alcance]"
   ],
   "metadata": {
    "collapsed": false
   }
  },
  {
   "cell_type": "code",
   "execution_count": 54,
   "outputs": [
    {
     "data": {
      "text/plain": "                   Account  Followers   Servicio  Alcance  Impresiones  \\\n9990         ailutokman TK    1600000  Post Foto  8956521   10300000.0   \n9454  kulinaria.recetas TK    3300000  Post Foto  5739130    6600000.0   \n9450  kulinaria.recetas TK    2000000  Post Foto  5500000    6600000.0   \n\n      Interacciones Plataforma       Marca     Acción                Fecha  \\\n9990      1632528.0     TikTok  Hellmann's    Ketchup  2022-06-01 00:00:00   \n9454      1001527.0     TikTok         Cif  Climbing   2022-05-01 00:00:00   \n9450       879815.0     Tiktok         Cif   Climbing         Feb-Mar 2022   \n\n      reach/foll  Imp/Alc        ER  \n9990    5.597826     1.15  0.158498  \n9454    1.739130     1.15  0.151747  \n9450    2.750000     1.20  0.133305  ",
      "text/html": "<div>\n<style scoped>\n    .dataframe tbody tr th:only-of-type {\n        vertical-align: middle;\n    }\n\n    .dataframe tbody tr th {\n        vertical-align: top;\n    }\n\n    .dataframe thead th {\n        text-align: right;\n    }\n</style>\n<table border=\"1\" class=\"dataframe\">\n  <thead>\n    <tr style=\"text-align: right;\">\n      <th></th>\n      <th>Account</th>\n      <th>Followers</th>\n      <th>Servicio</th>\n      <th>Alcance</th>\n      <th>Impresiones</th>\n      <th>Interacciones</th>\n      <th>Plataforma</th>\n      <th>Marca</th>\n      <th>Acción</th>\n      <th>Fecha</th>\n      <th>reach/foll</th>\n      <th>Imp/Alc</th>\n      <th>ER</th>\n    </tr>\n  </thead>\n  <tbody>\n    <tr>\n      <th>9990</th>\n      <td>ailutokman TK</td>\n      <td>1600000</td>\n      <td>Post Foto</td>\n      <td>8956521</td>\n      <td>10300000.0</td>\n      <td>1632528.0</td>\n      <td>TikTok</td>\n      <td>Hellmann's</td>\n      <td>Ketchup</td>\n      <td>2022-06-01 00:00:00</td>\n      <td>5.597826</td>\n      <td>1.15</td>\n      <td>0.158498</td>\n    </tr>\n    <tr>\n      <th>9454</th>\n      <td>kulinaria.recetas TK</td>\n      <td>3300000</td>\n      <td>Post Foto</td>\n      <td>5739130</td>\n      <td>6600000.0</td>\n      <td>1001527.0</td>\n      <td>TikTok</td>\n      <td>Cif</td>\n      <td>Climbing</td>\n      <td>2022-05-01 00:00:00</td>\n      <td>1.739130</td>\n      <td>1.15</td>\n      <td>0.151747</td>\n    </tr>\n    <tr>\n      <th>9450</th>\n      <td>kulinaria.recetas TK</td>\n      <td>2000000</td>\n      <td>Post Foto</td>\n      <td>5500000</td>\n      <td>6600000.0</td>\n      <td>879815.0</td>\n      <td>Tiktok</td>\n      <td>Cif</td>\n      <td>Climbing</td>\n      <td>Feb-Mar 2022</td>\n      <td>2.750000</td>\n      <td>1.20</td>\n      <td>0.133305</td>\n    </tr>\n  </tbody>\n</table>\n</div>"
     },
     "execution_count": 54,
     "metadata": {},
     "output_type": "execute_result"
    }
   ],
   "source": [
    "data_resultados.nlargest(3, 'Alcance')"
   ],
   "metadata": {
    "collapsed": false
   }
  },
  {
   "cell_type": "markdown",
   "metadata": {},
   "source": [
    "Lo sigueinte que haremos es analizar con que marcas trabaja la agencia ZZZ en Argentina"
   ]
  },
  {
   "cell_type": "code",
   "execution_count": 55,
   "metadata": {},
   "outputs": [
    {
     "data": {
      "text/plain": "array(['ala', 'eucerin', 'sedal', 'vivere', 'skip', 'amex', 'dove',\n       'klorane', '???', 'clight', 'dkny', 'rexona', 'ath', 'cif',\n       'baby dove', 'pierre fabre', 'puig', 'maizena', 'energizer',\n       'cabify', 'tommy', 'amex\\xa0', 'milkaut', 'coderhouse', 'ufs',\n       'bagó', 'aperol', 'dermaglós', 'nivea', 'savora', 'ank',\n       'cencosud', 'naranja x', 'tang', 'unilever', 'adler', 'knorr',\n       'gps farma', 'gum', 'skip ', 'armorall', 'disco', \"hellmann's\",\n       'jumbo argentina', 'drogueria del sud', 'twdc', 'bagovit', 'stp',\n       'rexona ', 'estee lauder', 'savencia', 'tresemmé', 'mercado libre'],\n      dtype=object)"
     },
     "execution_count": 55,
     "metadata": {},
     "output_type": "execute_result"
    }
   ],
   "source": [
    "data_resultados['Marca'].str.lower().unique()"
   ]
  },
  {
   "cell_type": "markdown",
   "metadata": {},
   "source": [
    "En este caso queremos saber cuanto contenido es en Posteo y cuanto en Story"
   ]
  },
  {
   "cell_type": "code",
   "execution_count": 56,
   "metadata": {},
   "outputs": [
    {
     "data": {
      "text/plain": "             Account\nServicio            \nPost Foto       1961\nStory Foto     10777",
      "text/html": "<div>\n<style scoped>\n    .dataframe tbody tr th:only-of-type {\n        vertical-align: middle;\n    }\n\n    .dataframe tbody tr th {\n        vertical-align: top;\n    }\n\n    .dataframe thead th {\n        text-align: right;\n    }\n</style>\n<table border=\"1\" class=\"dataframe\">\n  <thead>\n    <tr style=\"text-align: right;\">\n      <th></th>\n      <th>Account</th>\n    </tr>\n    <tr>\n      <th>Servicio</th>\n      <th></th>\n    </tr>\n  </thead>\n  <tbody>\n    <tr>\n      <th>Post Foto</th>\n      <td>1961</td>\n    </tr>\n    <tr>\n      <th>Story Foto</th>\n      <td>10777</td>\n    </tr>\n  </tbody>\n</table>\n</div>"
     },
     "execution_count": 56,
     "metadata": {},
     "output_type": "execute_result"
    }
   ],
   "source": [
    "tipo_contenido = data_resultados[['Servicio', ' Account']].groupby('Servicio').count()\n",
    "tipo_contenido"
   ]
  },
  {
   "cell_type": "code",
   "execution_count": 57,
   "metadata": {},
   "outputs": [
    {
     "data": {
      "text/plain": "<Figure size 432x432 with 1 Axes>",
      "image/png": "[encoded data removed]"
     },
     "metadata": {},
     "output_type": "display_data"
    }
   ],
   "source": [
    "tipo_de_servio = ['Post Foto', 'Story Foto']\n",
    "cantidad_por_servicio = [1961, 10777]\n",
    "plt.pie(cantidad_por_servicio, labels=tipo_de_servio)\n",
    "plt.title(\"% de contenido de tipo de contenido\")\n",
    "plt.pie(cantidad_por_servicio, labels=tipo_de_servio, autopct=\"%0.1f %%\")\n",
    "plt.show()"
   ]
  },
  {
   "cell_type": "markdown",
   "metadata": {},
   "source": [
    "Y aca por plataforma:"
   ]
  },
  {
   "cell_type": "code",
   "execution_count": 58,
   "metadata": {},
   "outputs": [
    {
     "data": {
      "text/plain": "             Account\nPlataforma          \nFacebook           3\nInstagram      12657\nTikTok            60\nTiktok            14\nYouTube            3\nYoutube            1",
      "text/html": "<div>\n<style scoped>\n    .dataframe tbody tr th:only-of-type {\n        vertical-align: middle;\n    }\n\n    .dataframe tbody tr th {\n        vertical-align: top;\n    }\n\n    .dataframe thead th {\n        text-align: right;\n    }\n</style>\n<table border=\"1\" class=\"dataframe\">\n  <thead>\n    <tr style=\"text-align: right;\">\n      <th></th>\n      <th>Account</th>\n    </tr>\n    <tr>\n      <th>Plataforma</th>\n      <th></th>\n    </tr>\n  </thead>\n  <tbody>\n    <tr>\n      <th>Facebook</th>\n      <td>3</td>\n    </tr>\n    <tr>\n      <th>Instagram</th>\n      <td>12657</td>\n    </tr>\n    <tr>\n      <th>TikTok</th>\n      <td>60</td>\n    </tr>\n    <tr>\n      <th>Tiktok</th>\n      <td>14</td>\n    </tr>\n    <tr>\n      <th>YouTube</th>\n      <td>3</td>\n    </tr>\n    <tr>\n      <th>Youtube</th>\n      <td>1</td>\n    </tr>\n  </tbody>\n</table>\n</div>"
     },
     "execution_count": 58,
     "metadata": {},
     "output_type": "execute_result"
    }
   ],
   "source": [
    "contenido_plataforma = data_resultados[['Plataforma', ' Account']].groupby('Plataforma').count()\n",
    "contenido_plataforma"
   ]
  },
  {
   "cell_type": "markdown",
   "metadata": {},
   "source": [
    "Pero como hay plataformas con distinta nomenclatura vamos a pasar todas a minuscula"
   ]
  },
  {
   "cell_type": "code",
   "execution_count": 59,
   "metadata": {},
   "outputs": [],
   "source": [
    "data_resultados['Plataforma'] = data_resultados['Plataforma'].str.lower()"
   ]
  },
  {
   "cell_type": "code",
   "execution_count": 60,
   "metadata": {},
   "outputs": [
    {
     "data": {
      "text/plain": "             Account\nPlataforma          \nfacebook           3\ninstagram      12657\ntiktok            74\nyoutube            4",
      "text/html": "<div>\n<style scoped>\n    .dataframe tbody tr th:only-of-type {\n        vertical-align: middle;\n    }\n\n    .dataframe tbody tr th {\n        vertical-align: top;\n    }\n\n    .dataframe thead th {\n        text-align: right;\n    }\n</style>\n<table border=\"1\" class=\"dataframe\">\n  <thead>\n    <tr style=\"text-align: right;\">\n      <th></th>\n      <th>Account</th>\n    </tr>\n    <tr>\n      <th>Plataforma</th>\n      <th></th>\n    </tr>\n  </thead>\n  <tbody>\n    <tr>\n      <th>facebook</th>\n      <td>3</td>\n    </tr>\n    <tr>\n      <th>instagram</th>\n      <td>12657</td>\n    </tr>\n    <tr>\n      <th>tiktok</th>\n      <td>74</td>\n    </tr>\n    <tr>\n      <th>youtube</th>\n      <td>4</td>\n    </tr>\n  </tbody>\n</table>\n</div>"
     },
     "execution_count": 60,
     "metadata": {},
     "output_type": "execute_result"
    }
   ],
   "source": [
    "contenido_plataforma = data_resultados[['Plataforma', ' Account']].groupby('Plataforma').count()\n",
    "contenido_plataforma"
   ]
  },
  {
   "cell_type": "markdown",
   "source": [
    "## Modelo Regresion Lineal\n",
    "La hipotesis para este trabajo es que el alcance que consigue un contenido esta relacionado con la cantidad de followers que tiene el creador de contenido. Pero para eso vamos a analizar las diversas correlaciones entre las variables. Pero para podeer realizar este trabajo algunas columnas debemos estandarizar a traves de encoding"
   ],
   "metadata": {
    "collapsed": false
   }
  },
  {
   "cell_type": "code",
   "execution_count": 61,
   "outputs": [
    {
     "data": {
      "text/plain": "Index(['Followers', 'Alcance', 'Impresiones', 'Interacciones', 'reach/foll',\n       'Imp/Alc', 'ER'],\n      dtype='object')"
     },
     "execution_count": 61,
     "metadata": {},
     "output_type": "execute_result"
    }
   ],
   "source": [
    "numericas = data_resultados.select_dtypes(exclude=['object']).columns\n",
    "numericas"
   ],
   "metadata": {
    "collapsed": false
   }
  },
  {
   "cell_type": "code",
   "execution_count": 62,
   "outputs": [
    {
     "data": {
      "text/plain": "<AxesSubplot:title={'center':'Boxplot deInteracciones'}, xlabel='Interacciones'>"
     },
     "execution_count": 62,
     "metadata": {},
     "output_type": "execute_result"
    },
    {
     "data": {
      "text/plain": "<Figure size 1440x360 with 2 Axes>",
      "image/png": "[encoded data removed]"
     },
     "metadata": {},
     "output_type": "display_data"
    }
   ],
   "source": [
    "variable = 'Interacciones'\n",
    "\n",
    "fig, ax = plt.subplots(1,2,figsize=(20,5))\n",
    "\n",
    "ax[0].set_title(f\"Distribucion de {variable}\")\n",
    "sns.histplot(data = data_resultados, x = f\"{variable}\", kde=True, ax = ax[0])\n",
    "\n",
    "ax[1].set_title(f\"Boxplot de{variable}\")\n",
    "sns.boxplot(data = data_resultados, x = f\"{variable}\", ax=ax[1])"
   ],
   "metadata": {
    "collapsed": false
   }
  },
  {
   "cell_type": "code",
   "execution_count": 63,
   "outputs": [
    {
     "data": {
      "text/plain": "<AxesSubplot:title={'center':'Boxplot deImpresiones'}, xlabel='Impresiones'>"
     },
     "execution_count": 63,
     "metadata": {},
     "output_type": "execute_result"
    },
    {
     "data": {
      "text/plain": "<Figure size 1440x360 with 2 Axes>",
      "image/png": "[encoded data removed]"
     },
     "metadata": {},
     "output_type": "display_data"
    }
   ],
   "source": [
    "variable = 'Impresiones'\n",
    "\n",
    "fig, ax = plt.subplots(1,2,figsize=(20,5))\n",
    "\n",
    "ax[0].set_title(f\"Distribucion de {variable}\")\n",
    "sns.histplot(data = data_resultados, x = f\"{variable}\", kde=True, ax = ax[0])\n",
    "\n",
    "ax[1].set_title(f\"Boxplot de{variable}\")\n",
    "sns.boxplot(data = data_resultados, x = f\"{variable}\", ax=ax[1])"
   ],
   "metadata": {
    "collapsed": false
   }
  },
  {
   "cell_type": "code",
   "execution_count": 64,
   "outputs": [
    {
     "data": {
      "text/plain": "<AxesSubplot:title={'center':'Boxplot deAlcance'}, xlabel='Alcance'>"
     },
     "execution_count": 64,
     "metadata": {},
     "output_type": "execute_result"
    },
    {
     "data": {
      "text/plain": "<Figure size 1440x360 with 2 Axes>",
      "image/png": "[encoded data removed]"
     },
     "metadata": {},
     "output_type": "display_data"
    }
   ],
   "source": [
    "variable = 'Alcance'\n",
    "\n",
    "fig, ax = plt.subplots(1,2,figsize=(20,5))\n",
    "\n",
    "ax[0].set_title(f\"Distribucion de {variable}\")\n",
    "sns.histplot(data = data_resultados, x = f\"{variable}\", kde=True, ax = ax[0])\n",
    "\n",
    "ax[1].set_title(f\"Boxplot de{variable}\")\n",
    "sns.boxplot(data = data_resultados, x = f\"{variable}\", ax=ax[1])"
   ],
   "metadata": {
    "collapsed": false
   }
  },
  {
   "cell_type": "markdown",
   "source": [
    "En estos casos podemos ver que contamos con datos outliers y la distribucion no se distingue muy bien. Por lo cual vamos a utilizar el escalado robusto para normalizar los datos."
   ],
   "metadata": {
    "collapsed": false
   }
  },
  {
   "cell_type": "code",
   "execution_count": 65,
   "outputs": [],
   "source": [
    "from sklearn.preprocessing import RobustScaler\n",
    "\n",
    "rb_scaler = RobustScaler()\n",
    "data_resultados['Alcance'],data_resultados['Impresiones'],data_resultados['Interacciones'] = rb_scaler.fit_transform(data_resultados[['Alcance','Impresiones', 'Interacciones']]).T"
   ],
   "metadata": {
    "collapsed": false
   }
  },
  {
   "cell_type": "code",
   "execution_count": 66,
   "outputs": [
    {
     "data": {
      "text/plain": "         Account  Followers    Servicio   Alcance  Impresiones  Interacciones  \\\n0  _agusbelmonte      32800   Post Foto -0.065565    -0.039499       2.769231   \n1  _agusbelmonte      33000   Post Foto -0.126928    -0.105075       1.206731   \n2  _agusbelmonte      32400  Story Foto -0.236166    -0.235594       0.024038   \n3  _agusbelmonte      32400  Story Foto -0.234150    -0.233849       0.024038   \n4  _agusbelmonte      32400  Story Foto -0.229408    -0.228844       0.024038   \n\n  Plataforma    Marca   Acción                Fecha  reach/foll   Imp/Alc  \\\n0  instagram      Ala      Sou       Feb - Mar 2022    0.279482  1.200065   \n1  instagram  Eucerin  Curitas  2022-06-01 00:00:00    0.212303  1.199971   \n2  instagram      ALA      SOU  2021-07-01 00:00:00    0.097500  1.026907   \n3  instagram      ALA      SOU  2021-07-01 00:00:00    0.099691  1.025697   \n4  instagram      ALA      SOU  2021-07-01 00:00:00    0.104846  1.033559   \n\n         ER  \n0  0.056449  \n1  0.035209  \n2  0.015413  \n3  0.015092  \n4  0.014241  ",
      "text/html": "<div>\n<style scoped>\n    .dataframe tbody tr th:only-of-type {\n        vertical-align: middle;\n    }\n\n    .dataframe tbody tr th {\n        vertical-align: top;\n    }\n\n    .dataframe thead th {\n        text-align: right;\n    }\n</style>\n<table border=\"1\" class=\"dataframe\">\n  <thead>\n    <tr style=\"text-align: right;\">\n      <th></th>\n      <th>Account</th>\n      <th>Followers</th>\n      <th>Servicio</th>\n      <th>Alcance</th>\n      <th>Impresiones</th>\n      <th>Interacciones</th>\n      <th>Plataforma</th>\n      <th>Marca</th>\n      <th>Acción</th>\n      <th>Fecha</th>\n      <th>reach/foll</th>\n      <th>Imp/Alc</th>\n      <th>ER</th>\n    </tr>\n  </thead>\n  <tbody>\n    <tr>\n      <th>0</th>\n      <td>_agusbelmonte</td>\n      <td>32800</td>\n      <td>Post Foto</td>\n      <td>-0.065565</td>\n      <td>-0.039499</td>\n      <td>2.769231</td>\n      <td>instagram</td>\n      <td>Ala</td>\n      <td>Sou</td>\n      <td>Feb - Mar 2022</td>\n      <td>0.279482</td>\n      <td>1.200065</td>\n      <td>0.056449</td>\n    </tr>\n    <tr>\n      <th>1</th>\n      <td>_agusbelmonte</td>\n      <td>33000</td>\n      <td>Post Foto</td>\n      <td>-0.126928</td>\n      <td>-0.105075</td>\n      <td>1.206731</td>\n      <td>instagram</td>\n      <td>Eucerin</td>\n      <td>Curitas</td>\n      <td>2022-06-01 00:00:00</td>\n      <td>0.212303</td>\n      <td>1.199971</td>\n      <td>0.035209</td>\n    </tr>\n    <tr>\n      <th>2</th>\n      <td>_agusbelmonte</td>\n      <td>32400</td>\n      <td>Story Foto</td>\n      <td>-0.236166</td>\n      <td>-0.235594</td>\n      <td>0.024038</td>\n      <td>instagram</td>\n      <td>ALA</td>\n      <td>SOU</td>\n      <td>2021-07-01 00:00:00</td>\n      <td>0.097500</td>\n      <td>1.026907</td>\n      <td>0.015413</td>\n    </tr>\n    <tr>\n      <th>3</th>\n      <td>_agusbelmonte</td>\n      <td>32400</td>\n      <td>Story Foto</td>\n      <td>-0.234150</td>\n      <td>-0.233849</td>\n      <td>0.024038</td>\n      <td>instagram</td>\n      <td>ALA</td>\n      <td>SOU</td>\n      <td>2021-07-01 00:00:00</td>\n      <td>0.099691</td>\n      <td>1.025697</td>\n      <td>0.015092</td>\n    </tr>\n    <tr>\n      <th>4</th>\n      <td>_agusbelmonte</td>\n      <td>32400</td>\n      <td>Story Foto</td>\n      <td>-0.229408</td>\n      <td>-0.228844</td>\n      <td>0.024038</td>\n      <td>instagram</td>\n      <td>ALA</td>\n      <td>SOU</td>\n      <td>2021-07-01 00:00:00</td>\n      <td>0.104846</td>\n      <td>1.033559</td>\n      <td>0.014241</td>\n    </tr>\n  </tbody>\n</table>\n</div>"
     },
     "execution_count": 66,
     "metadata": {},
     "output_type": "execute_result"
    }
   ],
   "source": [
    "data_resultados.head()"
   ],
   "metadata": {
    "collapsed": false
   }
  },
  {
   "cell_type": "markdown",
   "source": [
    "En primer lugar, contamos con una variable categoria que debemos convertirla a numerica. Esto lo realizaremos con encoding. En este caso como son dos variables unicamente es mas sencillo de realizar a traves de codigo"
   ],
   "metadata": {
    "collapsed": false
   }
  },
  {
   "cell_type": "code",
   "execution_count": 67,
   "outputs": [
    {
     "name": "stdout",
     "output_type": "stream",
     "text": [
      "Los valores unicos de Aspiration son ['Post Foto' 'Story Foto']\n"
     ]
    }
   ],
   "source": [
    "print(f\"Los valores unicos de Aspiration son {data_resultados.Servicio.unique()}\")"
   ],
   "metadata": {
    "collapsed": false
   }
  },
  {
   "cell_type": "code",
   "execution_count": 68,
   "outputs": [],
   "source": [
    "def contenido(x):\n",
    "    if x ==\"Story Foto\":\n",
    "        return 1\n",
    "    elif x == \"Post Foto\":\n",
    "        return 0\n",
    "    else:\n",
    "        return 'error'\n",
    "\n",
    "data_resultados[\"tipo_contenido\"] = data_resultados[\"Servicio\"].apply(contenido)"
   ],
   "metadata": {
    "collapsed": false
   }
  },
  {
   "cell_type": "code",
   "execution_count": 69,
   "outputs": [
    {
     "data": {
      "text/plain": "         Account  Followers    Servicio   Alcance  Impresiones  Interacciones  \\\n0  _agusbelmonte      32800   Post Foto -0.065565    -0.039499       2.769231   \n1  _agusbelmonte      33000   Post Foto -0.126928    -0.105075       1.206731   \n2  _agusbelmonte      32400  Story Foto -0.236166    -0.235594       0.024038   \n3  _agusbelmonte      32400  Story Foto -0.234150    -0.233849       0.024038   \n4  _agusbelmonte      32400  Story Foto -0.229408    -0.228844       0.024038   \n\n  Plataforma    Marca   Acción                Fecha  reach/foll   Imp/Alc  \\\n0  instagram      Ala      Sou       Feb - Mar 2022    0.279482  1.200065   \n1  instagram  Eucerin  Curitas  2022-06-01 00:00:00    0.212303  1.199971   \n2  instagram      ALA      SOU  2021-07-01 00:00:00    0.097500  1.026907   \n3  instagram      ALA      SOU  2021-07-01 00:00:00    0.099691  1.025697   \n4  instagram      ALA      SOU  2021-07-01 00:00:00    0.104846  1.033559   \n\n         ER  tipo_contenido  \n0  0.056449               0  \n1  0.035209               0  \n2  0.015413               1  \n3  0.015092               1  \n4  0.014241               1  ",
      "text/html": "<div>\n<style scoped>\n    .dataframe tbody tr th:only-of-type {\n        vertical-align: middle;\n    }\n\n    .dataframe tbody tr th {\n        vertical-align: top;\n    }\n\n    .dataframe thead th {\n        text-align: right;\n    }\n</style>\n<table border=\"1\" class=\"dataframe\">\n  <thead>\n    <tr style=\"text-align: right;\">\n      <th></th>\n      <th>Account</th>\n      <th>Followers</th>\n      <th>Servicio</th>\n      <th>Alcance</th>\n      <th>Impresiones</th>\n      <th>Interacciones</th>\n      <th>Plataforma</th>\n      <th>Marca</th>\n      <th>Acción</th>\n      <th>Fecha</th>\n      <th>reach/foll</th>\n      <th>Imp/Alc</th>\n      <th>ER</th>\n      <th>tipo_contenido</th>\n    </tr>\n  </thead>\n  <tbody>\n    <tr>\n      <th>0</th>\n      <td>_agusbelmonte</td>\n      <td>32800</td>\n      <td>Post Foto</td>\n      <td>-0.065565</td>\n      <td>-0.039499</td>\n      <td>2.769231</td>\n      <td>instagram</td>\n      <td>Ala</td>\n      <td>Sou</td>\n      <td>Feb - Mar 2022</td>\n      <td>0.279482</td>\n      <td>1.200065</td>\n      <td>0.056449</td>\n      <td>0</td>\n    </tr>\n    <tr>\n      <th>1</th>\n      <td>_agusbelmonte</td>\n      <td>33000</td>\n      <td>Post Foto</td>\n      <td>-0.126928</td>\n      <td>-0.105075</td>\n      <td>1.206731</td>\n      <td>instagram</td>\n      <td>Eucerin</td>\n      <td>Curitas</td>\n      <td>2022-06-01 00:00:00</td>\n      <td>0.212303</td>\n      <td>1.199971</td>\n      <td>0.035209</td>\n      <td>0</td>\n    </tr>\n    <tr>\n      <th>2</th>\n      <td>_agusbelmonte</td>\n      <td>32400</td>\n      <td>Story Foto</td>\n      <td>-0.236166</td>\n      <td>-0.235594</td>\n      <td>0.024038</td>\n      <td>instagram</td>\n      <td>ALA</td>\n      <td>SOU</td>\n      <td>2021-07-01 00:00:00</td>\n      <td>0.097500</td>\n      <td>1.026907</td>\n      <td>0.015413</td>\n      <td>1</td>\n    </tr>\n    <tr>\n      <th>3</th>\n      <td>_agusbelmonte</td>\n      <td>32400</td>\n      <td>Story Foto</td>\n      <td>-0.234150</td>\n      <td>-0.233849</td>\n      <td>0.024038</td>\n      <td>instagram</td>\n      <td>ALA</td>\n      <td>SOU</td>\n      <td>2021-07-01 00:00:00</td>\n      <td>0.099691</td>\n      <td>1.025697</td>\n      <td>0.015092</td>\n      <td>1</td>\n    </tr>\n    <tr>\n      <th>4</th>\n      <td>_agusbelmonte</td>\n      <td>32400</td>\n      <td>Story Foto</td>\n      <td>-0.229408</td>\n      <td>-0.228844</td>\n      <td>0.024038</td>\n      <td>instagram</td>\n      <td>ALA</td>\n      <td>SOU</td>\n      <td>2021-07-01 00:00:00</td>\n      <td>0.104846</td>\n      <td>1.033559</td>\n      <td>0.014241</td>\n      <td>1</td>\n    </tr>\n  </tbody>\n</table>\n</div>"
     },
     "execution_count": 69,
     "metadata": {},
     "output_type": "execute_result"
    }
   ],
   "source": [
    "data_resultados.head()"
   ],
   "metadata": {
    "collapsed": false
   }
  },
  {
   "cell_type": "markdown",
   "source": [
    "## Modelo Regresion Lineal"
   ],
   "metadata": {
    "collapsed": false
   }
  },
  {
   "cell_type": "markdown",
   "source": [
    "Como dijimos anteriormente creemos que el alcance se explica por la cantidad de followers que tiene un perfil. Tambien esperamos que alcance e impresiones tengan una relacion fuerte. Porque estas dos metricas son muy similares salvo excepciones\n",
    "Por otro lado, algunas columnas van a tener que mucha relacion entre si, porque estan calculadas a partir de alcance e impresiones"
   ],
   "metadata": {
    "collapsed": false
   }
  },
  {
   "cell_type": "code",
   "execution_count": 70,
   "outputs": [],
   "source": [
    "import seaborn as sns"
   ],
   "metadata": {
    "collapsed": false
   }
  },
  {
   "cell_type": "code",
   "execution_count": 71,
   "outputs": [
    {
     "data": {
      "text/plain": "<AxesSubplot:>"
     },
     "execution_count": 71,
     "metadata": {},
     "output_type": "execute_result"
    },
    {
     "data": {
      "text/plain": "<Figure size 360x360 with 2 Axes>",
      "image/png": "[encoded data removed]"
     },
     "metadata": {},
     "output_type": "display_data"
    }
   ],
   "source": [
    "plt.figure(figsize = (5, 5))\n",
    "\n",
    "sns.heatmap(\n",
    "    data_resultados.corr(),\n",
    "    cmap = 'coolwarm',\n",
    "    annot = True,\n",
    "    annot_kws = {\"size\": 10}\n",
    ")"
   ],
   "metadata": {
    "collapsed": false
   }
  },
  {
   "cell_type": "markdown",
   "source": [
    "Otra manera de ver lo mismo es:"
   ],
   "metadata": {
    "collapsed": false
   }
  },
  {
   "cell_type": "code",
   "execution_count": 87,
   "outputs": [
    {
     "data": {
      "text/plain": "                Followers  Alcance  Impresiones  Interacciones  reach/foll  \\\nFollowers            1.00     0.44         0.32           0.14       -0.03   \nAlcance              0.44     1.00         0.69           0.82        0.51   \nImpresiones          0.32     0.69         1.00           0.57        0.35   \nInteracciones        0.14     0.82         0.57           1.00        0.43   \nreach/foll          -0.03     0.51         0.35           0.43        1.00   \nImp/Alc              0.02    -0.01         0.26          -0.00       -0.02   \nER                  -0.04     0.16         0.10           0.27        0.30   \ntipo_contenido      -0.02    -0.23        -0.15          -0.20       -0.44   \n\n                Imp/Alc    ER  tipo_contenido  \nFollowers          0.02 -0.04           -0.02  \nAlcance           -0.01  0.16           -0.23  \nImpresiones        0.26  0.10           -0.15  \nInteracciones     -0.00  0.27           -0.20  \nreach/foll        -0.02  0.30           -0.44  \nImp/Alc            1.00 -0.02            0.02  \nER                -0.02  1.00           -0.64  \ntipo_contenido     0.02 -0.64            1.00  ",
      "text/html": "<div>\n<style scoped>\n    .dataframe tbody tr th:only-of-type {\n        vertical-align: middle;\n    }\n\n    .dataframe tbody tr th {\n        vertical-align: top;\n    }\n\n    .dataframe thead th {\n        text-align: right;\n    }\n</style>\n<table border=\"1\" class=\"dataframe\">\n  <thead>\n    <tr style=\"text-align: right;\">\n      <th></th>\n      <th>Followers</th>\n      <th>Alcance</th>\n      <th>Impresiones</th>\n      <th>Interacciones</th>\n      <th>reach/foll</th>\n      <th>Imp/Alc</th>\n      <th>ER</th>\n      <th>tipo_contenido</th>\n    </tr>\n  </thead>\n  <tbody>\n    <tr>\n      <th>Followers</th>\n      <td>1.00</td>\n      <td>0.44</td>\n      <td>0.32</td>\n      <td>0.14</td>\n      <td>-0.03</td>\n      <td>0.02</td>\n      <td>-0.04</td>\n      <td>-0.02</td>\n    </tr>\n    <tr>\n      <th>Alcance</th>\n      <td>0.44</td>\n      <td>1.00</td>\n      <td>0.69</td>\n      <td>0.82</td>\n      <td>0.51</td>\n      <td>-0.01</td>\n      <td>0.16</td>\n      <td>-0.23</td>\n    </tr>\n    <tr>\n      <th>Impresiones</th>\n      <td>0.32</td>\n      <td>0.69</td>\n      <td>1.00</td>\n      <td>0.57</td>\n      <td>0.35</td>\n      <td>0.26</td>\n      <td>0.10</td>\n      <td>-0.15</td>\n    </tr>\n    <tr>\n      <th>Interacciones</th>\n      <td>0.14</td>\n      <td>0.82</td>\n      <td>0.57</td>\n      <td>1.00</td>\n      <td>0.43</td>\n      <td>-0.00</td>\n      <td>0.27</td>\n      <td>-0.20</td>\n    </tr>\n    <tr>\n      <th>reach/foll</th>\n      <td>-0.03</td>\n      <td>0.51</td>\n      <td>0.35</td>\n      <td>0.43</td>\n      <td>1.00</td>\n      <td>-0.02</td>\n      <td>0.30</td>\n      <td>-0.44</td>\n    </tr>\n    <tr>\n      <th>Imp/Alc</th>\n      <td>0.02</td>\n      <td>-0.01</td>\n      <td>0.26</td>\n      <td>-0.00</td>\n      <td>-0.02</td>\n      <td>1.00</td>\n      <td>-0.02</td>\n      <td>0.02</td>\n    </tr>\n    <tr>\n      <th>ER</th>\n      <td>-0.04</td>\n      <td>0.16</td>\n      <td>0.10</td>\n      <td>0.27</td>\n      <td>0.30</td>\n      <td>-0.02</td>\n      <td>1.00</td>\n      <td>-0.64</td>\n    </tr>\n    <tr>\n      <th>tipo_contenido</th>\n      <td>-0.02</td>\n      <td>-0.23</td>\n      <td>-0.15</td>\n      <td>-0.20</td>\n      <td>-0.44</td>\n      <td>0.02</td>\n      <td>-0.64</td>\n      <td>1.00</td>\n    </tr>\n  </tbody>\n</table>\n</div>"
     },
     "execution_count": 87,
     "metadata": {},
     "output_type": "execute_result"
    }
   ],
   "source": [
    "round(data_resultados.corr(),2)"
   ],
   "metadata": {
    "collapsed": false
   }
  },
  {
   "cell_type": "markdown",
   "source": [
    "Es sorprendente notar que la hipotesis a primer vista se cumple, pero que hay otras correlaciones mas fuertes que la planteada al inicio . Por ejemplo la relacion de Alcance e Impresiones es muy cercana a 1 lo cual tiene sentido porque son dos indicadores que van muy atados uno al otro. Pero en el caso de Alcance con Interacciones es sorprende porque no era consiente de esa relacion.\n",
    "\n",
    "Para la agencia ZZZ este insight es muy interesante, porque al momento de contratar a un influencers con el que no se trabajo se podria predecir cuanto es el alcance. Esto se debe a que las metricas de alcance e impresiones son privadas en la mayoria de las plataformas, pero la mayoria de las interacciones si son publicas. Entonces para esta agencia, sabiendo las interacciones del perfil podria estimar cuanto es el alcance y determinar si le sirve o no para las diversas campañas de marketing"
   ],
   "metadata": {
    "collapsed": false
   }
  },
  {
   "cell_type": "markdown",
   "source": [
    "Por lo cual en este grafico vamos a visualizar la relacion de todos nuestros datos entre el alcance y las interacciones"
   ],
   "metadata": {
    "collapsed": false
   }
  },
  {
   "cell_type": "code",
   "execution_count": 82,
   "outputs": [
    {
     "data": {
      "text/plain": "<Figure size 432x432 with 1 Axes>",
      "image/png": "[encoded data removed]"
     },
     "metadata": {},
     "output_type": "display_data"
    }
   ],
   "source": [
    "sns.scatterplot(x='Interacciones', y='Alcance', data=data_resultados);"
   ],
   "metadata": {
    "collapsed": false
   }
  },
  {
   "cell_type": "code",
   "execution_count": 85,
   "outputs": [
    {
     "data": {
      "text/plain": "<Figure size 1080x720 with 2 Axes>",
      "image/png": "[encoded data removed]"
     },
     "metadata": {},
     "output_type": "display_data"
    }
   ],
   "source": [
    "plt.figure(figsize=(15,10))\n",
    "plt.subplot(2,2,1)\n",
    "sns.regplot(x='Interacciones', y='Alcance', data=data_resultados, ci=95)\n",
    "plt.subplot(2,2,2)\n",
    "sns.regplot(x='Interacciones', y='Alcance', data=data_resultados.sample(10, random_state=3), ci=95)"
   ],
   "metadata": {
    "collapsed": false
   }
  },
  {
   "cell_type": "markdown",
   "source": [
    "Y ahora pasaremos a realizar el modelo. Donde buscaremos explicar el alcance a traves de la cantidad de interacciones que tiene un contenido"
   ],
   "metadata": {
    "collapsed": false
   }
  },
  {
   "cell_type": "code",
   "execution_count": 86,
   "outputs": [
    {
     "data": {
      "text/plain": "<statsmodels.regression.linear_model.RegressionResultsWrapper at 0x7f83e2fa6ca0>"
     },
     "execution_count": 86,
     "metadata": {},
     "output_type": "execute_result"
    }
   ],
   "source": [
    "import statsmodels.formula.api as smf\n",
    "\n",
    "model = smf.ols(formula='Alcance ~ Interacciones', data=data_resultados)\n",
    "\n",
    "# Train the model to find best line\n",
    "model = model.fit()\n",
    "model"
   ],
   "metadata": {
    "collapsed": false
   }
  },
  {
   "cell_type": "code",
   "execution_count": 75,
   "outputs": [
    {
     "name": "stdout",
     "output_type": "stream",
     "text": [
      "Intercept        0.791444\n",
      "Interacciones    0.037048\n",
      "dtype: float64\n"
     ]
    }
   ],
   "source": [
    "print(model.params)"
   ],
   "metadata": {
    "collapsed": false
   }
  },
  {
   "cell_type": "markdown",
   "source": [
    "Los parametros que nos devuelve significna lo sigueinte:\n",
    "- La interpcept es lo normalmente conocido como ordenada de origen, o sea que cuando tengamos 0 interacciones, el alcance sera 0.79.\n",
    "- Interacciones: es la pendiente. Esto quiere decir que a medida que aumente una interaccion, el alcance crecera un 0.03"
   ],
   "metadata": {
    "collapsed": false
   }
  },
  {
   "cell_type": "code",
   "execution_count": 88,
   "outputs": [
    {
     "name": "stdout",
     "output_type": "stream",
     "text": [
      "R-cuadrado =  0.6748107123660377\n"
     ]
    }
   ],
   "source": [
    "print('R-cuadrado = ', (data_resultados.corr()['Alcance']['Interacciones'])**2)"
   ],
   "metadata": {
    "collapsed": false
   }
  },
  {
   "cell_type": "markdown",
   "source": [
    "Otra manera de ver lo mismo:"
   ],
   "metadata": {
    "collapsed": false
   }
  },
  {
   "cell_type": "code",
   "execution_count": 91,
   "outputs": [
    {
     "data": {
      "text/plain": "0.6748107123660361"
     },
     "execution_count": 91,
     "metadata": {},
     "output_type": "execute_result"
    }
   ],
   "source": [
    "model.rsquared"
   ],
   "metadata": {
    "collapsed": false
   }
  },
  {
   "cell_type": "markdown",
   "source": [
    "El R2 es el coeficiente de determinación es la proporción de la varianza total de la variable explicada por la regresión. En otras palabras es una medida estadística de qué tan cerca están los datos de la línea de regresión ajustada. Este valor puede ir de 0 a 1 (aunque existan casos negativos), en este caso al estar cercano a 1 podemos decir que el objetivo se explica bastante bien por las caracteristicas de las interacciones"
   ],
   "metadata": {
    "collapsed": false
   }
  },
  {
   "cell_type": "code",
   "execution_count": 77,
   "outputs": [
    {
     "data": {
      "text/plain": "<class 'statsmodels.iolib.summary.Summary'>\n\"\"\"\n                            OLS Regression Results                            \n==============================================================================\nDep. Variable:                Alcance   R-squared:                       0.675\nModel:                            OLS   Adj. R-squared:                  0.675\nMethod:                 Least Squares   F-statistic:                 2.643e+04\nDate:                Tue, 29 Nov 2022   Prob (F-statistic):               0.00\nTime:                        17:33:21   Log-Likelihood:                -31266.\nNo. Observations:               12738   AIC:                         6.254e+04\nDf Residuals:                   12736   BIC:                         6.255e+04\nDf Model:                           1                                         \nCovariance Type:            nonrobust                                         \n=================================================================================\n                    coef    std err          t      P>|t|      [0.025      0.975]\n---------------------------------------------------------------------------------\nIntercept         0.7914      0.025     31.578      0.000       0.742       0.841\nInteracciones     0.0370      0.000    162.570      0.000       0.037       0.037\n==============================================================================\nOmnibus:                    16967.488   Durbin-Watson:                   0.842\nProb(Omnibus):                  0.000   Jarque-Bera (JB):         15283041.239\nSkew:                           6.996   Prob(JB):                         0.00\nKurtosis:                     172.114   Cond. No.                         110.\n==============================================================================\n\nNotes:\n[1] Standard Errors assume that the covariance matrix of the errors is correctly specified.\n\"\"\"",
      "text/html": "<table class=\"simpletable\">\n<caption>OLS Regression Results</caption>\n<tr>\n  <th>Dep. Variable:</th>         <td>Alcance</td>     <th>  R-squared:         </th> <td>   0.675</td> \n</tr>\n<tr>\n  <th>Model:</th>                   <td>OLS</td>       <th>  Adj. R-squared:    </th> <td>   0.675</td> \n</tr>\n<tr>\n  <th>Method:</th>             <td>Least Squares</td>  <th>  F-statistic:       </th> <td>2.643e+04</td>\n</tr>\n<tr>\n  <th>Date:</th>             <td>Tue, 29 Nov 2022</td> <th>  Prob (F-statistic):</th>  <td>  0.00</td>  \n</tr>\n<tr>\n  <th>Time:</th>                 <td>17:33:21</td>     <th>  Log-Likelihood:    </th> <td> -31266.</td> \n</tr>\n<tr>\n  <th>No. Observations:</th>      <td> 12738</td>      <th>  AIC:               </th> <td>6.254e+04</td>\n</tr>\n<tr>\n  <th>Df Residuals:</th>          <td> 12736</td>      <th>  BIC:               </th> <td>6.255e+04</td>\n</tr>\n<tr>\n  <th>Df Model:</th>              <td>     1</td>      <th>                     </th>     <td> </td>    \n</tr>\n<tr>\n  <th>Covariance Type:</th>      <td>nonrobust</td>    <th>                     </th>     <td> </td>    \n</tr>\n</table>\n<table class=\"simpletable\">\n<tr>\n        <td></td>           <th>coef</th>     <th>std err</th>      <th>t</th>      <th>P>|t|</th>  <th>[0.025</th>    <th>0.975]</th>  \n</tr>\n<tr>\n  <th>Intercept</th>     <td>    0.7914</td> <td>    0.025</td> <td>   31.578</td> <td> 0.000</td> <td>    0.742</td> <td>    0.841</td>\n</tr>\n<tr>\n  <th>Interacciones</th> <td>    0.0370</td> <td>    0.000</td> <td>  162.570</td> <td> 0.000</td> <td>    0.037</td> <td>    0.037</td>\n</tr>\n</table>\n<table class=\"simpletable\">\n<tr>\n  <th>Omnibus:</th>       <td>16967.488</td> <th>  Durbin-Watson:     </th>   <td>   0.842</td>  \n</tr>\n<tr>\n  <th>Prob(Omnibus):</th>  <td> 0.000</td>   <th>  Jarque-Bera (JB):  </th> <td>15283041.239</td>\n</tr>\n<tr>\n  <th>Skew:</th>           <td> 6.996</td>   <th>  Prob(JB):          </th>   <td>    0.00</td>  \n</tr>\n<tr>\n  <th>Kurtosis:</th>       <td>172.114</td>  <th>  Cond. No.          </th>   <td>    110.</td>  \n</tr>\n</table><br/><br/>Notes:<br/>[1] Standard Errors assume that the covariance matrix of the errors is correctly specified."
     },
     "execution_count": 77,
     "metadata": {},
     "output_type": "execute_result"
    }
   ],
   "source": [
    "model.summary()"
   ],
   "metadata": {
    "collapsed": false
   }
  },
  {
   "cell_type": "markdown",
   "source": [],
   "metadata": {
    "collapsed": false
   }
  },
  {
   "cell_type": "markdown",
   "source": [],
   "metadata": {
    "collapsed": false
   }
  },
  {
   "cell_type": "code",
   "execution_count": 78,
   "outputs": [
    {
     "data": {
      "text/plain": "0.019498694337058607"
     },
     "execution_count": 78,
     "metadata": {},
     "output_type": "execute_result"
    }
   ],
   "source": [
    "n=390\n",
    "residuals = model.predict(data_resultados['Interacciones']) - data_resultados['Alcance']\n",
    "residuals.std()/data_resultados.Impresiones.std() * 1/(n**0.5)"
   ],
   "metadata": {
    "collapsed": false
   }
  },
  {
   "cell_type": "code",
   "execution_count": 93,
   "outputs": [
    {
     "data": {
      "text/plain": "<Figure size 432x432 with 1 Axes>",
      "image/png": "[encoded data removed]"
     },
     "metadata": {},
     "output_type": "display_data"
    }
   ],
   "source": [
    "sns.histplot(residuals, kde=True, edgecolor='w');"
   ],
   "metadata": {
    "collapsed": false
   }
  },
  {
   "cell_type": "code",
   "execution_count": 92,
   "outputs": [
    {
     "data": {
      "text/plain": "0        0.894039\n1        0.836151\n2        0.792334\n3        0.792334\n4        0.792334\n           ...   \n13124    0.784147\n13125    0.783659\n13126    0.784127\n13127    0.784292\n13128    0.783769\nLength: 12738, dtype: float64"
     },
     "execution_count": 92,
     "metadata": {},
     "output_type": "execute_result"
    }
   ],
   "source": [
    "predicted_interacciones = model.predict(data_resultados['Interacciones'])\n",
    "predicted_interacciones"
   ],
   "metadata": {
    "collapsed": false
   }
  },
  {
   "cell_type": "markdown",
   "source": [
    "En este caso lo que esta haciendo es calcular los residuos que tenemos por registro"
   ],
   "metadata": {
    "collapsed": false
   }
  },
  {
   "cell_type": "code",
   "execution_count": 81,
   "outputs": [
    {
     "data": {
      "text/plain": "<Figure size 432x432 with 1 Axes>",
      "image/png": "[encoded data removed]"
     },
     "metadata": {},
     "output_type": "display_data"
    }
   ],
   "source": [
    "sns.scatterplot(x=predicted_interacciones, y=residuals)\n",
    "plt.xlabel('Predicted weight')\n",
    "plt.ylabel('Residual weight');"
   ],
   "metadata": {
    "collapsed": false
   }
  },
  {
   "cell_type": "markdown",
   "source": [
    "Ahora lo que buscaremos es aplicar este modelo a alguna instancia que no exista en nuestra base. Para eso seleccionaremos dos post de las redes sociales para calcular su alcance a traves de las metricas de interacciones.\n",
    "- SofiSantos TK: https://www.tiktok.com/@sofisantosok/video/7170549560731782405?is_copy_url=1&is_from_webapp=v1\n",
    "    - Cuenta con 108500 likes, 237 comments, 2980 guardados y 227 enviados"
   ],
   "metadata": {
    "collapsed": false
   }
  },
  {
   "cell_type": "code",
   "execution_count": 94,
   "outputs": [],
   "source": [
    "sofi_santos_interacciones = 108500+237+2980+227"
   ],
   "metadata": {
    "collapsed": false
   }
  },
  {
   "cell_type": "code",
   "execution_count": 98,
   "outputs": [],
   "source": [
    "ordenada_de_origen = model.params[0]\n",
    "pendiente = model.params[1]"
   ],
   "metadata": {
    "collapsed": false
   }
  },
  {
   "cell_type": "code",
   "execution_count": 104,
   "outputs": [],
   "source": [
    "def estimacion_alcance (x):\n",
    "    print(ordenada_de_origen+pendiente*x)"
   ],
   "metadata": {
    "collapsed": false
   }
  },
  {
   "cell_type": "code",
   "execution_count": 105,
   "outputs": [
    {
     "name": "stdout",
     "output_type": "stream",
     "text": [
      "4148.115331961691\n"
     ]
    }
   ],
   "source": [
    "estimacion_alcance(sofi_santos_interacciones)"
   ],
   "metadata": {
    "collapsed": false
   }
  },
  {
   "cell_type": "markdown",
   "source": [
    "Mirando el numero asi no nos hace mucho sentido, pero eso esta relacionado con nuestra normalizacion de datos de alcance que  utilizamos anteriormente. En caso de no haberlo realizado el numero que nos devuelve nuestro modelo es 741254.5943610518. EL cual tiene sentido porque el video cuenta con 840.100 visualizaciones y normalmente el alcance es un 15% menos que las visualizaciones"
   ],
   "metadata": {
    "collapsed": false
   }
  },
  {
   "cell_type": "code",
   "execution_count": 112,
   "outputs": [
    {
     "data": {
      "text/plain": "178.69671767551944"
     },
     "execution_count": 112,
     "metadata": {},
     "output_type": "execute_result"
    }
   ],
   "source": [
    "741254.5943610518 / 4148.115331961691"
   ],
   "metadata": {
    "collapsed": false
   }
  },
  {
   "cell_type": "markdown",
   "source": [
    "Otro caso que podemos analizar es\n",
    "- LuisitoComunica: https://www.instagram.com/p/CljOBSfsz-B\n",
    "    - donde cuenta con 741795 me gusta y 10700 comentarios"
   ],
   "metadata": {
    "collapsed": false
   }
  },
  {
   "cell_type": "code",
   "execution_count": 107,
   "outputs": [],
   "source": [
    "luisito_comunica_interacciones = 741795 + 10700"
   ],
   "metadata": {
    "collapsed": false
   }
  },
  {
   "cell_type": "code",
   "execution_count": 108,
   "outputs": [
    {
     "name": "stdout",
     "output_type": "stream",
     "text": [
      "27879.377963004245\n"
     ]
    }
   ],
   "source": [
    "estimacion_alcance(luisito_comunica_interacciones)"
   ],
   "metadata": {
    "collapsed": false
   }
  },
  {
   "cell_type": "markdown",
   "source": [
    "En este caso sucede lo mismo, como los datos estan normalizados, el valor que nos devuelve no es proporcional a lo que deberia ser.\n",
    "El resultado que nos devuelve el modelo sin normalizar es: 4759225.475427239. Lo cual tiene sentido porque implicaria un reach de 14,5% que para un perfil tan grande como este es normal tirando a bajo.\n"
   ],
   "metadata": {
    "collapsed": false
   }
  },
  {
   "cell_type": "code",
   "execution_count": 113,
   "outputs": [
    {
     "data": {
      "text/plain": "170.70773536420722"
     },
     "execution_count": 113,
     "metadata": {},
     "output_type": "execute_result"
    }
   ],
   "source": [
    "4759225.475427239/ 27879.377963004245"
   ],
   "metadata": {
    "collapsed": false
   }
  },
  {
   "cell_type": "markdown",
   "source": [
    "Sabiendo estos dos ejemplos podemos determinar que nuestro modelo nos devuelve un numero afectado por el escalado, por lo que luego deberiamos multiplicarlo por 175 mas o menos"
   ],
   "metadata": {
    "collapsed": false
   }
  },
  {
   "cell_type": "markdown",
   "source": [],
   "metadata": {
    "collapsed": false
   }
  }
 ],
 "metadata": {
  "kernelspec": {
   "display_name": "Python 3 (ipykernel)",
   "language": "python",
   "name": "python3"
  },
  "language_info": {
   "codemirror_mode": {
    "name": "ipython",
    "version": 3
   },
   "file_extension": ".py",
   "mimetype": "text/x-python",
   "name": "python",
   "nbconvert_exporter": "python",
   "pygments_lexer": "ipython3",
   "version": "3.9.12"
  }
 },
 "nbformat": 4,
 "nbformat_minor": 1
}
