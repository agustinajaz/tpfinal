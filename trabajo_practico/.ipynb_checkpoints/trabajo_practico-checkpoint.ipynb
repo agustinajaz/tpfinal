{
 "cells": [
  {
   "cell_type": "code",
   "execution_count": 562,
   "metadata": {},
   "outputs": [],
   "source": [
    "import pandas as pd\n",
    "import pylab as pl\n",
    "import seaborn as sns\n",
    "import matplotlib.pyplot as plt\n",
    "import numpy as np"
   ]
  },
  {
   "cell_type": "markdown",
   "metadata": {},
   "source": [
    "En este trabajo practico vamos a analizar los datos de una agencia de publicidad con influencers via distintas plataformas (Instagram, Facebook, Twitter, etc).\n",
    "\n",
    "El primero DF que vamos a analizar es el que contiene data demografia de los distintos perfiles con sus followers y alguna data adicional."
   ]
  },
  {
   "cell_type": "markdown",
   "metadata": {},
   "source": [
    "Los datos de este DF los podemos obtener de 2 maneras:\n",
    "1. Los creadores de contenido nos comparten las fotos de sus metricas\n",
    "2. En caso de que no las compartan, se estiman segun perfiles similares que las plataformas nos indican por compartir similitud demografica\n",
    "Esta informacion se ve en la columna de \"tenemos datos?\". En el caso de \"Parcial\" se debe a que mando sus metricas reales pero algunas siguen faltando"
   ]
  },
  {
   "cell_type": "code",
   "execution_count": 563,
   "metadata": {},
   "outputs": [],
   "source": [
    "path_file1 = \"data/TEMPLATE ARGENTINA - Con modificacion Talent (1)-2.xlsx\""
   ]
  },
  {
   "cell_type": "code",
   "execution_count": 564,
   "metadata": {},
   "outputs": [],
   "source": [
    "data_influencers = pd.read_excel(path_file1)"
   ]
  },
  {
   "cell_type": "code",
   "execution_count": 565,
   "metadata": {},
   "outputs": [
    {
     "data": {
      "text/html": [
       "<div>\n",
       "<style scoped>\n",
       "    .dataframe tbody tr th:only-of-type {\n",
       "        vertical-align: middle;\n",
       "    }\n",
       "\n",
       "    .dataframe tbody tr th {\n",
       "        vertical-align: top;\n",
       "    }\n",
       "\n",
       "    .dataframe thead th {\n",
       "        text-align: right;\n",
       "    }\n",
       "</style>\n",
       "<table border=\"1\" class=\"dataframe\">\n",
       "  <thead>\n",
       "    <tr style=\"text-align: right;\">\n",
       "      <th></th>\n",
       "      <th>Account</th>\n",
       "      <th>Link</th>\n",
       "      <th>Tenemos datos?</th>\n",
       "      <th>Fecha ultima actualización data</th>\n",
       "      <th>similar a</th>\n",
       "      <th>Followers</th>\n",
       "      <th>1ra Categoría</th>\n",
       "      <th>2da Categoría</th>\n",
       "      <th>3ra Categoría</th>\n",
       "      <th>ER</th>\n",
       "      <th>...</th>\n",
       "      <th>F 35-44</th>\n",
       "      <th>F 45-54</th>\n",
       "      <th>F 55-64</th>\n",
       "      <th>F \"+65\"</th>\n",
       "      <th>Argentina</th>\n",
       "      <th>Other</th>\n",
       "      <th>CPM historico</th>\n",
       "      <th>Tiene Fee Plataforma?</th>\n",
       "      <th>REPRESENTANTE</th>\n",
       "      <th>Nombre Perfil</th>\n",
       "    </tr>\n",
       "  </thead>\n",
       "  <tbody>\n",
       "    <tr>\n",
       "      <th>0</th>\n",
       "      <td>alfonsobenja</td>\n",
       "      <td>https://www.instagram.com/alfonsobenja</td>\n",
       "      <td>Si</td>\n",
       "      <td>2021-03-27</td>\n",
       "      <td>NaN</td>\n",
       "      <td>389358.0</td>\n",
       "      <td>Actor/Actress</td>\n",
       "      <td>NaN</td>\n",
       "      <td>NaN</td>\n",
       "      <td>0.0532</td>\n",
       "      <td>...</td>\n",
       "      <td>0.130</td>\n",
       "      <td>0.03</td>\n",
       "      <td>0.001</td>\n",
       "      <td>-0.001</td>\n",
       "      <td>0.880</td>\n",
       "      <td>0.120</td>\n",
       "      <td>0.0</td>\n",
       "      <td>no</td>\n",
       "      <td>si</td>\n",
       "      <td>si</td>\n",
       "    </tr>\n",
       "    <tr>\n",
       "      <th>1</th>\n",
       "      <td>lucianocaceresok</td>\n",
       "      <td>https://www.instagram.com/lucianocaceresok</td>\n",
       "      <td>No</td>\n",
       "      <td>2021-06-17</td>\n",
       "      <td>ludovicods</td>\n",
       "      <td>153011.0</td>\n",
       "      <td>Actor/Actress</td>\n",
       "      <td>NaN</td>\n",
       "      <td>NaN</td>\n",
       "      <td>0.0100</td>\n",
       "      <td>...</td>\n",
       "      <td>0.130</td>\n",
       "      <td>0.03</td>\n",
       "      <td>0.001</td>\n",
       "      <td>-0.001</td>\n",
       "      <td>0.930</td>\n",
       "      <td>0.070</td>\n",
       "      <td>NaN</td>\n",
       "      <td>NaN</td>\n",
       "      <td>NaN</td>\n",
       "      <td>NaN</td>\n",
       "    </tr>\n",
       "    <tr>\n",
       "      <th>2</th>\n",
       "      <td>ludovicods</td>\n",
       "      <td>https://www.instagram.com/ludovicods</td>\n",
       "      <td>Parcial</td>\n",
       "      <td>2018-10-23</td>\n",
       "      <td>alfonsobenja</td>\n",
       "      <td>342601.0</td>\n",
       "      <td>Actor/Actress</td>\n",
       "      <td>model</td>\n",
       "      <td>NaN</td>\n",
       "      <td>0.0560</td>\n",
       "      <td>...</td>\n",
       "      <td>0.130</td>\n",
       "      <td>0.03</td>\n",
       "      <td>0.001</td>\n",
       "      <td>-0.001</td>\n",
       "      <td>0.930</td>\n",
       "      <td>0.070</td>\n",
       "      <td>0.0</td>\n",
       "      <td>NaN</td>\n",
       "      <td>NaN</td>\n",
       "      <td>NaN</td>\n",
       "    </tr>\n",
       "    <tr>\n",
       "      <th>3</th>\n",
       "      <td>ailinzeta</td>\n",
       "      <td>https://www.instagram.com/ailinzeta</td>\n",
       "      <td>No</td>\n",
       "      <td>2019-02-28</td>\n",
       "      <td>florjazminpe</td>\n",
       "      <td>20200.0</td>\n",
       "      <td>Actor/Actress</td>\n",
       "      <td>NaN</td>\n",
       "      <td>NaN</td>\n",
       "      <td>0.0950</td>\n",
       "      <td>...</td>\n",
       "      <td>0.148</td>\n",
       "      <td>0.05</td>\n",
       "      <td>0.010</td>\n",
       "      <td>0.000</td>\n",
       "      <td>0.816</td>\n",
       "      <td>0.184</td>\n",
       "      <td>NaN</td>\n",
       "      <td>NaN</td>\n",
       "      <td>NaN</td>\n",
       "      <td>NaN</td>\n",
       "    </tr>\n",
       "    <tr>\n",
       "      <th>4</th>\n",
       "      <td>basnicar</td>\n",
       "      <td>https://www.instagram.com/basnicar</td>\n",
       "      <td>No</td>\n",
       "      <td>2019-09-19</td>\n",
       "      <td>stefroitman</td>\n",
       "      <td>858457.0</td>\n",
       "      <td>Actor/Actress</td>\n",
       "      <td>Model</td>\n",
       "      <td>NaN</td>\n",
       "      <td>0.0490</td>\n",
       "      <td>...</td>\n",
       "      <td>0.090</td>\n",
       "      <td>0.03</td>\n",
       "      <td>0.010</td>\n",
       "      <td>0.010</td>\n",
       "      <td>0.650</td>\n",
       "      <td>0.350</td>\n",
       "      <td>0.0</td>\n",
       "      <td>NaN</td>\n",
       "      <td>NaN</td>\n",
       "      <td>NaN</td>\n",
       "    </tr>\n",
       "  </tbody>\n",
       "</table>\n",
       "<p>5 rows × 32 columns</p>\n",
       "</div>"
      ],
      "text/plain": [
       "            Account                                        Link  \\\n",
       "0      alfonsobenja      https://www.instagram.com/alfonsobenja   \n",
       "1  lucianocaceresok  https://www.instagram.com/lucianocaceresok   \n",
       "2        ludovicods        https://www.instagram.com/ludovicods   \n",
       "3         ailinzeta         https://www.instagram.com/ailinzeta   \n",
       "4          basnicar          https://www.instagram.com/basnicar   \n",
       "\n",
       "  Tenemos datos? Fecha ultima actualización data     similar a   Followers  \\\n",
       "0             Si                       2021-03-27           NaN   389358.0   \n",
       "1             No                       2021-06-17    ludovicods   153011.0   \n",
       "2        Parcial                       2018-10-23  alfonsobenja   342601.0   \n",
       "3             No                       2019-02-28  florjazminpe    20200.0   \n",
       "4             No                       2019-09-19   stefroitman   858457.0   \n",
       "\n",
       "   1ra Categoría 2da Categoría 3ra Categoría      ER  ...  F 35-44  F 45-54  \\\n",
       "0  Actor/Actress           NaN           NaN  0.0532  ...    0.130     0.03   \n",
       "1  Actor/Actress           NaN           NaN  0.0100  ...    0.130     0.03   \n",
       "2  Actor/Actress         model           NaN  0.0560  ...    0.130     0.03   \n",
       "3  Actor/Actress           NaN           NaN  0.0950  ...    0.148     0.05   \n",
       "4  Actor/Actress         Model           NaN  0.0490  ...    0.090     0.03   \n",
       "\n",
       "   F 55-64  F \"+65\"  Argentina  Other  CPM historico  Tiene Fee Plataforma?  \\\n",
       "0    0.001   -0.001      0.880  0.120            0.0                     no   \n",
       "1    0.001   -0.001      0.930  0.070            NaN                    NaN   \n",
       "2    0.001   -0.001      0.930  0.070            0.0                    NaN   \n",
       "3    0.010    0.000      0.816  0.184            NaN                    NaN   \n",
       "4    0.010    0.010      0.650  0.350            0.0                    NaN   \n",
       "\n",
       "   REPRESENTANTE  Nombre Perfil  \n",
       "0             si             si  \n",
       "1            NaN            NaN  \n",
       "2            NaN            NaN  \n",
       "3            NaN            NaN  \n",
       "4            NaN            NaN  \n",
       "\n",
       "[5 rows x 32 columns]"
      ]
     },
     "execution_count": 565,
     "metadata": {},
     "output_type": "execute_result"
    }
   ],
   "source": [
    "data_influencers.head()"
   ]
  },
  {
   "cell_type": "code",
   "execution_count": 566,
   "metadata": {},
   "outputs": [
    {
     "data": {
      "text/plain": [
       "Index(['Account', 'Link', 'Tenemos datos?', 'Fecha ultima actualización data ',\n",
       "       'similar a ', 'Followers', '1ra Categoría', '2da Categoría',\n",
       "       '3ra Categoría', 'ER', '% Male', '% Female', 'M 13-17', 'M 18-24',\n",
       "       'M 25-34', 'M 35-44', 'M 45-54', 'M 55-64', 'M \"+65\"', 'F 13-17',\n",
       "       'F 18-24', 'F 25-34', 'F 35-44', 'F 45-54', 'F 55-64', 'F \"+65\"',\n",
       "       'Argentina', 'Other', 'CPM historico', 'Tiene Fee Plataforma?',\n",
       "       'REPRESENTANTE', 'Nombre Perfil'],\n",
       "      dtype='object')"
      ]
     },
     "execution_count": 566,
     "metadata": {},
     "output_type": "execute_result"
    }
   ],
   "source": [
    "data_influencers.columns"
   ]
  },
  {
   "cell_type": "markdown",
   "metadata": {},
   "source": [
    "Las columnas de CPM Historico, tiene fee plataforma, representante y nombre perfil las vamos a eliminar porque estan en proceso de armado y van encontrarse muchos nulos."
   ]
  },
  {
   "cell_type": "code",
   "execution_count": 567,
   "metadata": {},
   "outputs": [],
   "source": [
    "data_influencers = data_influencers.drop(['CPM historico','Tiene Fee Plataforma?','REPRESENTANTE','Nombre Perfil'], axis=1)"
   ]
  },
  {
   "cell_type": "markdown",
   "metadata": {},
   "source": [
    "Ahora vamos a analizar cuantas filas y columnas tenemos en nuestra base junto a su tipo de dato"
   ]
  },
  {
   "cell_type": "code",
   "execution_count": 568,
   "metadata": {},
   "outputs": [
    {
     "name": "stdout",
     "output_type": "stream",
     "text": [
      " El dataframe es un excel con data de los influencers argentinos por plataforma. En el dataset hay 3505 filas y 28.los tipos de datos por columnas son Account                                     object\n",
      "Link                                        object\n",
      "Tenemos datos?                              object\n",
      "Fecha ultima actualización data     datetime64[ns]\n",
      "similar a                                   object\n",
      "Followers                                  float64\n",
      "1ra Categoría                               object\n",
      "2da Categoría                               object\n",
      "3ra Categoría                               object\n",
      "ER                                         float64\n",
      "% Male                                     float64\n",
      "% Female                                   float64\n",
      "M 13-17                                    float64\n",
      "M 18-24                                    float64\n",
      "M 25-34                                    float64\n",
      "M 35-44                                    float64\n",
      "M 45-54                                    float64\n",
      "M 55-64                                    float64\n",
      "M \"+65\"                                    float64\n",
      "F 13-17                                    float64\n",
      "F 18-24                                    float64\n",
      "F 25-34                                    float64\n",
      "F 35-44                                    float64\n",
      "F 45-54                                    float64\n",
      "F 55-64                                    float64\n",
      "F \"+65\"                                    float64\n",
      "Argentina                                  float64\n",
      "Other                                      float64\n",
      "dtype: object\n"
     ]
    }
   ],
   "source": [
    "print(f\" El dataframe es un excel con data de los influencers argentinos por plataforma. En el dataset hay {data_influencers.shape[0]} filas y {data_influencers.shape[1]}.los tipos de datos por columnas son {data_influencers.dtypes}\")"
   ]
  },
  {
   "cell_type": "markdown",
   "metadata": {},
   "source": [
    "Y para ver si tenemos celdas vacias/faltantes vamos a usar el siguiente codigo"
   ]
  },
  {
   "cell_type": "code",
   "execution_count": 569,
   "metadata": {},
   "outputs": [
    {
     "data": {
      "text/plain": [
       "Account                                0\n",
       "Link                                  11\n",
       "Tenemos datos?                         0\n",
       "Fecha ultima actualización data        0\n",
       "similar a                            801\n",
       "Followers                              1\n",
       "1ra Categoría                          0\n",
       "2da Categoría                       2767\n",
       "3ra Categoría                       3381\n",
       "ER                                     0\n",
       "% Male                                 0\n",
       "% Female                               0\n",
       "M 13-17                              166\n",
       "M 18-24                              163\n",
       "M 25-34                              162\n",
       "M 35-44                              164\n",
       "M 45-54                              174\n",
       "M 55-64                              178\n",
       "M \"+65\"                              165\n",
       "F 13-17                              172\n",
       "F 18-24                              165\n",
       "F 25-34                              165\n",
       "F 35-44                              165\n",
       "F 45-54                              174\n",
       "F 55-64                              174\n",
       "F \"+65\"                              173\n",
       "Argentina                              0\n",
       "Other                                  0\n",
       "dtype: int64"
      ]
     },
     "execution_count": 569,
     "metadata": {},
     "output_type": "execute_result"
    }
   ],
   "source": [
    "data_influencers.isna().sum()"
   ]
  },
  {
   "cell_type": "markdown",
   "metadata": {},
   "source": [
    "Porcentaje de faltantas"
   ]
  },
  {
   "cell_type": "code",
   "execution_count": 570,
   "metadata": {},
   "outputs": [
    {
     "data": {
      "text/plain": [
       "Account                             0.000000\n",
       "Link                                0.003138\n",
       "Tenemos datos?                      0.000000\n",
       "Fecha ultima actualización data     0.000000\n",
       "similar a                           0.228531\n",
       "Followers                           0.000285\n",
       "1ra Categoría                       0.000000\n",
       "2da Categoría                       0.789444\n",
       "3ra Categoría                       0.964622\n",
       "ER                                  0.000000\n",
       "% Male                              0.000000\n",
       "% Female                            0.000000\n",
       "M 13-17                             0.047361\n",
       "M 18-24                             0.046505\n",
       "M 25-34                             0.046220\n",
       "M 35-44                             0.046790\n",
       "M 45-54                             0.049643\n",
       "M 55-64                             0.050785\n",
       "M \"+65\"                             0.047076\n",
       "F 13-17                             0.049073\n",
       "F 18-24                             0.047076\n",
       "F 25-34                             0.047076\n",
       "F 35-44                             0.047076\n",
       "F 45-54                             0.049643\n",
       "F 55-64                             0.049643\n",
       "F \"+65\"                             0.049358\n",
       "Argentina                           0.000000\n",
       "Other                               0.000000\n",
       "dtype: float64"
      ]
     },
     "execution_count": 570,
     "metadata": {},
     "output_type": "execute_result"
    }
   ],
   "source": [
    "data_influencers.isna().sum()/len(data_influencers)"
   ]
  },
  {
   "cell_type": "markdown",
   "metadata": {},
   "source": [
    "En razonable que algunas columnas den nulos, como por ejemplo 2da categoría y 3er categoría porque no todos los creadores de contenido tienen mas de una categoria. Estas columnas se utilizar para los creadores de contenido que tienen distintos tipos de contenido.\n",
    "Por otro lado las columnas de Argentina, Other, ER, Followers y % Male/Female no pueden tener nulos porque todos los perfiles en todas las plataformas tienen estos datos disponibles.\n",
    "Por ultimo, el rango etario puede contener nulos porque ciertas plataformas como TikTok no cuenta con esa informacion."
   ]
  },
  {
   "cell_type": "markdown",
   "metadata": {},
   "source": [
    "En el caso de nulo de followers lo vamos a analizar para eliminar porque no nos sirve el registro para nuestro analisis"
   ]
  },
  {
   "cell_type": "code",
   "execution_count": 571,
   "metadata": {},
   "outputs": [
    {
     "data": {
      "text/html": [
       "<div>\n",
       "<style scoped>\n",
       "    .dataframe tbody tr th:only-of-type {\n",
       "        vertical-align: middle;\n",
       "    }\n",
       "\n",
       "    .dataframe tbody tr th {\n",
       "        vertical-align: top;\n",
       "    }\n",
       "\n",
       "    .dataframe thead th {\n",
       "        text-align: right;\n",
       "    }\n",
       "</style>\n",
       "<table border=\"1\" class=\"dataframe\">\n",
       "  <thead>\n",
       "    <tr style=\"text-align: right;\">\n",
       "      <th></th>\n",
       "      <th>Account</th>\n",
       "      <th>Link</th>\n",
       "      <th>Tenemos datos?</th>\n",
       "      <th>Fecha ultima actualización data</th>\n",
       "      <th>similar a</th>\n",
       "      <th>Followers</th>\n",
       "      <th>1ra Categoría</th>\n",
       "      <th>2da Categoría</th>\n",
       "      <th>3ra Categoría</th>\n",
       "      <th>ER</th>\n",
       "      <th>...</th>\n",
       "      <th>M \"+65\"</th>\n",
       "      <th>F 13-17</th>\n",
       "      <th>F 18-24</th>\n",
       "      <th>F 25-34</th>\n",
       "      <th>F 35-44</th>\n",
       "      <th>F 45-54</th>\n",
       "      <th>F 55-64</th>\n",
       "      <th>F \"+65\"</th>\n",
       "      <th>Argentina</th>\n",
       "      <th>Other</th>\n",
       "    </tr>\n",
       "  </thead>\n",
       "  <tbody>\n",
       "    <tr>\n",
       "      <th>3495</th>\n",
       "      <td>serevaliconto</td>\n",
       "      <td>https://www.instagram.com/serevaliconto</td>\n",
       "      <td>Si</td>\n",
       "      <td>2018-04-01</td>\n",
       "      <td>NaN</td>\n",
       "      <td>NaN</td>\n",
       "      <td>Instagrammer</td>\n",
       "      <td>NaN</td>\n",
       "      <td>NaN</td>\n",
       "      <td>0.066</td>\n",
       "      <td>...</td>\n",
       "      <td>0.05</td>\n",
       "      <td>0.01</td>\n",
       "      <td>0.45</td>\n",
       "      <td>0.38</td>\n",
       "      <td>0.09</td>\n",
       "      <td>0.04</td>\n",
       "      <td>0.0</td>\n",
       "      <td>0.03</td>\n",
       "      <td>0.89</td>\n",
       "      <td>0.11</td>\n",
       "    </tr>\n",
       "  </tbody>\n",
       "</table>\n",
       "<p>1 rows × 28 columns</p>\n",
       "</div>"
      ],
      "text/plain": [
       "            Account                                     Link Tenemos datos?  \\\n",
       "3495  serevaliconto  https://www.instagram.com/serevaliconto             Si   \n",
       "\n",
       "     Fecha ultima actualización data  similar a   Followers 1ra Categoría  \\\n",
       "3495                       2018-04-01        NaN        NaN  Instagrammer   \n",
       "\n",
       "     2da Categoría 3ra Categoría     ER  ...  M \"+65\"  F 13-17  F 18-24  \\\n",
       "3495           NaN           NaN  0.066  ...     0.05     0.01     0.45   \n",
       "\n",
       "      F 25-34  F 35-44  F 45-54  F 55-64  F \"+65\"  Argentina  Other  \n",
       "3495     0.38     0.09     0.04      0.0     0.03       0.89   0.11  \n",
       "\n",
       "[1 rows x 28 columns]"
      ]
     },
     "execution_count": 571,
     "metadata": {},
     "output_type": "execute_result"
    }
   ],
   "source": [
    "data_influencers[data_influencers.Followers.isna()]"
   ]
  },
  {
   "cell_type": "markdown",
   "metadata": {},
   "source": [
    "Al ser un perfil actualizado hace tanto tiempo podemos descartarlo porque seguramente existio un error al cargarlo"
   ]
  },
  {
   "cell_type": "code",
   "execution_count": 572,
   "metadata": {},
   "outputs": [],
   "source": [
    "data_influencers = data_influencers[data_influencers['Followers'].notna()]"
   ]
  },
  {
   "cell_type": "code",
   "execution_count": 573,
   "metadata": {},
   "outputs": [
    {
     "data": {
      "text/plain": [
       "Account                                0\n",
       "Link                                  11\n",
       "Tenemos datos?                         0\n",
       "Fecha ultima actualización data        0\n",
       "similar a                            800\n",
       "Followers                              0\n",
       "1ra Categoría                          0\n",
       "2da Categoría                       2766\n",
       "3ra Categoría                       3380\n",
       "ER                                     0\n",
       "% Male                                 0\n",
       "% Female                               0\n",
       "M 13-17                              166\n",
       "M 18-24                              163\n",
       "M 25-34                              162\n",
       "M 35-44                              164\n",
       "M 45-54                              174\n",
       "M 55-64                              178\n",
       "M \"+65\"                              165\n",
       "F 13-17                              172\n",
       "F 18-24                              165\n",
       "F 25-34                              165\n",
       "F 35-44                              165\n",
       "F 45-54                              174\n",
       "F 55-64                              174\n",
       "F \"+65\"                              173\n",
       "Argentina                              0\n",
       "Other                                  0\n",
       "dtype: int64"
      ]
     },
     "execution_count": 573,
     "metadata": {},
     "output_type": "execute_result"
    }
   ],
   "source": [
    "data_influencers.isna().sum()"
   ]
  },
  {
   "cell_type": "code",
   "execution_count": 574,
   "metadata": {},
   "outputs": [
    {
     "data": {
      "text/html": [
       "<div>\n",
       "<style scoped>\n",
       "    .dataframe tbody tr th:only-of-type {\n",
       "        vertical-align: middle;\n",
       "    }\n",
       "\n",
       "    .dataframe tbody tr th {\n",
       "        vertical-align: top;\n",
       "    }\n",
       "\n",
       "    .dataframe thead th {\n",
       "        text-align: right;\n",
       "    }\n",
       "</style>\n",
       "<table border=\"1\" class=\"dataframe\">\n",
       "  <thead>\n",
       "    <tr style=\"text-align: right;\">\n",
       "      <th></th>\n",
       "      <th>Followers</th>\n",
       "      <th>ER</th>\n",
       "      <th>% Male</th>\n",
       "      <th>% Female</th>\n",
       "      <th>M 13-17</th>\n",
       "      <th>M 18-24</th>\n",
       "      <th>M 25-34</th>\n",
       "      <th>M 35-44</th>\n",
       "      <th>M 45-54</th>\n",
       "      <th>M 55-64</th>\n",
       "      <th>M \"+65\"</th>\n",
       "      <th>F 13-17</th>\n",
       "      <th>F 18-24</th>\n",
       "      <th>F 25-34</th>\n",
       "      <th>F 35-44</th>\n",
       "      <th>F 45-54</th>\n",
       "      <th>F 55-64</th>\n",
       "      <th>F \"+65\"</th>\n",
       "      <th>Argentina</th>\n",
       "      <th>Other</th>\n",
       "    </tr>\n",
       "  </thead>\n",
       "  <tbody>\n",
       "    <tr>\n",
       "      <th>count</th>\n",
       "      <td>3.504000e+03</td>\n",
       "      <td>3504.000000</td>\n",
       "      <td>3504.000000</td>\n",
       "      <td>3504.000000</td>\n",
       "      <td>3338.000000</td>\n",
       "      <td>3341.000000</td>\n",
       "      <td>3342.000000</td>\n",
       "      <td>3340.000000</td>\n",
       "      <td>3330.000000</td>\n",
       "      <td>3326.000000</td>\n",
       "      <td>3339.000000</td>\n",
       "      <td>3332.000000</td>\n",
       "      <td>3339.000000</td>\n",
       "      <td>3339.000000</td>\n",
       "      <td>3339.000000</td>\n",
       "      <td>3330.000000</td>\n",
       "      <td>3330.000000</td>\n",
       "      <td>3331.000000</td>\n",
       "      <td>3504.000000</td>\n",
       "      <td>3504.000000</td>\n",
       "    </tr>\n",
       "    <tr>\n",
       "      <th>mean</th>\n",
       "      <td>3.701081e+05</td>\n",
       "      <td>0.044798</td>\n",
       "      <td>0.272837</td>\n",
       "      <td>0.727265</td>\n",
       "      <td>0.028755</td>\n",
       "      <td>0.243576</td>\n",
       "      <td>0.401583</td>\n",
       "      <td>0.211411</td>\n",
       "      <td>0.075680</td>\n",
       "      <td>0.021723</td>\n",
       "      <td>0.022857</td>\n",
       "      <td>0.033054</td>\n",
       "      <td>0.263365</td>\n",
       "      <td>0.399038</td>\n",
       "      <td>0.196509</td>\n",
       "      <td>0.070615</td>\n",
       "      <td>0.022149</td>\n",
       "      <td>0.021341</td>\n",
       "      <td>0.802162</td>\n",
       "      <td>0.197489</td>\n",
       "    </tr>\n",
       "    <tr>\n",
       "      <th>std</th>\n",
       "      <td>1.021027e+06</td>\n",
       "      <td>0.057098</td>\n",
       "      <td>0.198578</td>\n",
       "      <td>0.198110</td>\n",
       "      <td>0.030841</td>\n",
       "      <td>0.116308</td>\n",
       "      <td>0.071210</td>\n",
       "      <td>0.081566</td>\n",
       "      <td>0.041368</td>\n",
       "      <td>0.019752</td>\n",
       "      <td>0.077196</td>\n",
       "      <td>0.038460</td>\n",
       "      <td>0.138877</td>\n",
       "      <td>0.082096</td>\n",
       "      <td>0.092924</td>\n",
       "      <td>0.045290</td>\n",
       "      <td>0.021501</td>\n",
       "      <td>0.080360</td>\n",
       "      <td>0.141017</td>\n",
       "      <td>0.140279</td>\n",
       "    </tr>\n",
       "    <tr>\n",
       "      <th>min</th>\n",
       "      <td>3.700000e+01</td>\n",
       "      <td>0.000000</td>\n",
       "      <td>0.010000</td>\n",
       "      <td>0.100000</td>\n",
       "      <td>0.000000</td>\n",
       "      <td>0.000000</td>\n",
       "      <td>0.000000</td>\n",
       "      <td>0.000000</td>\n",
       "      <td>0.000000</td>\n",
       "      <td>0.000000</td>\n",
       "      <td>-0.004000</td>\n",
       "      <td>0.000000</td>\n",
       "      <td>0.000000</td>\n",
       "      <td>0.000000</td>\n",
       "      <td>0.000000</td>\n",
       "      <td>0.000000</td>\n",
       "      <td>0.000000</td>\n",
       "      <td>-0.005000</td>\n",
       "      <td>0.019000</td>\n",
       "      <td>0.000000</td>\n",
       "    </tr>\n",
       "    <tr>\n",
       "      <th>25%</th>\n",
       "      <td>2.438500e+04</td>\n",
       "      <td>0.012000</td>\n",
       "      <td>0.120000</td>\n",
       "      <td>0.630000</td>\n",
       "      <td>0.010000</td>\n",
       "      <td>0.150000</td>\n",
       "      <td>0.360000</td>\n",
       "      <td>0.150000</td>\n",
       "      <td>0.050000</td>\n",
       "      <td>0.010000</td>\n",
       "      <td>0.010000</td>\n",
       "      <td>0.010000</td>\n",
       "      <td>0.150000</td>\n",
       "      <td>0.341500</td>\n",
       "      <td>0.120000</td>\n",
       "      <td>0.040000</td>\n",
       "      <td>0.010000</td>\n",
       "      <td>0.010000</td>\n",
       "      <td>0.770000</td>\n",
       "      <td>0.100000</td>\n",
       "    </tr>\n",
       "    <tr>\n",
       "      <th>50%</th>\n",
       "      <td>7.610000e+04</td>\n",
       "      <td>0.024600</td>\n",
       "      <td>0.215000</td>\n",
       "      <td>0.785000</td>\n",
       "      <td>0.020000</td>\n",
       "      <td>0.239583</td>\n",
       "      <td>0.410000</td>\n",
       "      <td>0.200000</td>\n",
       "      <td>0.070000</td>\n",
       "      <td>0.020000</td>\n",
       "      <td>0.010000</td>\n",
       "      <td>0.020000</td>\n",
       "      <td>0.250000</td>\n",
       "      <td>0.410000</td>\n",
       "      <td>0.190000</td>\n",
       "      <td>0.060000</td>\n",
       "      <td>0.020000</td>\n",
       "      <td>0.010000</td>\n",
       "      <td>0.840000</td>\n",
       "      <td>0.160000</td>\n",
       "    </tr>\n",
       "    <tr>\n",
       "      <th>75%</th>\n",
       "      <td>2.815000e+05</td>\n",
       "      <td>0.053000</td>\n",
       "      <td>0.370000</td>\n",
       "      <td>0.880000</td>\n",
       "      <td>0.040000</td>\n",
       "      <td>0.330000</td>\n",
       "      <td>0.450000</td>\n",
       "      <td>0.270000</td>\n",
       "      <td>0.090000</td>\n",
       "      <td>0.030000</td>\n",
       "      <td>0.020000</td>\n",
       "      <td>0.045000</td>\n",
       "      <td>0.370000</td>\n",
       "      <td>0.453000</td>\n",
       "      <td>0.260000</td>\n",
       "      <td>0.080000</td>\n",
       "      <td>0.030000</td>\n",
       "      <td>0.019000</td>\n",
       "      <td>0.900000</td>\n",
       "      <td>0.230000</td>\n",
       "    </tr>\n",
       "    <tr>\n",
       "      <th>max</th>\n",
       "      <td>3.100000e+07</td>\n",
       "      <td>0.800000</td>\n",
       "      <td>0.900000</td>\n",
       "      <td>0.990000</td>\n",
       "      <td>0.280000</td>\n",
       "      <td>0.562500</td>\n",
       "      <td>0.640000</td>\n",
       "      <td>0.530000</td>\n",
       "      <td>0.350000</td>\n",
       "      <td>0.280000</td>\n",
       "      <td>1.000000</td>\n",
       "      <td>0.280000</td>\n",
       "      <td>0.600000</td>\n",
       "      <td>0.620000</td>\n",
       "      <td>0.530000</td>\n",
       "      <td>0.350000</td>\n",
       "      <td>0.280000</td>\n",
       "      <td>1.000000</td>\n",
       "      <td>1.000000</td>\n",
       "      <td>0.981000</td>\n",
       "    </tr>\n",
       "  </tbody>\n",
       "</table>\n",
       "</div>"
      ],
      "text/plain": [
       "          Followers           ER       % Male     % Female      M 13-17  \\\n",
       "count  3.504000e+03  3504.000000  3504.000000  3504.000000  3338.000000   \n",
       "mean   3.701081e+05     0.044798     0.272837     0.727265     0.028755   \n",
       "std    1.021027e+06     0.057098     0.198578     0.198110     0.030841   \n",
       "min    3.700000e+01     0.000000     0.010000     0.100000     0.000000   \n",
       "25%    2.438500e+04     0.012000     0.120000     0.630000     0.010000   \n",
       "50%    7.610000e+04     0.024600     0.215000     0.785000     0.020000   \n",
       "75%    2.815000e+05     0.053000     0.370000     0.880000     0.040000   \n",
       "max    3.100000e+07     0.800000     0.900000     0.990000     0.280000   \n",
       "\n",
       "           M 18-24      M 25-34      M 35-44      M 45-54      M 55-64  \\\n",
       "count  3341.000000  3342.000000  3340.000000  3330.000000  3326.000000   \n",
       "mean      0.243576     0.401583     0.211411     0.075680     0.021723   \n",
       "std       0.116308     0.071210     0.081566     0.041368     0.019752   \n",
       "min       0.000000     0.000000     0.000000     0.000000     0.000000   \n",
       "25%       0.150000     0.360000     0.150000     0.050000     0.010000   \n",
       "50%       0.239583     0.410000     0.200000     0.070000     0.020000   \n",
       "75%       0.330000     0.450000     0.270000     0.090000     0.030000   \n",
       "max       0.562500     0.640000     0.530000     0.350000     0.280000   \n",
       "\n",
       "           M \"+65\"      F 13-17      F 18-24      F 25-34      F 35-44  \\\n",
       "count  3339.000000  3332.000000  3339.000000  3339.000000  3339.000000   \n",
       "mean      0.022857     0.033054     0.263365     0.399038     0.196509   \n",
       "std       0.077196     0.038460     0.138877     0.082096     0.092924   \n",
       "min      -0.004000     0.000000     0.000000     0.000000     0.000000   \n",
       "25%       0.010000     0.010000     0.150000     0.341500     0.120000   \n",
       "50%       0.010000     0.020000     0.250000     0.410000     0.190000   \n",
       "75%       0.020000     0.045000     0.370000     0.453000     0.260000   \n",
       "max       1.000000     0.280000     0.600000     0.620000     0.530000   \n",
       "\n",
       "           F 45-54      F 55-64      F \"+65\"    Argentina        Other  \n",
       "count  3330.000000  3330.000000  3331.000000  3504.000000  3504.000000  \n",
       "mean      0.070615     0.022149     0.021341     0.802162     0.197489  \n",
       "std       0.045290     0.021501     0.080360     0.141017     0.140279  \n",
       "min       0.000000     0.000000    -0.005000     0.019000     0.000000  \n",
       "25%       0.040000     0.010000     0.010000     0.770000     0.100000  \n",
       "50%       0.060000     0.020000     0.010000     0.840000     0.160000  \n",
       "75%       0.080000     0.030000     0.019000     0.900000     0.230000  \n",
       "max       0.350000     0.280000     1.000000     1.000000     0.981000  "
      ]
     },
     "execution_count": 574,
     "metadata": {},
     "output_type": "execute_result"
    }
   ],
   "source": [
    "data_influencers.describe()"
   ]
  },
  {
   "cell_type": "markdown",
   "metadata": {},
   "source": [
    "En este caso, podemos ver algunos datos erroneos como minimo negativo para \"M +65\" y \"F +65\" esto puede suceder porque se calcula como el resto y por decimal puede dar una pequeña diferencia. En este caos al ser tan pequeño el numero vamos a proseguir con el analisis."
   ]
  },
  {
   "cell_type": "code",
   "execution_count": 575,
   "metadata": {},
   "outputs": [
    {
     "data": {
      "text/html": [
       "<div>\n",
       "<style scoped>\n",
       "    .dataframe tbody tr th:only-of-type {\n",
       "        vertical-align: middle;\n",
       "    }\n",
       "\n",
       "    .dataframe tbody tr th {\n",
       "        vertical-align: top;\n",
       "    }\n",
       "\n",
       "    .dataframe thead th {\n",
       "        text-align: right;\n",
       "    }\n",
       "</style>\n",
       "<table border=\"1\" class=\"dataframe\">\n",
       "  <thead>\n",
       "    <tr style=\"text-align: right;\">\n",
       "      <th></th>\n",
       "      <th>Account</th>\n",
       "      <th>Link</th>\n",
       "      <th>Tenemos datos?</th>\n",
       "      <th>Fecha ultima actualización data</th>\n",
       "      <th>similar a</th>\n",
       "      <th>Followers</th>\n",
       "      <th>1ra Categoría</th>\n",
       "      <th>2da Categoría</th>\n",
       "      <th>3ra Categoría</th>\n",
       "      <th>ER</th>\n",
       "      <th>...</th>\n",
       "      <th>M \"+65\"</th>\n",
       "      <th>F 13-17</th>\n",
       "      <th>F 18-24</th>\n",
       "      <th>F 25-34</th>\n",
       "      <th>F 35-44</th>\n",
       "      <th>F 45-54</th>\n",
       "      <th>F 55-64</th>\n",
       "      <th>F \"+65\"</th>\n",
       "      <th>Argentina</th>\n",
       "      <th>Other</th>\n",
       "    </tr>\n",
       "  </thead>\n",
       "  <tbody>\n",
       "    <tr>\n",
       "      <th>1168</th>\n",
       "      <td>paulodybala</td>\n",
       "      <td>https://www.instagram.com/paulodybala</td>\n",
       "      <td>No</td>\n",
       "      <td>2022-04-27</td>\n",
       "      <td>pipagutierrez4</td>\n",
       "      <td>31000000.0</td>\n",
       "      <td>Deporte</td>\n",
       "      <td>NaN</td>\n",
       "      <td>NaN</td>\n",
       "      <td>0.0420</td>\n",
       "      <td>...</td>\n",
       "      <td>0.04</td>\n",
       "      <td>0.01</td>\n",
       "      <td>0.11</td>\n",
       "      <td>0.47</td>\n",
       "      <td>0.27</td>\n",
       "      <td>0.08</td>\n",
       "      <td>0.02</td>\n",
       "      <td>0.04</td>\n",
       "      <td>0.75</td>\n",
       "      <td>0.25</td>\n",
       "    </tr>\n",
       "    <tr>\n",
       "      <th>383</th>\n",
       "      <td>ignaciaa_antonia TK</td>\n",
       "      <td>https://www.tiktok.com/@ignaciaa_antonia?lang=es</td>\n",
       "      <td>Si</td>\n",
       "      <td>2022-08-20</td>\n",
       "      <td>ignaciaa_antonia CH</td>\n",
       "      <td>14700000.0</td>\n",
       "      <td>Bailarina</td>\n",
       "      <td>Influencer</td>\n",
       "      <td>NaN</td>\n",
       "      <td>0.0100</td>\n",
       "      <td>...</td>\n",
       "      <td>0.02</td>\n",
       "      <td>0.07</td>\n",
       "      <td>0.41</td>\n",
       "      <td>0.29</td>\n",
       "      <td>0.14</td>\n",
       "      <td>0.06</td>\n",
       "      <td>0.01</td>\n",
       "      <td>0.02</td>\n",
       "      <td>0.12</td>\n",
       "      <td>0.88</td>\n",
       "    </tr>\n",
       "    <tr>\n",
       "      <th>1611</th>\n",
       "      <td>sabina.sinr TK</td>\n",
       "      <td>https://www.instagram.com/sabina.sinr TK</td>\n",
       "      <td>No</td>\n",
       "      <td>2021-01-04</td>\n",
       "      <td>sabina.sinr</td>\n",
       "      <td>14400000.0</td>\n",
       "      <td>Foodie</td>\n",
       "      <td>NaN</td>\n",
       "      <td>NaN</td>\n",
       "      <td>0.0217</td>\n",
       "      <td>...</td>\n",
       "      <td>0.01</td>\n",
       "      <td>0.01</td>\n",
       "      <td>0.20</td>\n",
       "      <td>0.45</td>\n",
       "      <td>0.22</td>\n",
       "      <td>0.08</td>\n",
       "      <td>0.03</td>\n",
       "      <td>0.01</td>\n",
       "      <td>0.78</td>\n",
       "      <td>0.22</td>\n",
       "    </tr>\n",
       "  </tbody>\n",
       "</table>\n",
       "<p>3 rows × 28 columns</p>\n",
       "</div>"
      ],
      "text/plain": [
       "                  Account                                              Link  \\\n",
       "1168          paulodybala             https://www.instagram.com/paulodybala   \n",
       "383   ignaciaa_antonia TK  https://www.tiktok.com/@ignaciaa_antonia?lang=es   \n",
       "1611       sabina.sinr TK          https://www.instagram.com/sabina.sinr TK   \n",
       "\n",
       "     Tenemos datos? Fecha ultima actualización data            similar a   \\\n",
       "1168             No                       2022-04-27       pipagutierrez4   \n",
       "383              Si                       2022-08-20  ignaciaa_antonia CH   \n",
       "1611             No                       2021-01-04          sabina.sinr   \n",
       "\n",
       "       Followers 1ra Categoría 2da Categoría 3ra Categoría      ER  ...  \\\n",
       "1168  31000000.0       Deporte           NaN           NaN  0.0420  ...   \n",
       "383   14700000.0     Bailarina    Influencer           NaN  0.0100  ...   \n",
       "1611  14400000.0        Foodie           NaN           NaN  0.0217  ...   \n",
       "\n",
       "      M \"+65\"  F 13-17  F 18-24  F 25-34  F 35-44  F 45-54  F 55-64  F \"+65\"  \\\n",
       "1168     0.04     0.01     0.11     0.47     0.27     0.08     0.02     0.04   \n",
       "383      0.02     0.07     0.41     0.29     0.14     0.06     0.01     0.02   \n",
       "1611     0.01     0.01     0.20     0.45     0.22     0.08     0.03     0.01   \n",
       "\n",
       "      Argentina  Other  \n",
       "1168       0.75   0.25  \n",
       "383        0.12   0.88  \n",
       "1611       0.78   0.22  \n",
       "\n",
       "[3 rows x 28 columns]"
      ]
     },
     "execution_count": 575,
     "metadata": {},
     "output_type": "execute_result"
    }
   ],
   "source": [
    "data_influencers.nlargest(3, 'Followers')"
   ]
  },
  {
   "cell_type": "code",
   "execution_count": 576,
   "metadata": {},
   "outputs": [],
   "source": [
    "data_influencers['Fecha ultima actualización data '] = pd.to_datetime(data_influencers['Fecha ultima actualización data '])"
   ]
  },
  {
   "cell_type": "markdown",
   "metadata": {},
   "source": [
    "Analizamos variables de DataFrame\n",
    "1. Followers"
   ]
  },
  {
   "cell_type": "code",
   "execution_count": 577,
   "metadata": {},
   "outputs": [
    {
     "name": "stdout",
     "output_type": "stream",
     "text": [
      " La cantidad de creadores de contenido en Argentina trabajando en la Agencia ZZZ son:3504 Estos 3504 creadores de contenido cuentan con 1296858756.0 followersEl promedio de followers por cuenta en todas las plataformas es de:370108.0\n"
     ]
    }
   ],
   "source": [
    "print(f\" La cantidad de creadores de contenido en Argentina trabajando en la Agencia ZZZ son:{data_influencers.Account.count()}\"\n",
    "      f\" Estos {data_influencers.Account.count()} creadores de contenido cuentan con {data_influencers.Followers.sum().round()} followers\"\n",
    "      f\"El promedio de followers por cuenta en todas las plataformas es de:{(data_influencers.Followers.sum() / data_influencers.Account.count()).round()}\")"
   ]
  },
  {
   "cell_type": "markdown",
   "metadata": {},
   "source": [
    " En esta variable de followers podemos agregar una nueva columna para segmentar entre Mega, Medio, Pequeno y Nicho segun la cantidad de followers.\n",
    "\n",
    "Algo similar a lo siguiente:"
   ]
  },
  {
   "cell_type": "code",
   "execution_count": 578,
   "metadata": {},
   "outputs": [
    {
     "name": "stderr",
     "output_type": "stream",
     "text": [
      "/Users/agustinajaz/opt/anaconda3/lib/python3.9/site-packages/seaborn/_decorators.py:36: FutureWarning: Pass the following variable as a keyword arg: x. From version 0.12, the only valid positional argument will be `data`, and passing other arguments without an explicit keyword will result in an error or misinterpretation.\n",
      "  warnings.warn(\n"
     ]
    },
    {
     "data": {
      "image/png": "[encoded data removed]",
      "text/plain": [
       "<Figure size 432x432 with 1 Axes>"
      ]
     },
     "metadata": {},
     "output_type": "display_data"
    }
   ],
   "source": [
    "sns.boxplot(data_influencers['Followers']);"
   ]
  },
  {
   "cell_type": "code",
   "execution_count": 579,
   "metadata": {},
   "outputs": [
    {
     "name": "stderr",
     "output_type": "stream",
     "text": [
      "/Users/agustinajaz/opt/anaconda3/lib/python3.9/site-packages/seaborn/_decorators.py:36: FutureWarning: Pass the following variable as a keyword arg: x. From version 0.12, the only valid positional argument will be `data`, and passing other arguments without an explicit keyword will result in an error or misinterpretation.\n",
      "  warnings.warn(\n"
     ]
    },
    {
     "data": {
      "image/png": "[encoded data removed]",
      "text/plain": [
       "<Figure size 432x432 with 1 Axes>"
      ]
     },
     "metadata": {},
     "output_type": "display_data"
    }
   ],
   "source": [
    "sns.boxplot(data_influencers[filtro]['Followers']);"
   ]
  },
  {
   "cell_type": "code",
   "execution_count": 580,
   "metadata": {},
   "outputs": [],
   "source": [
    "def tamaño_creador(x):\n",
    "    if x >=800000:\n",
    "        return 'Grande'\n",
    "    elif 300000 <= x < 800000:\n",
    "        return 'Medio'\n",
    "    else:\n",
    "        return 'Pequeño'\n",
    "\n",
    "data_influencers[\"tamaño_creador\"] = data_influencers[\"Followers\"].apply(tamaño_creador)"
   ]
  },
  {
   "cell_type": "code",
   "execution_count": 581,
   "metadata": {},
   "outputs": [],
   "source": [
    "from matplotlib import rcParams\n",
    "rcParams['figure.figsize'] = 6,6\n",
    "paleta = [\"#66bd63\", \"#fee08b\",\"#a50026\"]"
   ]
  },
  {
   "cell_type": "code",
   "execution_count": 582,
   "metadata": {},
   "outputs": [
    {
     "data": {
      "image/png": "[encoded data removed]",
      "text/plain": [
       "<Figure size 432x432 with 1 Axes>"
      ]
     },
     "metadata": {},
     "output_type": "display_data"
    }
   ],
   "source": [
    "data_influencers['tamaño_creador'].value_counts()\n",
    "sns.countplot(x='tamaño_creador', data=data_influencers, palette=paleta, order = data_influencers['tamaño_creador'].value_counts().index)\n",
    "plt.xlabel(\"Tipo de creador segun tamaño\")\n",
    "plt.ylabel(\"Cantidad de creadores de contenido\")\n",
    "plt.title(\"Creadores de contenido segun tamaño de la agencia ZZZ\")\n",
    "plt.show()"
   ]
  },
  {
   "cell_type": "markdown",
   "metadata": {},
   "source": [
    "Para poder ver la relacion entre followers y ER vamos a filtrar al perfil mas grande."
   ]
  },
  {
   "cell_type": "code",
   "execution_count": 583,
   "metadata": {},
   "outputs": [
    {
     "data": {
      "image/png": "[encoded data removed]",
      "text/plain": [
       "<Figure size 432x432 with 1 Axes>"
      ]
     },
     "metadata": {},
     "output_type": "display_data"
    }
   ],
   "source": [
    "filtro = data_influencers.Followers < 2000000\n",
    "plt.scatter(data_influencers[filtro]['Followers'],data_influencers[filtro]['ER'])\n",
    "plt.show()"
   ]
  },
  {
   "cell_type": "markdown",
   "metadata": {},
   "source": [
    "## Variable categoria"
   ]
  },
  {
   "cell_type": "markdown",
   "metadata": {},
   "source": [
    "Las categorias en nuestro DF estan algunas con mayuscula otras no, por lo cual vamos a pasar todas a minuscula"
   ]
  },
  {
   "cell_type": "code",
   "execution_count": 584,
   "metadata": {},
   "outputs": [],
   "source": [
    "data_influencers['1ra Categoría'] = data_influencers['1ra Categoría'].str.lower()"
   ]
  },
  {
   "cell_type": "code",
   "execution_count": 585,
   "metadata": {},
   "outputs": [
    {
     "name": "stdout",
     "output_type": "stream",
     "text": [
      " Las categorias disponibles en la Agencia ZZZ son: ['actor/actress' 'adventure' 'artist' 'bailarina' 'beauty' 'bebidas'\n",
      " 'blogger' 'celebrities' 'centennials' 'chef' 'deco' 'deporte' 'doctor'\n",
      " 'empresario' 'fashion' 'fitness' 'foodie' 'fotografo' 'gamer'\n",
      " 'gourmandsconhambre.ba' 'healthy' 'humor' 'influencer' 'instagrammer'\n",
      " 'jardin & botanica' 'journalist' 'lifestyle' 'model' 'moms' 'music'\n",
      " 'native digital' 'salud' 'tecnología' 'tele' 'travel' 'vehículos' 'yoga'\n",
      " 'youtube']\n"
     ]
    }
   ],
   "source": [
    "print(f\" Las categorias disponibles en la Agencia ZZZ son: {data_influencers['1ra Categoría'].unique()}\")"
   ]
  },
  {
   "cell_type": "markdown",
   "metadata": {},
   "source": [
    "Aca vamos a ver la cantidad de creadores de contenido por categoria"
   ]
  },
  {
   "cell_type": "code",
   "execution_count": 586,
   "metadata": {},
   "outputs": [
    {
     "data": {
      "text/html": [
       "<div>\n",
       "<style scoped>\n",
       "    .dataframe tbody tr th:only-of-type {\n",
       "        vertical-align: middle;\n",
       "    }\n",
       "\n",
       "    .dataframe tbody tr th {\n",
       "        vertical-align: top;\n",
       "    }\n",
       "\n",
       "    .dataframe thead th {\n",
       "        text-align: right;\n",
       "    }\n",
       "</style>\n",
       "<table border=\"1\" class=\"dataframe\">\n",
       "  <thead>\n",
       "    <tr style=\"text-align: right;\">\n",
       "      <th></th>\n",
       "      <th>Account</th>\n",
       "    </tr>\n",
       "    <tr>\n",
       "      <th>1ra Categoría</th>\n",
       "      <th></th>\n",
       "    </tr>\n",
       "  </thead>\n",
       "  <tbody>\n",
       "    <tr>\n",
       "      <th>actor/actress</th>\n",
       "      <td>213</td>\n",
       "    </tr>\n",
       "    <tr>\n",
       "      <th>adventure</th>\n",
       "      <td>25</td>\n",
       "    </tr>\n",
       "    <tr>\n",
       "      <th>artist</th>\n",
       "      <td>96</td>\n",
       "    </tr>\n",
       "    <tr>\n",
       "      <th>bailarina</th>\n",
       "      <td>60</td>\n",
       "    </tr>\n",
       "    <tr>\n",
       "      <th>beauty</th>\n",
       "      <td>181</td>\n",
       "    </tr>\n",
       "    <tr>\n",
       "      <th>bebidas</th>\n",
       "      <td>28</td>\n",
       "    </tr>\n",
       "    <tr>\n",
       "      <th>blogger</th>\n",
       "      <td>29</td>\n",
       "    </tr>\n",
       "    <tr>\n",
       "      <th>celebrities</th>\n",
       "      <td>94</td>\n",
       "    </tr>\n",
       "    <tr>\n",
       "      <th>centennials</th>\n",
       "      <td>14</td>\n",
       "    </tr>\n",
       "    <tr>\n",
       "      <th>chef</th>\n",
       "      <td>26</td>\n",
       "    </tr>\n",
       "    <tr>\n",
       "      <th>deco</th>\n",
       "      <td>85</td>\n",
       "    </tr>\n",
       "    <tr>\n",
       "      <th>deporte</th>\n",
       "      <td>328</td>\n",
       "    </tr>\n",
       "    <tr>\n",
       "      <th>doctor</th>\n",
       "      <td>28</td>\n",
       "    </tr>\n",
       "    <tr>\n",
       "      <th>empresario</th>\n",
       "      <td>18</td>\n",
       "    </tr>\n",
       "    <tr>\n",
       "      <th>fashion</th>\n",
       "      <td>167</td>\n",
       "    </tr>\n",
       "    <tr>\n",
       "      <th>fitness</th>\n",
       "      <td>42</td>\n",
       "    </tr>\n",
       "    <tr>\n",
       "      <th>foodie</th>\n",
       "      <td>366</td>\n",
       "    </tr>\n",
       "    <tr>\n",
       "      <th>fotografo</th>\n",
       "      <td>39</td>\n",
       "    </tr>\n",
       "    <tr>\n",
       "      <th>gamer</th>\n",
       "      <td>20</td>\n",
       "    </tr>\n",
       "    <tr>\n",
       "      <th>gourmandsconhambre.ba</th>\n",
       "      <td>1</td>\n",
       "    </tr>\n",
       "    <tr>\n",
       "      <th>healthy</th>\n",
       "      <td>39</td>\n",
       "    </tr>\n",
       "    <tr>\n",
       "      <th>humor</th>\n",
       "      <td>192</td>\n",
       "    </tr>\n",
       "    <tr>\n",
       "      <th>influencer</th>\n",
       "      <td>98</td>\n",
       "    </tr>\n",
       "    <tr>\n",
       "      <th>instagrammer</th>\n",
       "      <td>144</td>\n",
       "    </tr>\n",
       "    <tr>\n",
       "      <th>jardin &amp; botanica</th>\n",
       "      <td>2</td>\n",
       "    </tr>\n",
       "    <tr>\n",
       "      <th>journalist</th>\n",
       "      <td>135</td>\n",
       "    </tr>\n",
       "    <tr>\n",
       "      <th>lifestyle</th>\n",
       "      <td>192</td>\n",
       "    </tr>\n",
       "    <tr>\n",
       "      <th>model</th>\n",
       "      <td>231</td>\n",
       "    </tr>\n",
       "    <tr>\n",
       "      <th>moms</th>\n",
       "      <td>114</td>\n",
       "    </tr>\n",
       "    <tr>\n",
       "      <th>music</th>\n",
       "      <td>168</td>\n",
       "    </tr>\n",
       "    <tr>\n",
       "      <th>native digital</th>\n",
       "      <td>69</td>\n",
       "    </tr>\n",
       "    <tr>\n",
       "      <th>salud</th>\n",
       "      <td>32</td>\n",
       "    </tr>\n",
       "    <tr>\n",
       "      <th>tecnología</th>\n",
       "      <td>11</td>\n",
       "    </tr>\n",
       "    <tr>\n",
       "      <th>tele</th>\n",
       "      <td>160</td>\n",
       "    </tr>\n",
       "    <tr>\n",
       "      <th>travel</th>\n",
       "      <td>27</td>\n",
       "    </tr>\n",
       "    <tr>\n",
       "      <th>vehículos</th>\n",
       "      <td>19</td>\n",
       "    </tr>\n",
       "    <tr>\n",
       "      <th>yoga</th>\n",
       "      <td>4</td>\n",
       "    </tr>\n",
       "    <tr>\n",
       "      <th>youtube</th>\n",
       "      <td>7</td>\n",
       "    </tr>\n",
       "  </tbody>\n",
       "</table>\n",
       "</div>"
      ],
      "text/plain": [
       "                       Account\n",
       "1ra Categoría                 \n",
       "actor/actress              213\n",
       "adventure                   25\n",
       "artist                      96\n",
       "bailarina                   60\n",
       "beauty                     181\n",
       "bebidas                     28\n",
       "blogger                     29\n",
       "celebrities                 94\n",
       "centennials                 14\n",
       "chef                        26\n",
       "deco                        85\n",
       "deporte                    328\n",
       "doctor                      28\n",
       "empresario                  18\n",
       "fashion                    167\n",
       "fitness                     42\n",
       "foodie                     366\n",
       "fotografo                   39\n",
       "gamer                       20\n",
       "gourmandsconhambre.ba        1\n",
       "healthy                     39\n",
       "humor                      192\n",
       "influencer                  98\n",
       "instagrammer               144\n",
       "jardin & botanica            2\n",
       "journalist                 135\n",
       "lifestyle                  192\n",
       "model                      231\n",
       "moms                       114\n",
       "music                      168\n",
       "native digital              69\n",
       "salud                       32\n",
       "tecnología                  11\n",
       "tele                       160\n",
       "travel                      27\n",
       "vehículos                   19\n",
       "yoga                         4\n",
       "youtube                      7"
      ]
     },
     "execution_count": 586,
     "metadata": {},
     "output_type": "execute_result"
    }
   ],
   "source": [
    "creadores_por_categoria = data_influencers[['1ra Categoría', 'Account']].groupby('1ra Categoría').count()\n",
    "creadores_por_categoria"
   ]
  },
  {
   "cell_type": "markdown",
   "metadata": {},
   "source": [
    "## Variable \"Tenemos datos?\""
   ]
  },
  {
   "cell_type": "code",
   "execution_count": 587,
   "metadata": {},
   "outputs": [],
   "source": [
    "data_influencers['Tenemos datos?'] = data_influencers['Tenemos datos?'].str.lower()"
   ]
  },
  {
   "cell_type": "code",
   "execution_count": 588,
   "metadata": {},
   "outputs": [
    {
     "name": "stdout",
     "output_type": "stream",
     "text": [
      " Las posibles alternativas para tener datos son: ['si' 'no' 'parcial']\n"
     ]
    }
   ],
   "source": [
    "print(f\" Las posibles alternativas para tener datos son: {data_influencers['Tenemos datos?'].unique()}\")"
   ]
  },
  {
   "cell_type": "code",
   "execution_count": 589,
   "metadata": {},
   "outputs": [
    {
     "data": {
      "text/html": [
       "<div>\n",
       "<style scoped>\n",
       "    .dataframe tbody tr th:only-of-type {\n",
       "        vertical-align: middle;\n",
       "    }\n",
       "\n",
       "    .dataframe tbody tr th {\n",
       "        vertical-align: top;\n",
       "    }\n",
       "\n",
       "    .dataframe thead th {\n",
       "        text-align: right;\n",
       "    }\n",
       "</style>\n",
       "<table border=\"1\" class=\"dataframe\">\n",
       "  <thead>\n",
       "    <tr style=\"text-align: right;\">\n",
       "      <th></th>\n",
       "      <th>Account</th>\n",
       "    </tr>\n",
       "    <tr>\n",
       "      <th>Tenemos datos?</th>\n",
       "      <th></th>\n",
       "    </tr>\n",
       "  </thead>\n",
       "  <tbody>\n",
       "    <tr>\n",
       "      <th>no</th>\n",
       "      <td>2390</td>\n",
       "    </tr>\n",
       "    <tr>\n",
       "      <th>parcial</th>\n",
       "      <td>236</td>\n",
       "    </tr>\n",
       "    <tr>\n",
       "      <th>si</th>\n",
       "      <td>878</td>\n",
       "    </tr>\n",
       "  </tbody>\n",
       "</table>\n",
       "</div>"
      ],
      "text/plain": [
       "                Account\n",
       "Tenemos datos?         \n",
       "no                 2390\n",
       "parcial             236\n",
       "si                  878"
      ]
     },
     "execution_count": 589,
     "metadata": {},
     "output_type": "execute_result"
    }
   ],
   "source": [
    "tenemos_datos = data_influencers[['Tenemos datos?', 'Account']].groupby('Tenemos datos?').count()\n",
    "tenemos_datos"
   ]
  },
  {
   "cell_type": "code",
   "execution_count": 590,
   "metadata": {},
   "outputs": [
    {
     "data": {
      "image/png": "[encoded data removed]",
      "text/plain": [
       "<Figure size 432x432 with 1 Axes>"
      ]
     },
     "metadata": {},
     "output_type": "display_data"
    }
   ],
   "source": [
    "tipo_de_dato = ['no', 'parcial','si']\n",
    "cantidad = [2390,236,879]\n",
    "plt.pie(cantidad, labels=tipo_de_dato)\n",
    "plt.show()"
   ]
  },
  {
   "cell_type": "markdown",
   "metadata": {},
   "source": [
    "#Con esta informacion desde la agencia ZZZ podemos ver que el departamento de Talent (quien se encarga del contacto con los talentos) no esta consiguiendo las metricas reales de la mayoria de los perfiles y deberiamos tomar accion en este aspecto"
   ]
  },
  {
   "cell_type": "markdown",
   "metadata": {},
   "source": [
    "## Base de datos: Resultados por Contenido"
   ]
  },
  {
   "cell_type": "markdown",
   "metadata": {},
   "source": [
    "En este DF vamos a ver por cada linea un contenido con sus KPIs reales logradas."
   ]
  },
  {
   "cell_type": "code",
   "execution_count": 542,
   "metadata": {},
   "outputs": [],
   "source": [
    "path_file2 = \"data/Base de datos Argentina  (1).xlsx\"\n",
    "data_resultados = pd.read_excel(path_file2)"
   ]
  },
  {
   "cell_type": "code",
   "execution_count": 543,
   "metadata": {},
   "outputs": [
    {
     "data": {
      "text/html": [
       "<div>\n",
       "<style scoped>\n",
       "    .dataframe tbody tr th:only-of-type {\n",
       "        vertical-align: middle;\n",
       "    }\n",
       "\n",
       "    .dataframe tbody tr th {\n",
       "        vertical-align: top;\n",
       "    }\n",
       "\n",
       "    .dataframe thead th {\n",
       "        text-align: right;\n",
       "    }\n",
       "</style>\n",
       "<table border=\"1\" class=\"dataframe\">\n",
       "  <thead>\n",
       "    <tr style=\"text-align: right;\">\n",
       "      <th></th>\n",
       "      <th>Account</th>\n",
       "      <th>Followers</th>\n",
       "      <th>Servicio</th>\n",
       "      <th>Alcance</th>\n",
       "      <th>Impresiones</th>\n",
       "      <th>Interacciones</th>\n",
       "      <th>Imp/alc</th>\n",
       "      <th>ER</th>\n",
       "      <th>Reach/foll</th>\n",
       "      <th>Plataforma</th>\n",
       "      <th>Marca</th>\n",
       "      <th>Acción</th>\n",
       "      <th>Fecha</th>\n",
       "    </tr>\n",
       "  </thead>\n",
       "  <tbody>\n",
       "    <tr>\n",
       "      <th>0</th>\n",
       "      <td>_agusbelmonte</td>\n",
       "      <td>32800</td>\n",
       "      <td>Post Foto</td>\n",
       "      <td>9167</td>\n",
       "      <td>11001.0</td>\n",
       "      <td>621.0</td>\n",
       "      <td>1.2</td>\n",
       "      <td>NaN</td>\n",
       "      <td>0.280000</td>\n",
       "      <td>Instagram</td>\n",
       "      <td>Ala</td>\n",
       "      <td>Sou</td>\n",
       "      <td>Feb - Mar 2022</td>\n",
       "    </tr>\n",
       "    <tr>\n",
       "      <th>1</th>\n",
       "      <td>_agusbelmonte</td>\n",
       "      <td>33000</td>\n",
       "      <td>Post Foto</td>\n",
       "      <td>7006</td>\n",
       "      <td>8407.0</td>\n",
       "      <td>296.0</td>\n",
       "      <td>1.2</td>\n",
       "      <td>0.035</td>\n",
       "      <td>0.210000</td>\n",
       "      <td>Instagram</td>\n",
       "      <td>Eucerin</td>\n",
       "      <td>Curitas</td>\n",
       "      <td>2022-06-01 00:00:00</td>\n",
       "    </tr>\n",
       "    <tr>\n",
       "      <th>2</th>\n",
       "      <td>_agusbelmonte</td>\n",
       "      <td>32400</td>\n",
       "      <td>Story Foto</td>\n",
       "      <td>3159</td>\n",
       "      <td>3244.0</td>\n",
       "      <td>50.0</td>\n",
       "      <td>1.03</td>\n",
       "      <td>NaN</td>\n",
       "      <td>0.097500</td>\n",
       "      <td>Instagram</td>\n",
       "      <td>ALA</td>\n",
       "      <td>SOU</td>\n",
       "      <td>2021-07-01 00:00:00</td>\n",
       "    </tr>\n",
       "    <tr>\n",
       "      <th>3</th>\n",
       "      <td>_agusbelmonte</td>\n",
       "      <td>32400</td>\n",
       "      <td>Story Foto</td>\n",
       "      <td>3230</td>\n",
       "      <td>3313.0</td>\n",
       "      <td>50.0</td>\n",
       "      <td>1.03</td>\n",
       "      <td>NaN</td>\n",
       "      <td>0.099691</td>\n",
       "      <td>Instagram</td>\n",
       "      <td>ALA</td>\n",
       "      <td>SOU</td>\n",
       "      <td>2021-07-01 00:00:00</td>\n",
       "    </tr>\n",
       "    <tr>\n",
       "      <th>4</th>\n",
       "      <td>_agusbelmonte</td>\n",
       "      <td>32400</td>\n",
       "      <td>Story Foto</td>\n",
       "      <td>3397</td>\n",
       "      <td>3511.0</td>\n",
       "      <td>50.0</td>\n",
       "      <td>1.03</td>\n",
       "      <td>NaN</td>\n",
       "      <td>0.104846</td>\n",
       "      <td>Instagram</td>\n",
       "      <td>ALA</td>\n",
       "      <td>SOU</td>\n",
       "      <td>2021-07-01 00:00:00</td>\n",
       "    </tr>\n",
       "  </tbody>\n",
       "</table>\n",
       "</div>"
      ],
      "text/plain": [
       "         Account  Followers    Servicio  Alcance  Impresiones  Interacciones  \\\n",
       "0  _agusbelmonte      32800   Post Foto     9167      11001.0          621.0   \n",
       "1  _agusbelmonte      33000   Post Foto     7006       8407.0          296.0   \n",
       "2  _agusbelmonte      32400  Story Foto     3159       3244.0           50.0   \n",
       "3  _agusbelmonte      32400  Story Foto     3230       3313.0           50.0   \n",
       "4  _agusbelmonte      32400  Story Foto     3397       3511.0           50.0   \n",
       "\n",
       "  Imp/alc     ER  Reach/foll Plataforma    Marca   Acción                Fecha  \n",
       "0     1.2    NaN    0.280000  Instagram      Ala      Sou       Feb - Mar 2022  \n",
       "1     1.2  0.035    0.210000  Instagram  Eucerin  Curitas  2022-06-01 00:00:00  \n",
       "2    1.03    NaN    0.097500  Instagram      ALA      SOU  2021-07-01 00:00:00  \n",
       "3    1.03    NaN    0.099691  Instagram      ALA      SOU  2021-07-01 00:00:00  \n",
       "4    1.03    NaN    0.104846  Instagram      ALA      SOU  2021-07-01 00:00:00  "
      ]
     },
     "execution_count": 543,
     "metadata": {},
     "output_type": "execute_result"
    }
   ],
   "source": [
    "data_resultados.head()"
   ]
  },
  {
   "cell_type": "code",
   "execution_count": 544,
   "metadata": {},
   "outputs": [
    {
     "data": {
      "text/plain": [
       "Index([' Account', 'Followers', 'Servicio', 'Alcance', 'Impresiones',\n",
       "       'Interacciones', 'Imp/alc', 'ER', 'Reach/foll', 'Plataforma', 'Marca',\n",
       "       'Acción', 'Fecha'],\n",
       "      dtype='object')"
      ]
     },
     "execution_count": 544,
     "metadata": {},
     "output_type": "execute_result"
    }
   ],
   "source": [
    "data_resultados.columns"
   ]
  },
  {
   "cell_type": "code",
   "execution_count": 545,
   "metadata": {},
   "outputs": [
    {
     "name": "stdout",
     "output_type": "stream",
     "text": [
      " El dataframe es un excel con data de los influencers argentinos por plataforma. En el dataset hay 13129 filas y 13 columnas. Los tipos de datos por columnas son  Account          object\n",
      "Followers          int64\n",
      "Servicio          object\n",
      "Alcance            int64\n",
      "Impresiones      float64\n",
      "Interacciones    float64\n",
      "Imp/alc           object\n",
      "ER                object\n",
      "Reach/foll       float64\n",
      "Plataforma        object\n",
      "Marca             object\n",
      "Acción            object\n",
      "Fecha             object\n",
      "dtype: object\n"
     ]
    }
   ],
   "source": [
    "print(f\" El dataframe es un excel con data de los influencers argentinos por plataforma. En el dataset hay {data_resultados.shape[0]} filas y {data_resultados.shape[1]} columnas. Los tipos de datos por columnas son {data_resultados.dtypes}\")"
   ]
  },
  {
   "cell_type": "markdown",
   "metadata": {},
   "source": [
    "Para analizar los NaN por columnas."
   ]
  },
  {
   "cell_type": "code",
   "execution_count": 546,
   "metadata": {},
   "outputs": [
    {
     "data": {
      "text/plain": [
       " Account             0\n",
       "Followers            0\n",
       "Servicio             0\n",
       "Alcance              0\n",
       "Impresiones          1\n",
       "Interacciones      372\n",
       "Imp/alc             32\n",
       "ER               10962\n",
       "Reach/foll           0\n",
       "Plataforma           0\n",
       "Marca                0\n",
       "Acción             169\n",
       "Fecha                0\n",
       "dtype: int64"
      ]
     },
     "execution_count": 546,
     "metadata": {},
     "output_type": "execute_result"
    }
   ],
   "source": [
    "data_resultados.isna().sum()"
   ]
  },
  {
   "cell_type": "markdown",
   "metadata": {},
   "source": [
    "Las columnas de reach/foll, Imp/alc y ER podemos eliminarlas y calcularlas desde python para asegurarnos que no existan errores. Por lo cual vamos a eliminarlas y volver a agregarlas"
   ]
  },
  {
   "cell_type": "code",
   "execution_count": 547,
   "metadata": {},
   "outputs": [
    {
     "data": {
      "text/html": [
       "<div>\n",
       "<style scoped>\n",
       "    .dataframe tbody tr th:only-of-type {\n",
       "        vertical-align: middle;\n",
       "    }\n",
       "\n",
       "    .dataframe tbody tr th {\n",
       "        vertical-align: top;\n",
       "    }\n",
       "\n",
       "    .dataframe thead th {\n",
       "        text-align: right;\n",
       "    }\n",
       "</style>\n",
       "<table border=\"1\" class=\"dataframe\">\n",
       "  <thead>\n",
       "    <tr style=\"text-align: right;\">\n",
       "      <th></th>\n",
       "      <th>Account</th>\n",
       "      <th>Followers</th>\n",
       "      <th>Servicio</th>\n",
       "      <th>Alcance</th>\n",
       "      <th>Impresiones</th>\n",
       "      <th>Interacciones</th>\n",
       "      <th>Plataforma</th>\n",
       "      <th>Marca</th>\n",
       "      <th>Acción</th>\n",
       "      <th>Fecha</th>\n",
       "    </tr>\n",
       "  </thead>\n",
       "  <tbody>\n",
       "    <tr>\n",
       "      <th>0</th>\n",
       "      <td>_agusbelmonte</td>\n",
       "      <td>32800</td>\n",
       "      <td>Post Foto</td>\n",
       "      <td>9167</td>\n",
       "      <td>11001.0</td>\n",
       "      <td>621.000</td>\n",
       "      <td>Instagram</td>\n",
       "      <td>Ala</td>\n",
       "      <td>Sou</td>\n",
       "      <td>Feb - Mar 2022</td>\n",
       "    </tr>\n",
       "    <tr>\n",
       "      <th>1</th>\n",
       "      <td>_agusbelmonte</td>\n",
       "      <td>33000</td>\n",
       "      <td>Post Foto</td>\n",
       "      <td>7006</td>\n",
       "      <td>8407.0</td>\n",
       "      <td>296.000</td>\n",
       "      <td>Instagram</td>\n",
       "      <td>Eucerin</td>\n",
       "      <td>Curitas</td>\n",
       "      <td>2022-06-01 00:00:00</td>\n",
       "    </tr>\n",
       "    <tr>\n",
       "      <th>2</th>\n",
       "      <td>_agusbelmonte</td>\n",
       "      <td>32400</td>\n",
       "      <td>Story Foto</td>\n",
       "      <td>3159</td>\n",
       "      <td>3244.0</td>\n",
       "      <td>50.000</td>\n",
       "      <td>Instagram</td>\n",
       "      <td>ALA</td>\n",
       "      <td>SOU</td>\n",
       "      <td>2021-07-01 00:00:00</td>\n",
       "    </tr>\n",
       "    <tr>\n",
       "      <th>3</th>\n",
       "      <td>_agusbelmonte</td>\n",
       "      <td>32400</td>\n",
       "      <td>Story Foto</td>\n",
       "      <td>3230</td>\n",
       "      <td>3313.0</td>\n",
       "      <td>50.000</td>\n",
       "      <td>Instagram</td>\n",
       "      <td>ALA</td>\n",
       "      <td>SOU</td>\n",
       "      <td>2021-07-01 00:00:00</td>\n",
       "    </tr>\n",
       "    <tr>\n",
       "      <th>4</th>\n",
       "      <td>_agusbelmonte</td>\n",
       "      <td>32400</td>\n",
       "      <td>Story Foto</td>\n",
       "      <td>3397</td>\n",
       "      <td>3511.0</td>\n",
       "      <td>50.000</td>\n",
       "      <td>Instagram</td>\n",
       "      <td>ALA</td>\n",
       "      <td>SOU</td>\n",
       "      <td>2021-07-01 00:00:00</td>\n",
       "    </tr>\n",
       "    <tr>\n",
       "      <th>...</th>\n",
       "      <td>...</td>\n",
       "      <td>...</td>\n",
       "      <td>...</td>\n",
       "      <td>...</td>\n",
       "      <td>...</td>\n",
       "      <td>...</td>\n",
       "      <td>...</td>\n",
       "      <td>...</td>\n",
       "      <td>...</td>\n",
       "      <td>...</td>\n",
       "    </tr>\n",
       "    <tr>\n",
       "      <th>13124</th>\n",
       "      <td>merydelcerrok</td>\n",
       "      <td>2600000</td>\n",
       "      <td>Story Foto</td>\n",
       "      <td>158664</td>\n",
       "      <td>19798.0</td>\n",
       "      <td>4.033</td>\n",
       "      <td>Instagram</td>\n",
       "      <td>Tresemmé</td>\n",
       "      <td>Amplificación</td>\n",
       "      <td>2020-01-12 00:00:00</td>\n",
       "    </tr>\n",
       "    <tr>\n",
       "      <th>13125</th>\n",
       "      <td>merydelcerrok</td>\n",
       "      <td>2600000</td>\n",
       "      <td>Story Foto</td>\n",
       "      <td>166656</td>\n",
       "      <td>198156.0</td>\n",
       "      <td>1.294</td>\n",
       "      <td>Instagram</td>\n",
       "      <td>Tresemmé</td>\n",
       "      <td>Amplificación</td>\n",
       "      <td>2020-01-12 00:00:00</td>\n",
       "    </tr>\n",
       "    <tr>\n",
       "      <th>13126</th>\n",
       "      <td>merydelcerrok</td>\n",
       "      <td>2600000</td>\n",
       "      <td>Story Foto</td>\n",
       "      <td>105563</td>\n",
       "      <td>127547.0</td>\n",
       "      <td>3.921</td>\n",
       "      <td>Instagram</td>\n",
       "      <td>Tresemmé</td>\n",
       "      <td>Amplificación</td>\n",
       "      <td>2020-01-12 00:00:00</td>\n",
       "    </tr>\n",
       "    <tr>\n",
       "      <th>13127</th>\n",
       "      <td>merydelcerrok</td>\n",
       "      <td>2600000</td>\n",
       "      <td>Story Foto</td>\n",
       "      <td>154646</td>\n",
       "      <td>194407.0</td>\n",
       "      <td>4.850</td>\n",
       "      <td>Instagram</td>\n",
       "      <td>Tresemmé</td>\n",
       "      <td>Amplificación</td>\n",
       "      <td>2020-01-12 00:00:00</td>\n",
       "    </tr>\n",
       "    <tr>\n",
       "      <th>13128</th>\n",
       "      <td>merydelcerrok</td>\n",
       "      <td>2600000</td>\n",
       "      <td>Story Foto</td>\n",
       "      <td>129052</td>\n",
       "      <td>150055.0</td>\n",
       "      <td>1.913</td>\n",
       "      <td>Instagram</td>\n",
       "      <td>Tresemmé</td>\n",
       "      <td>Amplificación</td>\n",
       "      <td>2020-01-12 00:00:00</td>\n",
       "    </tr>\n",
       "  </tbody>\n",
       "</table>\n",
       "<p>13129 rows × 10 columns</p>\n",
       "</div>"
      ],
      "text/plain": [
       "             Account  Followers    Servicio  Alcance  Impresiones  \\\n",
       "0      _agusbelmonte      32800   Post Foto     9167      11001.0   \n",
       "1      _agusbelmonte      33000   Post Foto     7006       8407.0   \n",
       "2      _agusbelmonte      32400  Story Foto     3159       3244.0   \n",
       "3      _agusbelmonte      32400  Story Foto     3230       3313.0   \n",
       "4      _agusbelmonte      32400  Story Foto     3397       3511.0   \n",
       "...              ...        ...         ...      ...          ...   \n",
       "13124  merydelcerrok    2600000  Story Foto   158664      19798.0   \n",
       "13125  merydelcerrok    2600000  Story Foto   166656     198156.0   \n",
       "13126  merydelcerrok    2600000  Story Foto   105563     127547.0   \n",
       "13127  merydelcerrok    2600000  Story Foto   154646     194407.0   \n",
       "13128  merydelcerrok    2600000  Story Foto   129052     150055.0   \n",
       "\n",
       "       Interacciones Plataforma     Marca         Acción                Fecha  \n",
       "0            621.000  Instagram       Ala            Sou       Feb - Mar 2022  \n",
       "1            296.000  Instagram   Eucerin        Curitas  2022-06-01 00:00:00  \n",
       "2             50.000  Instagram       ALA            SOU  2021-07-01 00:00:00  \n",
       "3             50.000  Instagram       ALA            SOU  2021-07-01 00:00:00  \n",
       "4             50.000  Instagram       ALA            SOU  2021-07-01 00:00:00  \n",
       "...              ...        ...       ...            ...                  ...  \n",
       "13124          4.033  Instagram  Tresemmé  Amplificación  2020-01-12 00:00:00  \n",
       "13125          1.294  Instagram  Tresemmé  Amplificación  2020-01-12 00:00:00  \n",
       "13126          3.921  Instagram  Tresemmé  Amplificación  2020-01-12 00:00:00  \n",
       "13127          4.850  Instagram  Tresemmé  Amplificación  2020-01-12 00:00:00  \n",
       "13128          1.913  Instagram  Tresemmé  Amplificación  2020-01-12 00:00:00  \n",
       "\n",
       "[13129 rows x 10 columns]"
      ]
     },
     "execution_count": 547,
     "metadata": {},
     "output_type": "execute_result"
    }
   ],
   "source": [
    "data_resultados = data_resultados.drop(['Reach/foll','Imp/alc','ER'], axis=1)\n",
    "data_resultados"
   ]
  },
  {
   "cell_type": "code",
   "execution_count": 548,
   "metadata": {},
   "outputs": [],
   "source": [
    "data_resultados[\"reach/foll\"] = data_resultados['Alcance']/data_resultados['Followers']"
   ]
  },
  {
   "cell_type": "code",
   "execution_count": 549,
   "metadata": {},
   "outputs": [],
   "source": [
    "data_resultados['Imp/Alc'] = data_resultados['Impresiones'] / data_resultados['Alcance']"
   ]
  },
  {
   "cell_type": "code",
   "execution_count": 550,
   "metadata": {},
   "outputs": [],
   "source": [
    "data_resultados['ER'] = data_resultados['Interacciones'] / data_resultados['Impresiones']"
   ]
  },
  {
   "cell_type": "markdown",
   "metadata": {},
   "source": [
    "Para analizar si las columnsa se agregaron y si los datos de ER son los correctos"
   ]
  },
  {
   "cell_type": "code",
   "execution_count": 551,
   "metadata": {},
   "outputs": [
    {
     "data": {
      "text/html": [
       "<div>\n",
       "<style scoped>\n",
       "    .dataframe tbody tr th:only-of-type {\n",
       "        vertical-align: middle;\n",
       "    }\n",
       "\n",
       "    .dataframe tbody tr th {\n",
       "        vertical-align: top;\n",
       "    }\n",
       "\n",
       "    .dataframe thead th {\n",
       "        text-align: right;\n",
       "    }\n",
       "</style>\n",
       "<table border=\"1\" class=\"dataframe\">\n",
       "  <thead>\n",
       "    <tr style=\"text-align: right;\">\n",
       "      <th></th>\n",
       "      <th>Account</th>\n",
       "      <th>Followers</th>\n",
       "      <th>Servicio</th>\n",
       "      <th>Alcance</th>\n",
       "      <th>Impresiones</th>\n",
       "      <th>Interacciones</th>\n",
       "      <th>Plataforma</th>\n",
       "      <th>Marca</th>\n",
       "      <th>Acción</th>\n",
       "      <th>Fecha</th>\n",
       "      <th>reach/foll</th>\n",
       "      <th>Imp/Alc</th>\n",
       "      <th>ER</th>\n",
       "    </tr>\n",
       "  </thead>\n",
       "  <tbody>\n",
       "    <tr>\n",
       "      <th>248</th>\n",
       "      <td>cocinaglutenfree.ok</td>\n",
       "      <td>16300</td>\n",
       "      <td>Story Foto</td>\n",
       "      <td>1042</td>\n",
       "      <td>1411.0</td>\n",
       "      <td>2744.0</td>\n",
       "      <td>Instagram</td>\n",
       "      <td>???</td>\n",
       "      <td>Cross Food - covid (mar - abr)</td>\n",
       "      <td>2020-01-03 00:00:00</td>\n",
       "      <td>0.063926</td>\n",
       "      <td>1.354127</td>\n",
       "      <td>1.944720</td>\n",
       "    </tr>\n",
       "    <tr>\n",
       "      <th>5515</th>\n",
       "      <td>mariel_percossi</td>\n",
       "      <td>74600</td>\n",
       "      <td>Post Foto</td>\n",
       "      <td>4487</td>\n",
       "      <td>5026.0</td>\n",
       "      <td>6542.0</td>\n",
       "      <td>Instagram</td>\n",
       "      <td>Dove</td>\n",
       "      <td>D Red Wave 1</td>\n",
       "      <td>2020-01-12 00:00:00</td>\n",
       "      <td>0.060147</td>\n",
       "      <td>1.120125</td>\n",
       "      <td>1.301632</td>\n",
       "    </tr>\n",
       "    <tr>\n",
       "      <th>249</th>\n",
       "      <td>cocinaglutenfree.ok</td>\n",
       "      <td>16300</td>\n",
       "      <td>Story Foto</td>\n",
       "      <td>911</td>\n",
       "      <td>1166.0</td>\n",
       "      <td>1217.0</td>\n",
       "      <td>Instagram</td>\n",
       "      <td>???</td>\n",
       "      <td>Cross Food - covid (mar - abr)</td>\n",
       "      <td>2020-01-03 00:00:00</td>\n",
       "      <td>0.055890</td>\n",
       "      <td>1.279912</td>\n",
       "      <td>1.043739</td>\n",
       "    </tr>\n",
       "  </tbody>\n",
       "</table>\n",
       "</div>"
      ],
      "text/plain": [
       "                  Account  Followers    Servicio  Alcance  Impresiones  \\\n",
       "248   cocinaglutenfree.ok      16300  Story Foto     1042       1411.0   \n",
       "5515      mariel_percossi      74600   Post Foto     4487       5026.0   \n",
       "249   cocinaglutenfree.ok      16300  Story Foto      911       1166.0   \n",
       "\n",
       "      Interacciones Plataforma Marca                          Acción  \\\n",
       "248          2744.0  Instagram   ???  Cross Food - covid (mar - abr)   \n",
       "5515         6542.0  Instagram  Dove                    D Red Wave 1   \n",
       "249          1217.0  Instagram   ???  Cross Food - covid (mar - abr)   \n",
       "\n",
       "                    Fecha  reach/foll   Imp/Alc        ER  \n",
       "248   2020-01-03 00:00:00    0.063926  1.354127  1.944720  \n",
       "5515  2020-01-12 00:00:00    0.060147  1.120125  1.301632  \n",
       "249   2020-01-03 00:00:00    0.055890  1.279912  1.043739  "
      ]
     },
     "execution_count": 551,
     "metadata": {},
     "output_type": "execute_result"
    }
   ],
   "source": [
    "data_resultados.nlargest(3, 'ER')"
   ]
  },
  {
   "cell_type": "markdown",
   "metadata": {},
   "source": [
    "En este caso contar con ER mayores a 1 es un caso extraño. Por lo cual vamos a analizar las columnas"
   ]
  },
  {
   "cell_type": "code",
   "execution_count": 552,
   "metadata": {},
   "outputs": [
    {
     "data": {
      "text/html": [
       "<div>\n",
       "<style scoped>\n",
       "    .dataframe tbody tr th:only-of-type {\n",
       "        vertical-align: middle;\n",
       "    }\n",
       "\n",
       "    .dataframe tbody tr th {\n",
       "        vertical-align: top;\n",
       "    }\n",
       "\n",
       "    .dataframe thead th {\n",
       "        text-align: right;\n",
       "    }\n",
       "</style>\n",
       "<table border=\"1\" class=\"dataframe\">\n",
       "  <thead>\n",
       "    <tr style=\"text-align: right;\">\n",
       "      <th></th>\n",
       "      <th>Followers</th>\n",
       "      <th>Alcance</th>\n",
       "      <th>Impresiones</th>\n",
       "      <th>Interacciones</th>\n",
       "      <th>reach/foll</th>\n",
       "      <th>Imp/Alc</th>\n",
       "      <th>ER</th>\n",
       "    </tr>\n",
       "  </thead>\n",
       "  <tbody>\n",
       "    <tr>\n",
       "      <th>count</th>\n",
       "      <td>1.312900e+04</td>\n",
       "      <td>1.312900e+04</td>\n",
       "      <td>1.312800e+04</td>\n",
       "      <td>1.275700e+04</td>\n",
       "      <td>1.312900e+04</td>\n",
       "      <td>1.312800e+04</td>\n",
       "      <td>12756.000000</td>\n",
       "    </tr>\n",
       "    <tr>\n",
       "      <th>mean</th>\n",
       "      <td>4.201421e+05</td>\n",
       "      <td>2.626051e+10</td>\n",
       "      <td>6.621820e+04</td>\n",
       "      <td>2.135143e+03</td>\n",
       "      <td>2.254945e+05</td>\n",
       "      <td>1.574913e+00</td>\n",
       "      <td>0.017549</td>\n",
       "    </tr>\n",
       "    <tr>\n",
       "      <th>std</th>\n",
       "      <td>6.851198e+05</td>\n",
       "      <td>2.185055e+12</td>\n",
       "      <td>2.854645e+05</td>\n",
       "      <td>2.277314e+04</td>\n",
       "      <td>1.829109e+07</td>\n",
       "      <td>1.128001e+01</td>\n",
       "      <td>0.045844</td>\n",
       "    </tr>\n",
       "    <tr>\n",
       "      <th>min</th>\n",
       "      <td>1.837000e+03</td>\n",
       "      <td>9.600000e+01</td>\n",
       "      <td>1.190000e+02</td>\n",
       "      <td>0.000000e+00</td>\n",
       "      <td>3.692308e-05</td>\n",
       "      <td>1.150000e-10</td>\n",
       "      <td>0.000000</td>\n",
       "    </tr>\n",
       "    <tr>\n",
       "      <th>25%</th>\n",
       "      <td>5.500000e+04</td>\n",
       "      <td>4.233000e+03</td>\n",
       "      <td>4.674250e+03</td>\n",
       "      <td>1.100000e+01</td>\n",
       "      <td>4.783784e-02</td>\n",
       "      <td>1.020000e+00</td>\n",
       "      <td>0.001071</td>\n",
       "    </tr>\n",
       "    <tr>\n",
       "      <th>50%</th>\n",
       "      <td>1.310000e+05</td>\n",
       "      <td>1.116000e+04</td>\n",
       "      <td>1.224800e+04</td>\n",
       "      <td>4.500000e+01</td>\n",
       "      <td>8.764228e-02</td>\n",
       "      <td>1.080992e+00</td>\n",
       "      <td>0.003403</td>\n",
       "    </tr>\n",
       "    <tr>\n",
       "      <th>75%</th>\n",
       "      <td>4.350000e+05</td>\n",
       "      <td>3.792600e+04</td>\n",
       "      <td>4.288750e+04</td>\n",
       "      <td>2.210000e+02</td>\n",
       "      <td>1.619576e-01</td>\n",
       "      <td>1.154039e+00</td>\n",
       "      <td>0.014501</td>\n",
       "    </tr>\n",
       "    <tr>\n",
       "      <th>max</th>\n",
       "      <td>5.800000e+06</td>\n",
       "      <td>2.127217e+14</td>\n",
       "      <td>1.210862e+07</td>\n",
       "      <td>1.632528e+06</td>\n",
       "      <td>1.552713e+09</td>\n",
       "      <td>1.080552e+03</td>\n",
       "      <td>1.944720</td>\n",
       "    </tr>\n",
       "  </tbody>\n",
       "</table>\n",
       "</div>"
      ],
      "text/plain": [
       "          Followers       Alcance   Impresiones  Interacciones    reach/foll  \\\n",
       "count  1.312900e+04  1.312900e+04  1.312800e+04   1.275700e+04  1.312900e+04   \n",
       "mean   4.201421e+05  2.626051e+10  6.621820e+04   2.135143e+03  2.254945e+05   \n",
       "std    6.851198e+05  2.185055e+12  2.854645e+05   2.277314e+04  1.829109e+07   \n",
       "min    1.837000e+03  9.600000e+01  1.190000e+02   0.000000e+00  3.692308e-05   \n",
       "25%    5.500000e+04  4.233000e+03  4.674250e+03   1.100000e+01  4.783784e-02   \n",
       "50%    1.310000e+05  1.116000e+04  1.224800e+04   4.500000e+01  8.764228e-02   \n",
       "75%    4.350000e+05  3.792600e+04  4.288750e+04   2.210000e+02  1.619576e-01   \n",
       "max    5.800000e+06  2.127217e+14  1.210862e+07   1.632528e+06  1.552713e+09   \n",
       "\n",
       "            Imp/Alc            ER  \n",
       "count  1.312800e+04  12756.000000  \n",
       "mean   1.574913e+00      0.017549  \n",
       "std    1.128001e+01      0.045844  \n",
       "min    1.150000e-10      0.000000  \n",
       "25%    1.020000e+00      0.001071  \n",
       "50%    1.080992e+00      0.003403  \n",
       "75%    1.154039e+00      0.014501  \n",
       "max    1.080552e+03      1.944720  "
      ]
     },
     "execution_count": 552,
     "metadata": {},
     "output_type": "execute_result"
    }
   ],
   "source": [
    "data_resultados.describe()"
   ]
  },
  {
   "cell_type": "markdown",
   "metadata": {},
   "source": [
    "Aca podemos notar que el 75% llega a 0.01 de ER y el maximo esta en 1.94 por lo cual podemos creer que hay registros mal cargados. Para eso utilizaremos un boxplot"
   ]
  },
  {
   "cell_type": "code",
   "execution_count": 553,
   "metadata": {},
   "outputs": [
    {
     "name": "stderr",
     "output_type": "stream",
     "text": [
      "/Users/agustinajaz/opt/anaconda3/lib/python3.9/site-packages/seaborn/_decorators.py:36: FutureWarning: Pass the following variable as a keyword arg: x. From version 0.12, the only valid positional argument will be `data`, and passing other arguments without an explicit keyword will result in an error or misinterpretation.\n",
      "  warnings.warn(\n"
     ]
    },
    {
     "data": {
      "image/png": "[encoded data removed]",
      "text/plain": [
       "<Figure size 432x432 with 1 Axes>"
      ]
     },
     "metadata": {},
     "output_type": "display_data"
    }
   ],
   "source": [
    "sns.boxplot(data_influencers['ER']);"
   ]
  },
  {
   "cell_type": "markdown",
   "metadata": {},
   "source": [
    "Con este grafico podemos visualizar que existen datos \"normales\" hasta un ER de 0,04. Conociendo a la industria tiene logica, por lo cual vamos a filtar los datos que tengan un ER mayor a 0,4"
   ]
  },
  {
   "cell_type": "code",
   "execution_count": 554,
   "metadata": {},
   "outputs": [],
   "source": [
    "filtro_ER = data_resultados['ER'] <= 0.4\n",
    "data_resultados = data_resultados[filtro_ER]"
   ]
  },
  {
   "cell_type": "code",
   "execution_count": 555,
   "metadata": {},
   "outputs": [
    {
     "name": "stderr",
     "output_type": "stream",
     "text": [
      "/Users/agustinajaz/opt/anaconda3/lib/python3.9/site-packages/seaborn/_decorators.py:36: FutureWarning: Pass the following variable as a keyword arg: x. From version 0.12, the only valid positional argument will be `data`, and passing other arguments without an explicit keyword will result in an error or misinterpretation.\n",
      "  warnings.warn(\n"
     ]
    },
    {
     "data": {
      "image/png": "[encoded data removed]",
      "text/plain": [
       "<Figure size 432x432 with 1 Axes>"
      ]
     },
     "metadata": {},
     "output_type": "display_data"
    }
   ],
   "source": [
    "sns.boxplot(data_resultados['ER']);"
   ]
  },
  {
   "cell_type": "markdown",
   "metadata": {},
   "source": [
    "En este caso queremos analizar con que marcas trabaja la agencia ZZZ en Argentina"
   ]
  },
  {
   "cell_type": "code",
   "execution_count": 556,
   "metadata": {},
   "outputs": [
    {
     "data": {
      "text/plain": [
       "array(['ala', 'eucerin', 'sedal', 'vivere', 'skip', 'amex', 'dove',\n",
       "       'klorane', '???', 'clight', 'dkny', 'rexona', 'ath', 'cif',\n",
       "       'baby dove', 'pierre fabre', 'puig', 'maizena', 'energizer',\n",
       "       'cabify', 'tommy', 'amex\\xa0', 'milkaut', 'coderhouse', 'ufs',\n",
       "       'bagó', 'aperol', 'dermaglós', 'nivea', 'savora', 'ank',\n",
       "       'cencosud', 'naranja x', 'tang', 'unilever', 'adler', 'knorr',\n",
       "       'gps farma', 'gum', 'skip ', 'armorall', 'disco', \"hellmann's\",\n",
       "       'jumbo argentina', 'drogueria del sud', 'twdc', 'bagovit', 'stp',\n",
       "       'rexona ', 'estee lauder', 'savencia', 'tresemmé', 'mercado libre'],\n",
       "      dtype=object)"
      ]
     },
     "execution_count": 556,
     "metadata": {},
     "output_type": "execute_result"
    }
   ],
   "source": [
    "data_resultados['Marca'].str.lower().unique()"
   ]
  },
  {
   "cell_type": "markdown",
   "metadata": {},
   "source": [
    "En este caos queremos saber cuanto contenido es en Posteo y cuanto en Story"
   ]
  },
  {
   "cell_type": "code",
   "execution_count": 557,
   "metadata": {},
   "outputs": [
    {
     "data": {
      "text/html": [
       "<div>\n",
       "<style scoped>\n",
       "    .dataframe tbody tr th:only-of-type {\n",
       "        vertical-align: middle;\n",
       "    }\n",
       "\n",
       "    .dataframe tbody tr th {\n",
       "        vertical-align: top;\n",
       "    }\n",
       "\n",
       "    .dataframe thead th {\n",
       "        text-align: right;\n",
       "    }\n",
       "</style>\n",
       "<table border=\"1\" class=\"dataframe\">\n",
       "  <thead>\n",
       "    <tr style=\"text-align: right;\">\n",
       "      <th></th>\n",
       "      <th>Account</th>\n",
       "    </tr>\n",
       "    <tr>\n",
       "      <th>Servicio</th>\n",
       "      <th></th>\n",
       "    </tr>\n",
       "  </thead>\n",
       "  <tbody>\n",
       "    <tr>\n",
       "      <th>Post Foto</th>\n",
       "      <td>1963</td>\n",
       "    </tr>\n",
       "    <tr>\n",
       "      <th>Story Foto</th>\n",
       "      <td>10777</td>\n",
       "    </tr>\n",
       "  </tbody>\n",
       "</table>\n",
       "</div>"
      ],
      "text/plain": [
       "             Account\n",
       "Servicio            \n",
       "Post Foto       1963\n",
       "Story Foto     10777"
      ]
     },
     "execution_count": 557,
     "metadata": {},
     "output_type": "execute_result"
    }
   ],
   "source": [
    "tipo_contenido = data_resultados[['Servicio', ' Account']].groupby('Servicio').count()\n",
    "tipo_contenido"
   ]
  },
  {
   "cell_type": "code",
   "execution_count": 558,
   "metadata": {},
   "outputs": [
    {
     "data": {
      "image/png": "[encoded data removed]",
      "text/plain": [
       "<Figure size 432x432 with 1 Axes>"
      ]
     },
     "metadata": {},
     "output_type": "display_data"
    }
   ],
   "source": [
    "tipo_de_servio = ['Post Foto', 'Story Foto']\n",
    "cantidad_por_servicio = [1973, 11156]\n",
    "plt.pie(cantidad_por_servicio, labels=tipo_de_servio)\n",
    "plt.show()"
   ]
  },
  {
   "cell_type": "markdown",
   "metadata": {},
   "source": [
    "Y aca por plataforma:"
   ]
  },
  {
   "cell_type": "code",
   "execution_count": 559,
   "metadata": {},
   "outputs": [
    {
     "data": {
      "text/html": [
       "<div>\n",
       "<style scoped>\n",
       "    .dataframe tbody tr th:only-of-type {\n",
       "        vertical-align: middle;\n",
       "    }\n",
       "\n",
       "    .dataframe tbody tr th {\n",
       "        vertical-align: top;\n",
       "    }\n",
       "\n",
       "    .dataframe thead th {\n",
       "        text-align: right;\n",
       "    }\n",
       "</style>\n",
       "<table border=\"1\" class=\"dataframe\">\n",
       "  <thead>\n",
       "    <tr style=\"text-align: right;\">\n",
       "      <th></th>\n",
       "      <th>Account</th>\n",
       "    </tr>\n",
       "    <tr>\n",
       "      <th>Plataforma</th>\n",
       "      <th></th>\n",
       "    </tr>\n",
       "  </thead>\n",
       "  <tbody>\n",
       "    <tr>\n",
       "      <th>Facebook</th>\n",
       "      <td>3</td>\n",
       "    </tr>\n",
       "    <tr>\n",
       "      <th>Instagram</th>\n",
       "      <td>12658</td>\n",
       "    </tr>\n",
       "    <tr>\n",
       "      <th>TikTok</th>\n",
       "      <td>60</td>\n",
       "    </tr>\n",
       "    <tr>\n",
       "      <th>Tiktok</th>\n",
       "      <td>14</td>\n",
       "    </tr>\n",
       "    <tr>\n",
       "      <th>YouTube</th>\n",
       "      <td>3</td>\n",
       "    </tr>\n",
       "    <tr>\n",
       "      <th>Youtube</th>\n",
       "      <td>2</td>\n",
       "    </tr>\n",
       "  </tbody>\n",
       "</table>\n",
       "</div>"
      ],
      "text/plain": [
       "             Account\n",
       "Plataforma          \n",
       "Facebook           3\n",
       "Instagram      12658\n",
       "TikTok            60\n",
       "Tiktok            14\n",
       "YouTube            3\n",
       "Youtube            2"
      ]
     },
     "execution_count": 559,
     "metadata": {},
     "output_type": "execute_result"
    }
   ],
   "source": [
    "contenido_plataforma = data_resultados[['Plataforma', ' Account']].groupby('Plataforma').count()\n",
    "contenido_plataforma"
   ]
  },
  {
   "cell_type": "markdown",
   "metadata": {},
   "source": [
    "Pero como hay plataformas con distinta nomenclatura vamos a pasar todas a minuscula"
   ]
  },
  {
   "cell_type": "code",
   "execution_count": 560,
   "metadata": {},
   "outputs": [
    {
     "name": "stderr",
     "output_type": "stream",
     "text": [
      "/var/folders/wc/9rg8g9gx0ns94q3_b9h1yp1w0000gn/T/ipykernel_2933/3265431105.py:1: SettingWithCopyWarning: \n",
      "A value is trying to be set on a copy of a slice from a DataFrame.\n",
      "Try using .loc[row_indexer,col_indexer] = value instead\n",
      "\n",
      "See the caveats in the documentation: https://pandas.pydata.org/pandas-docs/stable/user_guide/indexing.html#returning-a-view-versus-a-copy\n",
      "  data_resultados['Plataforma'] = data_resultados['Plataforma'].str.lower()\n"
     ]
    }
   ],
   "source": [
    "data_resultados['Plataforma'] = data_resultados['Plataforma'].str.lower()"
   ]
  },
  {
   "cell_type": "code",
   "execution_count": 561,
   "metadata": {},
   "outputs": [
    {
     "data": {
      "text/html": [
       "<div>\n",
       "<style scoped>\n",
       "    .dataframe tbody tr th:only-of-type {\n",
       "        vertical-align: middle;\n",
       "    }\n",
       "\n",
       "    .dataframe tbody tr th {\n",
       "        vertical-align: top;\n",
       "    }\n",
       "\n",
       "    .dataframe thead th {\n",
       "        text-align: right;\n",
       "    }\n",
       "</style>\n",
       "<table border=\"1\" class=\"dataframe\">\n",
       "  <thead>\n",
       "    <tr style=\"text-align: right;\">\n",
       "      <th></th>\n",
       "      <th>Account</th>\n",
       "    </tr>\n",
       "    <tr>\n",
       "      <th>Plataforma</th>\n",
       "      <th></th>\n",
       "    </tr>\n",
       "  </thead>\n",
       "  <tbody>\n",
       "    <tr>\n",
       "      <th>facebook</th>\n",
       "      <td>3</td>\n",
       "    </tr>\n",
       "    <tr>\n",
       "      <th>instagram</th>\n",
       "      <td>12658</td>\n",
       "    </tr>\n",
       "    <tr>\n",
       "      <th>tiktok</th>\n",
       "      <td>74</td>\n",
       "    </tr>\n",
       "    <tr>\n",
       "      <th>youtube</th>\n",
       "      <td>5</td>\n",
       "    </tr>\n",
       "  </tbody>\n",
       "</table>\n",
       "</div>"
      ],
      "text/plain": [
       "             Account\n",
       "Plataforma          \n",
       "facebook           3\n",
       "instagram      12658\n",
       "tiktok            74\n",
       "youtube            5"
      ]
     },
     "execution_count": 561,
     "metadata": {},
     "output_type": "execute_result"
    }
   ],
   "source": [
    "contenido_plataforma = data_resultados[['Plataforma', ' Account']].groupby('Plataforma').count()\n",
    "contenido_plataforma"
   ]
  }
 ],
 "metadata": {
  "kernelspec": {
   "display_name": "Python 3 (ipykernel)",
   "language": "python",
   "name": "python3"
  },
  "language_info": {
   "codemirror_mode": {
    "name": "ipython",
    "version": 3
   },
   "file_extension": ".py",
   "mimetype": "text/x-python",
   "name": "python",
   "nbconvert_exporter": "python",
   "pygments_lexer": "ipython3",
   "version": "3.9.12"
  }
 },
 "nbformat": 4,
 "nbformat_minor": 1
}
